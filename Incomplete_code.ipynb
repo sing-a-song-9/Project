{
  "nbformat": 4,
  "nbformat_minor": 0,
  "metadata": {
    "colab": {
      "provenance": [],
      "collapsed_sections": []
    },
    "kernelspec": {
      "name": "python3",
      "display_name": "Python 3"
    },
    "language_info": {
      "name": "python"
    },
    "widgets": {
      "application/vnd.jupyter.widget-state+json": {
        "0afda91dd2e2421c811cb7501caef21d": {
          "model_module": "catboost-widget",
          "model_name": "CatboostWidgetModel",
          "model_module_version": "^1.0.0",
          "state": {
            "_dom_classes": [],
            "_model_module": "catboost-widget",
            "_model_module_version": "^1.0.0",
            "_model_name": "CatboostWidgetModel",
            "_view_count": null,
            "_view_module": "catboost-widget",
            "_view_module_version": "^1.0.0",
            "_view_name": "CatboostWidgetView",
            "data": {
              "catboost_info": {
                "path": "catboost_info",
                "name": "catboost_info",
                "content": {
                  "passed_iterations": 999,
                  "total_iterations": 1000,
                  "data": {
                    "iterations": [
                      {
                        "learn": [
                          0.5796442938
                        ],
                        "iteration": 0,
                        "passed_time": 0.4103699367,
                        "remaining_time": 409.9595668,
                        "test": [
                          0.5796787055
                        ]
                      },
                      {
                        "learn": [
                          0.4911202124
                        ],
                        "iteration": 1,
                        "passed_time": 0.7500294856,
                        "remaining_time": 374.2647133,
                        "test": [
                          0.4911829848
                        ]
                      },
                      {
                        "learn": [
                          0.4201868842
                        ],
                        "iteration": 2,
                        "passed_time": 1.104839393,
                        "remaining_time": 367.1749583,
                        "test": [
                          0.4202778155
                        ]
                      },
                      {
                        "learn": [
                          0.3623114415
                        ],
                        "iteration": 3,
                        "passed_time": 1.428003306,
                        "remaining_time": 355.5728231,
                        "test": [
                          0.3624223867
                        ]
                      },
                      {
                        "learn": [
                          0.3144189998
                        ],
                        "iteration": 4,
                        "passed_time": 1.75967906,
                        "remaining_time": 350.1761329,
                        "test": [
                          0.3145540791
                        ]
                      },
                      {
                        "learn": [
                          0.2744292122
                        ],
                        "iteration": 5,
                        "passed_time": 2.107167895,
                        "remaining_time": 349.0874812,
                        "test": [
                          0.2745845552
                        ]
                      },
                      {
                        "learn": [
                          0.2405675451
                        ],
                        "iteration": 6,
                        "passed_time": 2.450366005,
                        "remaining_time": 347.6019204,
                        "test": [
                          0.2407294331
                        ]
                      },
                      {
                        "learn": [
                          0.2119093034
                        ],
                        "iteration": 7,
                        "passed_time": 2.794094707,
                        "remaining_time": 346.4677437,
                        "test": [
                          0.212086657
                        ]
                      },
                      {
                        "learn": [
                          0.187385047
                        ],
                        "iteration": 8,
                        "passed_time": 3.163531206,
                        "remaining_time": 348.3399361,
                        "test": [
                          0.1875684531
                        ]
                      },
                      {
                        "learn": [
                          0.1663718249
                        ],
                        "iteration": 9,
                        "passed_time": 3.515193763,
                        "remaining_time": 348.0041825,
                        "test": [
                          0.166563027
                        ]
                      },
                      {
                        "learn": [
                          0.1485036383
                        ],
                        "iteration": 10,
                        "passed_time": 3.82555341,
                        "remaining_time": 343.9520293,
                        "test": [
                          0.1487106864
                        ]
                      },
                      {
                        "learn": [
                          0.1330767662
                        ],
                        "iteration": 11,
                        "passed_time": 4.172495202,
                        "remaining_time": 343.5354383,
                        "test": [
                          0.1332983205
                        ]
                      },
                      {
                        "learn": [
                          0.1195361677
                        ],
                        "iteration": 12,
                        "passed_time": 4.529647141,
                        "remaining_time": 343.9047483,
                        "test": [
                          0.1197545696
                        ]
                      },
                      {
                        "learn": [
                          0.10782408
                        ],
                        "iteration": 13,
                        "passed_time": 4.936639018,
                        "remaining_time": 347.6804337,
                        "test": [
                          0.1080428446
                        ]
                      },
                      {
                        "learn": [
                          0.09760541929
                        ],
                        "iteration": 14,
                        "passed_time": 5.370045219,
                        "remaining_time": 352.6329694,
                        "test": [
                          0.09782182763
                        ]
                      },
                      {
                        "learn": [
                          0.08865065074
                        ],
                        "iteration": 15,
                        "passed_time": 5.730732082,
                        "remaining_time": 352.440023,
                        "test": [
                          0.08886931755
                        ]
                      },
                      {
                        "learn": [
                          0.08086539156
                        ],
                        "iteration": 16,
                        "passed_time": 6.144203405,
                        "remaining_time": 355.2795263,
                        "test": [
                          0.08108090298
                        ]
                      },
                      {
                        "learn": [
                          0.0741003972
                        ],
                        "iteration": 17,
                        "passed_time": 6.518650305,
                        "remaining_time": 355.6285889,
                        "test": [
                          0.07430884838
                        ]
                      },
                      {
                        "learn": [
                          0.06846877034
                        ],
                        "iteration": 18,
                        "passed_time": 6.852997901,
                        "remaining_time": 353.8311022,
                        "test": [
                          0.06868687581
                        ]
                      },
                      {
                        "learn": [
                          0.06328585531
                        ],
                        "iteration": 19,
                        "passed_time": 7.240832329,
                        "remaining_time": 354.8007841,
                        "test": [
                          0.06350272478
                        ]
                      },
                      {
                        "learn": [
                          0.05874235609
                        ],
                        "iteration": 20,
                        "passed_time": 7.618389247,
                        "remaining_time": 355.1620511,
                        "test": [
                          0.05895136364
                        ]
                      },
                      {
                        "learn": [
                          0.05479997744
                        ],
                        "iteration": 21,
                        "passed_time": 7.99171389,
                        "remaining_time": 355.2680084,
                        "test": [
                          0.05500253951
                        ]
                      },
                      {
                        "learn": [
                          0.05139593152
                        ],
                        "iteration": 22,
                        "passed_time": 8.350756724,
                        "remaining_time": 354.7256226,
                        "test": [
                          0.05159947455
                        ]
                      },
                      {
                        "learn": [
                          0.04844388376
                        ],
                        "iteration": 23,
                        "passed_time": 8.707311247,
                        "remaining_time": 354.097324,
                        "test": [
                          0.04863665239
                        ]
                      },
                      {
                        "learn": [
                          0.04572039876
                        ],
                        "iteration": 24,
                        "passed_time": 9.070111066,
                        "remaining_time": 353.7343316,
                        "test": [
                          0.04591215222
                        ]
                      },
                      {
                        "learn": [
                          0.0435856875
                        ],
                        "iteration": 25,
                        "passed_time": 9.408589448,
                        "remaining_time": 352.4602355,
                        "test": [
                          0.04379053324
                        ]
                      },
                      {
                        "learn": [
                          0.04154862843
                        ],
                        "iteration": 26,
                        "passed_time": 9.747300071,
                        "remaining_time": 351.2638137,
                        "test": [
                          0.04175506225
                        ]
                      },
                      {
                        "learn": [
                          0.03972543663
                        ],
                        "iteration": 27,
                        "passed_time": 10.08826019,
                        "remaining_time": 350.2067468,
                        "test": [
                          0.03993596947
                        ]
                      },
                      {
                        "learn": [
                          0.03812277576
                        ],
                        "iteration": 28,
                        "passed_time": 10.45754293,
                        "remaining_time": 350.1473857,
                        "test": [
                          0.03832958346
                        ]
                      },
                      {
                        "learn": [
                          0.036695954
                        ],
                        "iteration": 29,
                        "passed_time": 10.81623859,
                        "remaining_time": 349.7250478,
                        "test": [
                          0.03689847309
                        ]
                      },
                      {
                        "learn": [
                          0.03549009682
                        ],
                        "iteration": 30,
                        "passed_time": 11.16764319,
                        "remaining_time": 349.0789113,
                        "test": [
                          0.03568183849
                        ]
                      },
                      {
                        "learn": [
                          0.03450405122
                        ],
                        "iteration": 31,
                        "passed_time": 11.50098867,
                        "remaining_time": 347.9049071,
                        "test": [
                          0.03468960171
                        ]
                      },
                      {
                        "learn": [
                          0.03355347583
                        ],
                        "iteration": 32,
                        "passed_time": 11.85461796,
                        "remaining_time": 347.3762293,
                        "test": [
                          0.03372496637
                        ]
                      },
                      {
                        "learn": [
                          0.03266485635
                        ],
                        "iteration": 33,
                        "passed_time": 12.22631718,
                        "remaining_time": 347.3712471,
                        "test": [
                          0.03283019365
                        ]
                      },
                      {
                        "learn": [
                          0.03193959903
                        ],
                        "iteration": 34,
                        "passed_time": 12.57006891,
                        "remaining_time": 346.5747571,
                        "test": [
                          0.03210912427
                        ]
                      },
                      {
                        "learn": [
                          0.03146455921
                        ],
                        "iteration": 35,
                        "passed_time": 12.88091249,
                        "remaining_time": 344.9222123,
                        "test": [
                          0.03164087491
                        ]
                      },
                      {
                        "learn": [
                          0.03085513796
                        ],
                        "iteration": 36,
                        "passed_time": 13.25467814,
                        "remaining_time": 344.9798661,
                        "test": [
                          0.0310271637
                        ]
                      },
                      {
                        "learn": [
                          0.03030275149
                        ],
                        "iteration": 37,
                        "passed_time": 13.61944433,
                        "remaining_time": 344.7869854,
                        "test": [
                          0.03047362462
                        ]
                      },
                      {
                        "learn": [
                          0.02988274896
                        ],
                        "iteration": 38,
                        "passed_time": 13.95730914,
                        "remaining_time": 343.9224124,
                        "test": [
                          0.0300522434
                        ]
                      },
                      {
                        "learn": [
                          0.02954895097
                        ],
                        "iteration": 39,
                        "passed_time": 14.2799075,
                        "remaining_time": 342.71778,
                        "test": [
                          0.02972184164
                        ]
                      },
                      {
                        "learn": [
                          0.02920895956
                        ],
                        "iteration": 40,
                        "passed_time": 14.6255701,
                        "remaining_time": 342.0956518,
                        "test": [
                          0.02937648002
                        ]
                      },
                      {
                        "learn": [
                          0.02889394918
                        ],
                        "iteration": 41,
                        "passed_time": 14.97367719,
                        "remaining_time": 341.5424464,
                        "test": [
                          0.02906010032
                        ]
                      },
                      {
                        "learn": [
                          0.02860990514
                        ],
                        "iteration": 42,
                        "passed_time": 15.35659223,
                        "remaining_time": 341.7734597,
                        "test": [
                          0.02876873454
                        ]
                      },
                      {
                        "learn": [
                          0.02838163838
                        ],
                        "iteration": 43,
                        "passed_time": 15.68736026,
                        "remaining_time": 340.8435548,
                        "test": [
                          0.02853829173
                        ]
                      },
                      {
                        "learn": [
                          0.02822373398
                        ],
                        "iteration": 44,
                        "passed_time": 16.00194443,
                        "remaining_time": 339.5968207,
                        "test": [
                          0.02838405061
                        ]
                      },
                      {
                        "learn": [
                          0.02810801037
                        ],
                        "iteration": 45,
                        "passed_time": 16.32547735,
                        "remaining_time": 338.5762041,
                        "test": [
                          0.02827289209
                        ]
                      },
                      {
                        "learn": [
                          0.02790863625
                        ],
                        "iteration": 46,
                        "passed_time": 17.25415334,
                        "remaining_time": 349.8554922,
                        "test": [
                          0.02806916628
                        ]
                      },
                      {
                        "learn": [
                          0.02778402535
                        ],
                        "iteration": 47,
                        "passed_time": 17.5966637,
                        "remaining_time": 349.0004967,
                        "test": [
                          0.02794249889
                        ]
                      },
                      {
                        "learn": [
                          0.02768603363
                        ],
                        "iteration": 48,
                        "passed_time": 18.52668536,
                        "remaining_time": 359.5689343,
                        "test": [
                          0.02784118928
                        ]
                      },
                      {
                        "learn": [
                          0.02752428923
                        ],
                        "iteration": 49,
                        "passed_time": 18.85085897,
                        "remaining_time": 358.1663204,
                        "test": [
                          0.02768444051
                        ]
                      },
                      {
                        "learn": [
                          0.0274101873
                        ],
                        "iteration": 50,
                        "passed_time": 19.52376615,
                        "remaining_time": 363.295178,
                        "test": [
                          0.0275807254
                        ]
                      },
                      {
                        "learn": [
                          0.02729801824
                        ],
                        "iteration": 51,
                        "passed_time": 20.10062426,
                        "remaining_time": 366.4498422,
                        "test": [
                          0.02747076149
                        ]
                      },
                      {
                        "learn": [
                          0.02719708447
                        ],
                        "iteration": 52,
                        "passed_time": 20.46106701,
                        "remaining_time": 365.5968012,
                        "test": [
                          0.02736490688
                        ]
                      },
                      {
                        "learn": [
                          0.02712360808
                        ],
                        "iteration": 53,
                        "passed_time": 20.77482929,
                        "remaining_time": 363.9442316,
                        "test": [
                          0.02729097338
                        ]
                      },
                      {
                        "learn": [
                          0.02705247553
                        ],
                        "iteration": 54,
                        "passed_time": 21.11343536,
                        "remaining_time": 362.7672075,
                        "test": [
                          0.02722350265
                        ]
                      },
                      {
                        "learn": [
                          0.02702786879
                        ],
                        "iteration": 55,
                        "passed_time": 21.4421337,
                        "remaining_time": 361.453111,
                        "test": [
                          0.02720325439
                        ]
                      },
                      {
                        "learn": [
                          0.02697085708
                        ],
                        "iteration": 56,
                        "passed_time": 21.78276277,
                        "remaining_time": 360.3709701,
                        "test": [
                          0.02714875698
                        ]
                      },
                      {
                        "learn": [
                          0.02688355272
                        ],
                        "iteration": 57,
                        "passed_time": 22.13615479,
                        "remaining_time": 359.5216864,
                        "test": [
                          0.02705803498
                        ]
                      },
                      {
                        "learn": [
                          0.02681743254
                        ],
                        "iteration": 58,
                        "passed_time": 22.51249357,
                        "remaining_time": 359.055194,
                        "test": [
                          0.02699154837
                        ]
                      },
                      {
                        "learn": [
                          0.02679800218
                        ],
                        "iteration": 59,
                        "passed_time": 22.83539409,
                        "remaining_time": 357.7545074,
                        "test": [
                          0.02697772333
                        ]
                      },
                      {
                        "learn": [
                          0.02674704846
                        ],
                        "iteration": 60,
                        "passed_time": 23.16467504,
                        "remaining_time": 356.5840962,
                        "test": [
                          0.02692767936
                        ]
                      },
                      {
                        "learn": [
                          0.0267249007
                        ],
                        "iteration": 61,
                        "passed_time": 23.48808407,
                        "remaining_time": 355.3519815,
                        "test": [
                          0.02690622746
                        ]
                      },
                      {
                        "learn": [
                          0.0266896977
                        ],
                        "iteration": 62,
                        "passed_time": 23.80856145,
                        "remaining_time": 354.1051123,
                        "test": [
                          0.02687861791
                        ]
                      },
                      {
                        "learn": [
                          0.02663466887
                        ],
                        "iteration": 63,
                        "passed_time": 24.16045852,
                        "remaining_time": 353.3467059,
                        "test": [
                          0.02681866508
                        ]
                      },
                      {
                        "learn": [
                          0.02659925584
                        ],
                        "iteration": 64,
                        "passed_time": 24.48240711,
                        "remaining_time": 352.17001,
                        "test": [
                          0.02678803634
                        ]
                      },
                      {
                        "learn": [
                          0.02657242674
                        ],
                        "iteration": 65,
                        "passed_time": 24.80601726,
                        "remaining_time": 351.0427291,
                        "test": [
                          0.02675967186
                        ]
                      },
                      {
                        "learn": [
                          0.02653502167
                        ],
                        "iteration": 66,
                        "passed_time": 25.15035562,
                        "remaining_time": 350.2280864,
                        "test": [
                          0.02671846419
                        ]
                      },
                      {
                        "learn": [
                          0.02651194085
                        ],
                        "iteration": 67,
                        "passed_time": 25.48818138,
                        "remaining_time": 349.3380153,
                        "test": [
                          0.02669524151
                        ]
                      },
                      {
                        "learn": [
                          0.02647423601
                        ],
                        "iteration": 68,
                        "passed_time": 25.83030588,
                        "remaining_time": 348.5219532,
                        "test": [
                          0.02666133526
                        ]
                      },
                      {
                        "learn": [
                          0.02645417975
                        ],
                        "iteration": 69,
                        "passed_time": 26.14729326,
                        "remaining_time": 347.3854676,
                        "test": [
                          0.02664426331
                        ]
                      },
                      {
                        "learn": [
                          0.02643756292
                        ],
                        "iteration": 70,
                        "passed_time": 26.4854349,
                        "remaining_time": 346.5488595,
                        "test": [
                          0.02662855711
                        ]
                      },
                      {
                        "learn": [
                          0.02641621956
                        ],
                        "iteration": 71,
                        "passed_time": 26.79415659,
                        "remaining_time": 345.3469071,
                        "test": [
                          0.02660902794
                        ]
                      },
                      {
                        "learn": [
                          0.02638808682
                        ],
                        "iteration": 72,
                        "passed_time": 27.11725578,
                        "remaining_time": 344.3520014,
                        "test": [
                          0.02658709715
                        ]
                      },
                      {
                        "learn": [
                          0.0263648711
                        ],
                        "iteration": 73,
                        "passed_time": 27.45501153,
                        "remaining_time": 343.5586578,
                        "test": [
                          0.02656473262
                        ]
                      },
                      {
                        "learn": [
                          0.02634306265
                        ],
                        "iteration": 74,
                        "passed_time": 27.79039537,
                        "remaining_time": 342.7482095,
                        "test": [
                          0.02654949808
                        ]
                      },
                      {
                        "learn": [
                          0.02632428792
                        ],
                        "iteration": 75,
                        "passed_time": 28.11047554,
                        "remaining_time": 341.7642026,
                        "test": [
                          0.02653335641
                        ]
                      },
                      {
                        "learn": [
                          0.02630586537
                        ],
                        "iteration": 76,
                        "passed_time": 28.45023097,
                        "remaining_time": 341.0332881,
                        "test": [
                          0.02651871259
                        ]
                      },
                      {
                        "learn": [
                          0.02628736221
                        ],
                        "iteration": 77,
                        "passed_time": 28.77434119,
                        "remaining_time": 340.1274689,
                        "test": [
                          0.0265048385
                        ]
                      },
                      {
                        "learn": [
                          0.0262776661
                        ],
                        "iteration": 78,
                        "passed_time": 29.07567037,
                        "remaining_time": 338.97079,
                        "test": [
                          0.02649953195
                        ]
                      },
                      {
                        "learn": [
                          0.02627034504
                        ],
                        "iteration": 79,
                        "passed_time": 29.39854465,
                        "remaining_time": 338.0832635,
                        "test": [
                          0.02649505572
                        ]
                      },
                      {
                        "learn": [
                          0.02625031874
                        ],
                        "iteration": 80,
                        "passed_time": 29.73209145,
                        "remaining_time": 337.330766,
                        "test": [
                          0.02647725582
                        ]
                      },
                      {
                        "learn": [
                          0.02622755065
                        ],
                        "iteration": 81,
                        "passed_time": 30.04707471,
                        "remaining_time": 336.3806656,
                        "test": [
                          0.02645870633
                        ]
                      },
                      {
                        "learn": [
                          0.02620108035
                        ],
                        "iteration": 82,
                        "passed_time": 30.34859006,
                        "remaining_time": 335.2970734,
                        "test": [
                          0.02644110914
                        ]
                      },
                      {
                        "learn": [
                          0.02619051827
                        ],
                        "iteration": 83,
                        "passed_time": 30.75340336,
                        "remaining_time": 335.3585414,
                        "test": [
                          0.02643441553
                        ]
                      },
                      {
                        "learn": [
                          0.02617794081
                        ],
                        "iteration": 84,
                        "passed_time": 31.06003895,
                        "remaining_time": 334.352184,
                        "test": [
                          0.02642227475
                        ]
                      },
                      {
                        "learn": [
                          0.02615931441
                        ],
                        "iteration": 85,
                        "passed_time": 31.38001994,
                        "remaining_time": 333.5039329,
                        "test": [
                          0.02640757611
                        ]
                      },
                      {
                        "learn": [
                          0.02614522331
                        ],
                        "iteration": 86,
                        "passed_time": 31.7179061,
                        "remaining_time": 332.8557273,
                        "test": [
                          0.02639328382
                        ]
                      },
                      {
                        "learn": [
                          0.02611938756
                        ],
                        "iteration": 87,
                        "passed_time": 32.05827772,
                        "remaining_time": 332.2403328,
                        "test": [
                          0.02636737066
                        ]
                      },
                      {
                        "learn": [
                          0.02610573879
                        ],
                        "iteration": 88,
                        "passed_time": 32.39275143,
                        "remaining_time": 331.5707478,
                        "test": [
                          0.02635609606
                        ]
                      },
                      {
                        "learn": [
                          0.02609726857
                        ],
                        "iteration": 89,
                        "passed_time": 32.71431904,
                        "remaining_time": 330.7781148,
                        "test": [
                          0.02635108324
                        ]
                      },
                      {
                        "learn": [
                          0.02609438604
                        ],
                        "iteration": 90,
                        "passed_time": 32.99956382,
                        "remaining_time": 329.6330057,
                        "test": [
                          0.0263492597
                        ]
                      },
                      {
                        "learn": [
                          0.02608876038
                        ],
                        "iteration": 91,
                        "passed_time": 33.30638195,
                        "remaining_time": 328.7195088,
                        "test": [
                          0.02634716105
                        ]
                      },
                      {
                        "learn": [
                          0.02606919168
                        ],
                        "iteration": 92,
                        "passed_time": 33.63706849,
                        "remaining_time": 328.05184,
                        "test": [
                          0.02633075819
                        ]
                      },
                      {
                        "learn": [
                          0.02606584083
                        ],
                        "iteration": 93,
                        "passed_time": 33.93648724,
                        "remaining_time": 327.0899727,
                        "test": [
                          0.02632730441
                        ]
                      },
                      {
                        "learn": [
                          0.0260447647
                        ],
                        "iteration": 94,
                        "passed_time": 34.27778227,
                        "remaining_time": 326.5409785,
                        "test": [
                          0.02630608402
                        ]
                      },
                      {
                        "learn": [
                          0.02603250866
                        ],
                        "iteration": 95,
                        "passed_time": 34.62056557,
                        "remaining_time": 326.0103257,
                        "test": [
                          0.0262960512
                        ]
                      },
                      {
                        "learn": [
                          0.02602301361
                        ],
                        "iteration": 96,
                        "passed_time": 34.93955737,
                        "remaining_time": 325.262065,
                        "test": [
                          0.02628854934
                        ]
                      },
                      {
                        "learn": [
                          0.02599921663
                        ],
                        "iteration": 97,
                        "passed_time": 35.27158818,
                        "remaining_time": 324.642577,
                        "test": [
                          0.02627382467
                        ]
                      },
                      {
                        "learn": [
                          0.02599122901
                        ],
                        "iteration": 98,
                        "passed_time": 35.63032702,
                        "remaining_time": 324.2719661,
                        "test": [
                          0.02626758398
                        ]
                      },
                      {
                        "learn": [
                          0.02596922118
                        ],
                        "iteration": 99,
                        "passed_time": 35.97743464,
                        "remaining_time": 323.7969118,
                        "test": [
                          0.0262494552
                        ]
                      },
                      {
                        "learn": [
                          0.02596523584
                        ],
                        "iteration": 100,
                        "passed_time": 36.28907817,
                        "remaining_time": 323.0087255,
                        "test": [
                          0.02624646518
                        ]
                      },
                      {
                        "learn": [
                          0.02595136792
                        ],
                        "iteration": 101,
                        "passed_time": 36.65145751,
                        "remaining_time": 322.6765573,
                        "test": [
                          0.02623874872
                        ]
                      },
                      {
                        "learn": [
                          0.02592668355
                        ],
                        "iteration": 102,
                        "passed_time": 36.99140235,
                        "remaining_time": 322.1484263,
                        "test": [
                          0.0262170253
                        ]
                      },
                      {
                        "learn": [
                          0.02591286502
                        ],
                        "iteration": 103,
                        "passed_time": 37.31809954,
                        "remaining_time": 321.5097806,
                        "test": [
                          0.0262071097
                        ]
                      },
                      {
                        "learn": [
                          0.02590820807
                        ],
                        "iteration": 104,
                        "passed_time": 37.64461067,
                        "remaining_time": 320.875491,
                        "test": [
                          0.02620345391
                        ]
                      },
                      {
                        "learn": [
                          0.02590121209
                        ],
                        "iteration": 105,
                        "passed_time": 37.9922516,
                        "remaining_time": 320.4252163,
                        "test": [
                          0.02619787037
                        ]
                      },
                      {
                        "learn": [
                          0.02589207712
                        ],
                        "iteration": 106,
                        "passed_time": 38.30250644,
                        "remaining_time": 319.6648434,
                        "test": [
                          0.02619029476
                        ]
                      },
                      {
                        "learn": [
                          0.02588203165
                        ],
                        "iteration": 107,
                        "passed_time": 38.62366078,
                        "remaining_time": 319.0028279,
                        "test": [
                          0.02618057095
                        ]
                      },
                      {
                        "learn": [
                          0.02587108877
                        ],
                        "iteration": 108,
                        "passed_time": 38.97084943,
                        "remaining_time": 318.5598793,
                        "test": [
                          0.02617176402
                        ]
                      },
                      {
                        "learn": [
                          0.02585907043
                        ],
                        "iteration": 109,
                        "passed_time": 39.31247752,
                        "remaining_time": 318.0736817,
                        "test": [
                          0.02616473143
                        ]
                      },
                      {
                        "learn": [
                          0.02585158923
                        ],
                        "iteration": 110,
                        "passed_time": 39.64978272,
                        "remaining_time": 317.555467,
                        "test": [
                          0.02615887473
                        ]
                      },
                      {
                        "learn": [
                          0.02583985883
                        ],
                        "iteration": 111,
                        "passed_time": 40.00621456,
                        "remaining_time": 317.1921297,
                        "test": [
                          0.02615010006
                        ]
                      },
                      {
                        "learn": [
                          0.02582732161
                        ],
                        "iteration": 112,
                        "passed_time": 40.3344457,
                        "remaining_time": 316.6075516,
                        "test": [
                          0.02614027322
                        ]
                      },
                      {
                        "learn": [
                          0.02581392902
                        ],
                        "iteration": 113,
                        "passed_time": 40.64872093,
                        "remaining_time": 315.9190065,
                        "test": [
                          0.02613185094
                        ]
                      },
                      {
                        "learn": [
                          0.02580322119
                        ],
                        "iteration": 114,
                        "passed_time": 40.99040173,
                        "remaining_time": 315.4478742,
                        "test": [
                          0.02612698847
                        ]
                      },
                      {
                        "learn": [
                          0.02579222947
                        ],
                        "iteration": 115,
                        "passed_time": 41.30999579,
                        "remaining_time": 314.8106576,
                        "test": [
                          0.02611905885
                        ]
                      },
                      {
                        "learn": [
                          0.02576575139
                        ],
                        "iteration": 116,
                        "passed_time": 41.65488865,
                        "remaining_time": 314.3698007,
                        "test": [
                          0.02609720257
                        ]
                      },
                      {
                        "learn": [
                          0.02575098968
                        ],
                        "iteration": 117,
                        "passed_time": 41.9910664,
                        "remaining_time": 313.8654285,
                        "test": [
                          0.02608636811
                        ]
                      },
                      {
                        "learn": [
                          0.02574700073
                        ],
                        "iteration": 118,
                        "passed_time": 42.31099416,
                        "remaining_time": 313.2435786,
                        "test": [
                          0.02608334133
                        ]
                      },
                      {
                        "learn": [
                          0.02574429025
                        ],
                        "iteration": 119,
                        "passed_time": 42.62468832,
                        "remaining_time": 312.5810477,
                        "test": [
                          0.02608319181
                        ]
                      },
                      {
                        "learn": [
                          0.02573985832
                        ],
                        "iteration": 120,
                        "passed_time": 42.98703348,
                        "remaining_time": 312.2777061,
                        "test": [
                          0.02608084063
                        ]
                      },
                      {
                        "learn": [
                          0.0257289174
                        ],
                        "iteration": 121,
                        "passed_time": 43.32628274,
                        "remaining_time": 311.8071823,
                        "test": [
                          0.02607055623
                        ]
                      },
                      {
                        "learn": [
                          0.02571989334
                        ],
                        "iteration": 122,
                        "passed_time": 43.64354571,
                        "remaining_time": 311.1820292,
                        "test": [
                          0.02606185675
                        ]
                      },
                      {
                        "learn": [
                          0.02571576481
                        ],
                        "iteration": 123,
                        "passed_time": 43.95097008,
                        "remaining_time": 310.4923371,
                        "test": [
                          0.02606118033
                        ]
                      },
                      {
                        "learn": [
                          0.02571332265
                        ],
                        "iteration": 124,
                        "passed_time": 44.25553512,
                        "remaining_time": 309.7887459,
                        "test": [
                          0.02606007992
                        ]
                      },
                      {
                        "learn": [
                          0.02571069373
                        ],
                        "iteration": 125,
                        "passed_time": 44.56533289,
                        "remaining_time": 309.1277853,
                        "test": [
                          0.02605881683
                        ]
                      },
                      {
                        "learn": [
                          0.02570897903
                        ],
                        "iteration": 126,
                        "passed_time": 44.9066983,
                        "remaining_time": 308.6893513,
                        "test": [
                          0.02605805149
                        ]
                      },
                      {
                        "learn": [
                          0.02569977449
                        ],
                        "iteration": 127,
                        "passed_time": 45.22224967,
                        "remaining_time": 308.0765758,
                        "test": [
                          0.02605274324
                        ]
                      },
                      {
                        "learn": [
                          0.02569230605
                        ],
                        "iteration": 128,
                        "passed_time": 45.55326342,
                        "remaining_time": 307.5728096,
                        "test": [
                          0.02604799102
                        ]
                      },
                      {
                        "learn": [
                          0.02567983486
                        ],
                        "iteration": 129,
                        "passed_time": 45.92142981,
                        "remaining_time": 307.320338,
                        "test": [
                          0.02603871869
                        ]
                      },
                      {
                        "learn": [
                          0.02567289221
                        ],
                        "iteration": 130,
                        "passed_time": 46.25426948,
                        "remaining_time": 306.8317571,
                        "test": [
                          0.02603199488
                        ]
                      },
                      {
                        "learn": [
                          0.02566991306
                        ],
                        "iteration": 131,
                        "passed_time": 46.56289425,
                        "remaining_time": 306.1863046,
                        "test": [
                          0.02603074152
                        ]
                      },
                      {
                        "learn": [
                          0.02564678786
                        ],
                        "iteration": 132,
                        "passed_time": 46.92468031,
                        "remaining_time": 305.8924649,
                        "test": [
                          0.02601183469
                        ]
                      },
                      {
                        "learn": [
                          0.02563204127
                        ],
                        "iteration": 133,
                        "passed_time": 47.27828439,
                        "remaining_time": 305.5447335,
                        "test": [
                          0.02600073233
                        ]
                      },
                      {
                        "learn": [
                          0.02562705254
                        ],
                        "iteration": 134,
                        "passed_time": 47.58997161,
                        "remaining_time": 304.9283366,
                        "test": [
                          0.02599834829
                        ]
                      },
                      {
                        "learn": [
                          0.02560896586
                        ],
                        "iteration": 135,
                        "passed_time": 47.94802704,
                        "remaining_time": 304.6109953,
                        "test": [
                          0.02598763004
                        ]
                      },
                      {
                        "learn": [
                          0.02559887617
                        ],
                        "iteration": 136,
                        "passed_time": 48.29539601,
                        "remaining_time": 304.2257427,
                        "test": [
                          0.02598035049
                        ]
                      },
                      {
                        "learn": [
                          0.02559433438
                        ],
                        "iteration": 137,
                        "passed_time": 48.59806116,
                        "remaining_time": 303.5618023,
                        "test": [
                          0.02597826064
                        ]
                      },
                      {
                        "learn": [
                          0.02556995347
                        ],
                        "iteration": 138,
                        "passed_time": 48.97353976,
                        "remaining_time": 303.3540844,
                        "test": [
                          0.02595857199
                        ]
                      },
                      {
                        "learn": [
                          0.02556212506
                        ],
                        "iteration": 139,
                        "passed_time": 49.2784547,
                        "remaining_time": 302.7105075,
                        "test": [
                          0.02595548638
                        ]
                      },
                      {
                        "learn": [
                          0.02555635678
                        ],
                        "iteration": 140,
                        "passed_time": 49.60441629,
                        "remaining_time": 302.1999546,
                        "test": [
                          0.02595059345
                        ]
                      },
                      {
                        "learn": [
                          0.02554867087
                        ],
                        "iteration": 141,
                        "passed_time": 49.95205391,
                        "remaining_time": 301.8229736,
                        "test": [
                          0.02594493554
                        ]
                      },
                      {
                        "learn": [
                          0.02553607974
                        ],
                        "iteration": 142,
                        "passed_time": 50.25494538,
                        "remaining_time": 301.1782391,
                        "test": [
                          0.0259376571
                        ]
                      },
                      {
                        "learn": [
                          0.02552161883
                        ],
                        "iteration": 143,
                        "passed_time": 50.60915361,
                        "remaining_time": 300.843302,
                        "test": [
                          0.0259286078
                        ]
                      },
                      {
                        "learn": [
                          0.02551961982
                        ],
                        "iteration": 144,
                        "passed_time": 50.93502136,
                        "remaining_time": 300.340988,
                        "test": [
                          0.02592880037
                        ]
                      },
                      {
                        "learn": [
                          0.02550244897
                        ],
                        "iteration": 145,
                        "passed_time": 51.31488687,
                        "remaining_time": 300.156941,
                        "test": [
                          0.02591690009
                        ]
                      },
                      {
                        "learn": [
                          0.02548848563
                        ],
                        "iteration": 146,
                        "passed_time": 51.66406584,
                        "remaining_time": 299.7921643,
                        "test": [
                          0.02590736075
                        ]
                      },
                      {
                        "learn": [
                          0.02548144096
                        ],
                        "iteration": 147,
                        "passed_time": 52.01307254,
                        "remaining_time": 299.4266068,
                        "test": [
                          0.02590600798
                        ]
                      },
                      {
                        "learn": [
                          0.0254783057
                        ],
                        "iteration": 148,
                        "passed_time": 52.29910026,
                        "remaining_time": 298.7015726,
                        "test": [
                          0.02590419142
                        ]
                      },
                      {
                        "learn": [
                          0.02547149398
                        ],
                        "iteration": 149,
                        "passed_time": 52.62296727,
                        "remaining_time": 298.1968145,
                        "test": [
                          0.02589981846
                        ]
                      },
                      {
                        "learn": [
                          0.0254676352
                        ],
                        "iteration": 150,
                        "passed_time": 52.9432206,
                        "remaining_time": 297.6741344,
                        "test": [
                          0.02589649381
                        ]
                      },
                      {
                        "learn": [
                          0.02546263225
                        ],
                        "iteration": 151,
                        "passed_time": 53.30192565,
                        "remaining_time": 297.3686378,
                        "test": [
                          0.02589364839
                        ]
                      },
                      {
                        "learn": [
                          0.02546016358
                        ],
                        "iteration": 152,
                        "passed_time": 53.61074366,
                        "remaining_time": 296.7862737,
                        "test": [
                          0.02589304419
                        ]
                      },
                      {
                        "learn": [
                          0.02545641144
                        ],
                        "iteration": 153,
                        "passed_time": 53.90756432,
                        "remaining_time": 296.1415547,
                        "test": [
                          0.02589083459
                        ]
                      },
                      {
                        "learn": [
                          0.02544749967
                        ],
                        "iteration": 154,
                        "passed_time": 54.2301249,
                        "remaining_time": 295.6416487,
                        "test": [
                          0.02588813096
                        ]
                      },
                      {
                        "learn": [
                          0.02544305664
                        ],
                        "iteration": 155,
                        "passed_time": 54.55554651,
                        "remaining_time": 295.1594952,
                        "test": [
                          0.02588520949
                        ]
                      },
                      {
                        "learn": [
                          0.02543912011
                        ],
                        "iteration": 156,
                        "passed_time": 54.84795503,
                        "remaining_time": 294.502077,
                        "test": [
                          0.02588273183
                        ]
                      },
                      {
                        "learn": [
                          0.02542618398
                        ],
                        "iteration": 157,
                        "passed_time": 55.20709039,
                        "remaining_time": 294.2048741,
                        "test": [
                          0.02587398683
                        ]
                      },
                      {
                        "learn": [
                          0.02541599897
                        ],
                        "iteration": 158,
                        "passed_time": 55.52735792,
                        "remaining_time": 293.7013083,
                        "test": [
                          0.02586774761
                        ]
                      },
                      {
                        "learn": [
                          0.02540805217
                        ],
                        "iteration": 159,
                        "passed_time": 55.8886858,
                        "remaining_time": 293.4156005,
                        "test": [
                          0.02586470753
                        ]
                      },
                      {
                        "learn": [
                          0.02540441705
                        ],
                        "iteration": 160,
                        "passed_time": 56.21711712,
                        "remaining_time": 292.9575234,
                        "test": [
                          0.02586158518
                        ]
                      },
                      {
                        "learn": [
                          0.02539814615
                        ],
                        "iteration": 161,
                        "passed_time": 56.52846397,
                        "remaining_time": 292.4126716,
                        "test": [
                          0.02585897581
                        ]
                      },
                      {
                        "learn": [
                          0.02538783269
                        ],
                        "iteration": 162,
                        "passed_time": 56.85971775,
                        "remaining_time": 291.9729065,
                        "test": [
                          0.02585294533
                        ]
                      },
                      {
                        "learn": [
                          0.02538293991
                        ],
                        "iteration": 163,
                        "passed_time": 57.2142248,
                        "remaining_time": 291.6529996,
                        "test": [
                          0.02584706726
                        ]
                      },
                      {
                        "learn": [
                          0.02537772866
                        ],
                        "iteration": 164,
                        "passed_time": 57.52559687,
                        "remaining_time": 291.1143842,
                        "test": [
                          0.02584607513
                        ]
                      },
                      {
                        "learn": [
                          0.02537515761
                        ],
                        "iteration": 165,
                        "passed_time": 57.82649073,
                        "remaining_time": 290.5258631,
                        "test": [
                          0.02584426008
                        ]
                      },
                      {
                        "learn": [
                          0.02536854429
                        ],
                        "iteration": 166,
                        "passed_time": 58.14146593,
                        "remaining_time": 290.0110247,
                        "test": [
                          0.02583928051
                        ]
                      },
                      {
                        "learn": [
                          0.02534053385
                        ],
                        "iteration": 167,
                        "passed_time": 58.49664764,
                        "remaining_time": 289.6976836,
                        "test": [
                          0.02582117409
                        ]
                      },
                      {
                        "learn": [
                          0.02532725529
                        ],
                        "iteration": 168,
                        "passed_time": 58.85008862,
                        "remaining_time": 289.3752878,
                        "test": [
                          0.02581020139
                        ]
                      },
                      {
                        "learn": [
                          0.02532530591
                        ],
                        "iteration": 169,
                        "passed_time": 59.18029371,
                        "remaining_time": 288.9390811,
                        "test": [
                          0.02580940009
                        ]
                      },
                      {
                        "learn": [
                          0.02531280107
                        ],
                        "iteration": 170,
                        "passed_time": 59.52417739,
                        "remaining_time": 288.5704272,
                        "test": [
                          0.02580050876
                        ]
                      },
                      {
                        "learn": [
                          0.0253060559
                        ],
                        "iteration": 171,
                        "passed_time": 59.8499263,
                        "remaining_time": 288.1147615,
                        "test": [
                          0.02579564652
                        ]
                      },
                      {
                        "learn": [
                          0.02530098477
                        ],
                        "iteration": 172,
                        "passed_time": 60.19348386,
                        "remaining_time": 287.7457292,
                        "test": [
                          0.02579115404
                        ]
                      },
                      {
                        "learn": [
                          0.02529690582
                        ],
                        "iteration": 173,
                        "passed_time": 60.49768977,
                        "remaining_time": 287.1901825,
                        "test": [
                          0.02578870654
                        ]
                      },
                      {
                        "learn": [
                          0.02529036584
                        ],
                        "iteration": 174,
                        "passed_time": 60.828847,
                        "remaining_time": 286.7645644,
                        "test": [
                          0.02578361439
                        ]
                      },
                      {
                        "learn": [
                          0.02527398816
                        ],
                        "iteration": 175,
                        "passed_time": 61.19085094,
                        "remaining_time": 286.4844385,
                        "test": [
                          0.02576795949
                        ]
                      },
                      {
                        "learn": [
                          0.02527176397
                        ],
                        "iteration": 176,
                        "passed_time": 61.4963808,
                        "remaining_time": 285.9407988,
                        "test": [
                          0.02576637296
                        ]
                      },
                      {
                        "learn": [
                          0.02526495498
                        ],
                        "iteration": 177,
                        "passed_time": 61.80390166,
                        "remaining_time": 285.409029,
                        "test": [
                          0.02576301862
                        ]
                      },
                      {
                        "learn": [
                          0.02525998937
                        ],
                        "iteration": 178,
                        "passed_time": 62.12355263,
                        "remaining_time": 284.9354006,
                        "test": [
                          0.02575974991
                        ]
                      },
                      {
                        "learn": [
                          0.0252547023
                        ],
                        "iteration": 179,
                        "passed_time": 62.45223186,
                        "remaining_time": 284.5046118,
                        "test": [
                          0.0257550237
                        ]
                      },
                      {
                        "learn": [
                          0.02525074427
                        ],
                        "iteration": 180,
                        "passed_time": 62.7569197,
                        "remaining_time": 283.9663936,
                        "test": [
                          0.02575410672
                        ]
                      },
                      {
                        "learn": [
                          0.0252402308
                        ],
                        "iteration": 181,
                        "passed_time": 63.1238028,
                        "remaining_time": 283.7102785,
                        "test": [
                          0.02574411355
                        ]
                      },
                      {
                        "learn": [
                          0.02523614647
                        ],
                        "iteration": 182,
                        "passed_time": 63.43801819,
                        "remaining_time": 283.2178189,
                        "test": [
                          0.02574259065
                        ]
                      },
                      {
                        "learn": [
                          0.025231322
                        ],
                        "iteration": 183,
                        "passed_time": 63.78221427,
                        "remaining_time": 282.8602546,
                        "test": [
                          0.02573917652
                        ]
                      },
                      {
                        "learn": [
                          0.02522098774
                        ],
                        "iteration": 184,
                        "passed_time": 64.13263111,
                        "remaining_time": 282.5302398,
                        "test": [
                          0.02573123941
                        ]
                      },
                      {
                        "learn": [
                          0.02521514984
                        ],
                        "iteration": 185,
                        "passed_time": 64.45915497,
                        "remaining_time": 282.0954417,
                        "test": [
                          0.02572847376
                        ]
                      },
                      {
                        "learn": [
                          0.0252079489
                        ],
                        "iteration": 186,
                        "passed_time": 64.7868128,
                        "remaining_time": 281.6667316,
                        "test": [
                          0.02572419819
                        ]
                      },
                      {
                        "learn": [
                          0.02519958207
                        ],
                        "iteration": 187,
                        "passed_time": 65.15115026,
                        "remaining_time": 281.3975213,
                        "test": [
                          0.0257183847
                        ]
                      },
                      {
                        "learn": [
                          0.02519748553
                        ],
                        "iteration": 188,
                        "passed_time": 65.45261864,
                        "remaining_time": 280.8575329,
                        "test": [
                          0.02571777394
                        ]
                      },
                      {
                        "learn": [
                          0.02519405726
                        ],
                        "iteration": 189,
                        "passed_time": 65.77122238,
                        "remaining_time": 280.3931059,
                        "test": [
                          0.02571618292
                        ]
                      },
                      {
                        "learn": [
                          0.02519023421
                        ],
                        "iteration": 190,
                        "passed_time": 66.07887129,
                        "remaining_time": 279.8838056,
                        "test": [
                          0.02571544265
                        ]
                      },
                      {
                        "learn": [
                          0.02518396956
                        ],
                        "iteration": 191,
                        "passed_time": 66.4230217,
                        "remaining_time": 279.5302163,
                        "test": [
                          0.02571218093
                        ]
                      },
                      {
                        "learn": [
                          0.02518041871
                        ],
                        "iteration": 192,
                        "passed_time": 66.73683994,
                        "remaining_time": 279.0498955,
                        "test": [
                          0.02571263743
                        ]
                      },
                      {
                        "learn": [
                          0.02517858045
                        ],
                        "iteration": 193,
                        "passed_time": 67.04493933,
                        "remaining_time": 278.5475315,
                        "test": [
                          0.02571202832
                        ]
                      },
                      {
                        "learn": [
                          0.02517418753
                        ],
                        "iteration": 194,
                        "passed_time": 67.39180256,
                        "remaining_time": 278.2071849,
                        "test": [
                          0.02570806421
                        ]
                      },
                      {
                        "learn": [
                          0.02516558942
                        ],
                        "iteration": 195,
                        "passed_time": 67.73060062,
                        "remaining_time": 277.8336883,
                        "test": [
                          0.02570247637
                        ]
                      },
                      {
                        "learn": [
                          0.02516355377
                        ],
                        "iteration": 196,
                        "passed_time": 68.04160917,
                        "remaining_time": 277.3472699,
                        "test": [
                          0.02570176209
                        ]
                      },
                      {
                        "learn": [
                          0.02516166095
                        ],
                        "iteration": 197,
                        "passed_time": 68.37344558,
                        "remaining_time": 276.9469867,
                        "test": [
                          0.02570154887
                        ]
                      },
                      {
                        "learn": [
                          0.02515464681
                        ],
                        "iteration": 198,
                        "passed_time": 68.70697537,
                        "remaining_time": 276.5542074,
                        "test": [
                          0.0256975494
                        ]
                      },
                      {
                        "learn": [
                          0.02514773043
                        ],
                        "iteration": 199,
                        "passed_time": 69.03047444,
                        "remaining_time": 276.1218978,
                        "test": [
                          0.02569307526
                        ]
                      },
                      {
                        "learn": [
                          0.02514233616
                        ],
                        "iteration": 200,
                        "passed_time": 69.39356776,
                        "remaining_time": 275.8480629,
                        "test": [
                          0.02569063869
                        ]
                      },
                      {
                        "learn": [
                          0.02513662914
                        ],
                        "iteration": 201,
                        "passed_time": 69.71516092,
                        "remaining_time": 275.4093981,
                        "test": [
                          0.02568900549
                        ]
                      },
                      {
                        "learn": [
                          0.02512627337
                        ],
                        "iteration": 202,
                        "passed_time": 70.05479007,
                        "remaining_time": 275.0426979,
                        "test": [
                          0.02568308634
                        ]
                      },
                      {
                        "learn": [
                          0.02512132966
                        ],
                        "iteration": 203,
                        "passed_time": 70.39453131,
                        "remaining_time": 274.6767006,
                        "test": [
                          0.0256790707
                        ]
                      },
                      {
                        "learn": [
                          0.02511710798
                        ],
                        "iteration": 204,
                        "passed_time": 70.7034998,
                        "remaining_time": 274.1916212,
                        "test": [
                          0.02567639759
                        ]
                      },
                      {
                        "learn": [
                          0.0251144644
                        ],
                        "iteration": 205,
                        "passed_time": 71.02621435,
                        "remaining_time": 273.761234,
                        "test": [
                          0.02567505293
                        ]
                      },
                      {
                        "learn": [
                          0.02511149752
                        ],
                        "iteration": 206,
                        "passed_time": 71.3768825,
                        "remaining_time": 273.438975,
                        "test": [
                          0.02567384341
                        ]
                      },
                      {
                        "learn": [
                          0.02510848685
                        ],
                        "iteration": 207,
                        "passed_time": 71.70131963,
                        "remaining_time": 273.0165632,
                        "test": [
                          0.02567302043
                        ]
                      },
                      {
                        "learn": [
                          0.02510372121
                        ],
                        "iteration": 208,
                        "passed_time": 72.03193915,
                        "remaining_time": 272.6184874,
                        "test": [
                          0.0256702719
                        ]
                      },
                      {
                        "learn": [
                          0.02509626747
                        ],
                        "iteration": 209,
                        "passed_time": 72.37714305,
                        "remaining_time": 272.2759191,
                        "test": [
                          0.02566782783
                        ]
                      },
                      {
                        "learn": [
                          0.02508772589
                        ],
                        "iteration": 210,
                        "passed_time": 72.7332542,
                        "remaining_time": 271.9741117,
                        "test": [
                          0.02565959657
                        ]
                      },
                      {
                        "learn": [
                          0.02508075178
                        ],
                        "iteration": 211,
                        "passed_time": 73.07558685,
                        "remaining_time": 271.6205776,
                        "test": [
                          0.02565431358
                        ]
                      },
                      {
                        "learn": [
                          0.02507799032
                        ],
                        "iteration": 212,
                        "passed_time": 73.39191632,
                        "remaining_time": 271.1710711,
                        "test": [
                          0.02565245213
                        ]
                      },
                      {
                        "learn": [
                          0.02507338794
                        ],
                        "iteration": 213,
                        "passed_time": 73.71256201,
                        "remaining_time": 270.7386623,
                        "test": [
                          0.02565030387
                        ]
                      },
                      {
                        "learn": [
                          0.02506427642
                        ],
                        "iteration": 214,
                        "passed_time": 74.06366325,
                        "remaining_time": 270.4184914,
                        "test": [
                          0.02564130251
                        ]
                      },
                      {
                        "learn": [
                          0.02505803418
                        ],
                        "iteration": 215,
                        "passed_time": 74.43156849,
                        "remaining_time": 270.1590264,
                        "test": [
                          0.02563708387
                        ]
                      },
                      {
                        "learn": [
                          0.02505474909
                        ],
                        "iteration": 216,
                        "passed_time": 74.74175842,
                        "remaining_time": 269.690308,
                        "test": [
                          0.02563537862
                        ]
                      },
                      {
                        "learn": [
                          0.02504934118
                        ],
                        "iteration": 217,
                        "passed_time": 75.05158185,
                        "remaining_time": 269.2217294,
                        "test": [
                          0.02563443303
                        ]
                      },
                      {
                        "learn": [
                          0.02504395914
                        ],
                        "iteration": 218,
                        "passed_time": 75.43110329,
                        "remaining_time": 269.0031583,
                        "test": [
                          0.0256317699
                        ]
                      },
                      {
                        "learn": [
                          0.025040145
                        ],
                        "iteration": 219,
                        "passed_time": 75.72888065,
                        "remaining_time": 268.4933041,
                        "test": [
                          0.02562930721
                        ]
                      },
                      {
                        "learn": [
                          0.0250341191
                        ],
                        "iteration": 220,
                        "passed_time": 76.06149686,
                        "remaining_time": 268.1081722,
                        "test": [
                          0.02562437217
                        ]
                      },
                      {
                        "learn": [
                          0.02502676885
                        ],
                        "iteration": 221,
                        "passed_time": 76.41115207,
                        "remaining_time": 267.7832266,
                        "test": [
                          0.02561860976
                        ]
                      },
                      {
                        "learn": [
                          0.02501934565
                        ],
                        "iteration": 222,
                        "passed_time": 76.7723748,
                        "remaining_time": 267.4983642,
                        "test": [
                          0.02561332223
                        ]
                      },
                      {
                        "learn": [
                          0.02501645925
                        ],
                        "iteration": 223,
                        "passed_time": 77.10384531,
                        "remaining_time": 267.1097498,
                        "test": [
                          0.02561168886
                        ]
                      },
                      {
                        "learn": [
                          0.02500513533
                        ],
                        "iteration": 224,
                        "passed_time": 77.4815289,
                        "remaining_time": 266.8808218,
                        "test": [
                          0.02560253817
                        ]
                      },
                      {
                        "learn": [
                          0.02500341991
                        ],
                        "iteration": 225,
                        "passed_time": 77.78261157,
                        "remaining_time": 266.3882361,
                        "test": [
                          0.02560184748
                        ]
                      },
                      {
                        "learn": [
                          0.02499604041
                        ],
                        "iteration": 226,
                        "passed_time": 78.09784771,
                        "remaining_time": 265.9455343,
                        "test": [
                          0.02559680318
                        ]
                      },
                      {
                        "learn": [
                          0.02499271173
                        ],
                        "iteration": 227,
                        "passed_time": 78.41587002,
                        "remaining_time": 265.5133845,
                        "test": [
                          0.02559528804
                        ]
                      },
                      {
                        "learn": [
                          0.02498648223
                        ],
                        "iteration": 228,
                        "passed_time": 78.77580546,
                        "remaining_time": 265.223345,
                        "test": [
                          0.02559235415
                        ]
                      },
                      {
                        "learn": [
                          0.02498005668
                        ],
                        "iteration": 229,
                        "passed_time": 79.08439901,
                        "remaining_time": 264.7608141,
                        "test": [
                          0.02558848889
                        ]
                      },
                      {
                        "learn": [
                          0.0249763364
                        ],
                        "iteration": 230,
                        "passed_time": 79.43103258,
                        "remaining_time": 264.4262513,
                        "test": [
                          0.02558656529
                        ]
                      },
                      {
                        "learn": [
                          0.02496387267
                        ],
                        "iteration": 231,
                        "passed_time": 79.77634143,
                        "remaining_time": 264.0871992,
                        "test": [
                          0.02557395797
                        ]
                      },
                      {
                        "learn": [
                          0.02495893754
                        ],
                        "iteration": 232,
                        "passed_time": 80.13062096,
                        "remaining_time": 263.7776235,
                        "test": [
                          0.02557028757
                        ]
                      },
                      {
                        "learn": [
                          0.02495672055
                        ],
                        "iteration": 233,
                        "passed_time": 80.48176551,
                        "remaining_time": 263.4574033,
                        "test": [
                          0.0255693691
                        ]
                      },
                      {
                        "learn": [
                          0.02495348549
                        ],
                        "iteration": 234,
                        "passed_time": 80.80232846,
                        "remaining_time": 263.0373671,
                        "test": [
                          0.02556707756
                        ]
                      },
                      {
                        "learn": [
                          0.024947517
                        ],
                        "iteration": 235,
                        "passed_time": 81.12775911,
                        "remaining_time": 262.633932,
                        "test": [
                          0.02556589607
                        ]
                      },
                      {
                        "learn": [
                          0.02494470652
                        ],
                        "iteration": 236,
                        "passed_time": 81.46089699,
                        "remaining_time": 262.2559679,
                        "test": [
                          0.02556541818
                        ]
                      },
                      {
                        "learn": [
                          0.02493878614
                        ],
                        "iteration": 237,
                        "passed_time": 81.80709578,
                        "remaining_time": 261.9201974,
                        "test": [
                          0.02556035496
                        ]
                      },
                      {
                        "learn": [
                          0.02493559103
                        ],
                        "iteration": 238,
                        "passed_time": 82.08822145,
                        "remaining_time": 261.3771403,
                        "test": [
                          0.02555738882
                        ]
                      },
                      {
                        "learn": [
                          0.0249313223
                        ],
                        "iteration": 239,
                        "passed_time": 82.41690055,
                        "remaining_time": 260.9868518,
                        "test": [
                          0.02555552909
                        ]
                      },
                      {
                        "learn": [
                          0.02492717668
                        ],
                        "iteration": 240,
                        "passed_time": 82.7518377,
                        "remaining_time": 260.6167835,
                        "test": [
                          0.02555389755
                        ]
                      },
                      {
                        "learn": [
                          0.02491856149
                        ],
                        "iteration": 241,
                        "passed_time": 83.11143788,
                        "remaining_time": 260.3242558,
                        "test": [
                          0.02554700429
                        ]
                      },
                      {
                        "learn": [
                          0.02491731048
                        ],
                        "iteration": 242,
                        "passed_time": 83.41548622,
                        "remaining_time": 259.8581196,
                        "test": [
                          0.02554557134
                        ]
                      },
                      {
                        "learn": [
                          0.02491050543
                        ],
                        "iteration": 243,
                        "passed_time": 83.77805482,
                        "remaining_time": 259.5746289,
                        "test": [
                          0.02554146092
                        ]
                      },
                      {
                        "learn": [
                          0.0249051032
                        ],
                        "iteration": 244,
                        "passed_time": 84.11397766,
                        "remaining_time": 259.2083801,
                        "test": [
                          0.02554051059
                        ]
                      },
                      {
                        "learn": [
                          0.02489774041
                        ],
                        "iteration": 245,
                        "passed_time": 84.41957902,
                        "remaining_time": 258.7494414,
                        "test": [
                          0.02553673637
                        ]
                      },
                      {
                        "learn": [
                          0.02489310198
                        ],
                        "iteration": 246,
                        "passed_time": 84.76638612,
                        "remaining_time": 258.4173634,
                        "test": [
                          0.02553274317
                        ]
                      },
                      {
                        "learn": [
                          0.02488659905
                        ],
                        "iteration": 247,
                        "passed_time": 85.09532902,
                        "remaining_time": 258.0309977,
                        "test": [
                          0.02552984762
                        ]
                      },
                      {
                        "learn": [
                          0.02488369557
                        ],
                        "iteration": 248,
                        "passed_time": 85.40243887,
                        "remaining_time": 257.5792433,
                        "test": [
                          0.02552880988
                        ]
                      },
                      {
                        "learn": [
                          0.02488057611
                        ],
                        "iteration": 249,
                        "passed_time": 85.72627781,
                        "remaining_time": 257.1788334,
                        "test": [
                          0.0255276057
                        ]
                      },
                      {
                        "learn": [
                          0.02487478518
                        ],
                        "iteration": 250,
                        "passed_time": 86.09300504,
                        "remaining_time": 256.907015,
                        "test": [
                          0.02552523912
                        ]
                      },
                      {
                        "learn": [
                          0.02487280591
                        ],
                        "iteration": 251,
                        "passed_time": 86.39775045,
                        "remaining_time": 256.4504656,
                        "test": [
                          0.02552284859
                        ]
                      },
                      {
                        "learn": [
                          0.02486703563
                        ],
                        "iteration": 252,
                        "passed_time": 86.75095842,
                        "remaining_time": 256.1382053,
                        "test": [
                          0.02551748632
                        ]
                      },
                      {
                        "learn": [
                          0.02485951119
                        ],
                        "iteration": 253,
                        "passed_time": 87.05515349,
                        "remaining_time": 255.6816713,
                        "test": [
                          0.02551530334
                        ]
                      },
                      {
                        "learn": [
                          0.02485751764
                        ],
                        "iteration": 254,
                        "passed_time": 87.35071935,
                        "remaining_time": 255.2011212,
                        "test": [
                          0.02551484982
                        ]
                      },
                      {
                        "learn": [
                          0.02485409768
                        ],
                        "iteration": 255,
                        "passed_time": 87.67020229,
                        "remaining_time": 254.7915254,
                        "test": [
                          0.02551270108
                        ]
                      },
                      {
                        "learn": [
                          0.02485253291
                        ],
                        "iteration": 256,
                        "passed_time": 87.97834882,
                        "remaining_time": 254.3498567,
                        "test": [
                          0.0255119433
                        ]
                      },
                      {
                        "learn": [
                          0.02484894058
                        ],
                        "iteration": 257,
                        "passed_time": 88.29472374,
                        "remaining_time": 253.9328877,
                        "test": [
                          0.0255101168
                        ]
                      },
                      {
                        "learn": [
                          0.02483655674
                        ],
                        "iteration": 258,
                        "passed_time": 88.66052444,
                        "remaining_time": 253.6581027,
                        "test": [
                          0.02550240466
                        ]
                      },
                      {
                        "learn": [
                          0.02481656519
                        ],
                        "iteration": 259,
                        "passed_time": 89.03104243,
                        "remaining_time": 253.3960438,
                        "test": [
                          0.0254933394
                        ]
                      },
                      {
                        "learn": [
                          0.02481331351
                        ],
                        "iteration": 260,
                        "passed_time": 89.34350862,
                        "remaining_time": 252.9687849,
                        "test": [
                          0.02549193828
                        ]
                      },
                      {
                        "learn": [
                          0.02481033858
                        ],
                        "iteration": 261,
                        "passed_time": 89.67943318,
                        "remaining_time": 252.6084797,
                        "test": [
                          0.0254898838
                        ]
                      },
                      {
                        "learn": [
                          0.02480415342
                        ],
                        "iteration": 262,
                        "passed_time": 89.9814854,
                        "remaining_time": 252.1534401,
                        "test": [
                          0.02548623974
                        ]
                      },
                      {
                        "learn": [
                          0.02479250608
                        ],
                        "iteration": 263,
                        "passed_time": 90.32394245,
                        "remaining_time": 251.8122032,
                        "test": [
                          0.02547986197
                        ]
                      },
                      {
                        "learn": [
                          0.02478563926
                        ],
                        "iteration": 264,
                        "passed_time": 90.68018043,
                        "remaining_time": 251.5091797,
                        "test": [
                          0.02547624287
                        ]
                      },
                      {
                        "learn": [
                          0.02478167748
                        ],
                        "iteration": 265,
                        "passed_time": 90.99416597,
                        "remaining_time": 251.0891648,
                        "test": [
                          0.02547420424
                        ]
                      },
                      {
                        "learn": [
                          0.02477496561
                        ],
                        "iteration": 266,
                        "passed_time": 91.33375677,
                        "remaining_time": 250.7402386,
                        "test": [
                          0.02547049564
                        ]
                      },
                      {
                        "learn": [
                          0.02476762051
                        ],
                        "iteration": 267,
                        "passed_time": 91.69664044,
                        "remaining_time": 250.455003,
                        "test": [
                          0.02546482814
                        ]
                      },
                      {
                        "learn": [
                          0.0247642948
                        ],
                        "iteration": 268,
                        "passed_time": 92.02605678,
                        "remaining_time": 250.0782435,
                        "test": [
                          0.02546128084
                        ]
                      },
                      {
                        "learn": [
                          0.02476079761
                        ],
                        "iteration": 269,
                        "passed_time": 92.33027772,
                        "remaining_time": 249.6337138,
                        "test": [
                          0.02545823222
                        ]
                      },
                      {
                        "learn": [
                          0.02475650222
                        ],
                        "iteration": 270,
                        "passed_time": 92.65327506,
                        "remaining_time": 249.2407288,
                        "test": [
                          0.02545737384
                        ]
                      },
                      {
                        "learn": [
                          0.02475335615
                        ],
                        "iteration": 271,
                        "passed_time": 92.97151516,
                        "remaining_time": 248.8355259,
                        "test": [
                          0.02545431523
                        ]
                      },
                      {
                        "learn": [
                          0.0247516558
                        ],
                        "iteration": 272,
                        "passed_time": 93.28206877,
                        "remaining_time": 248.4104908,
                        "test": [
                          0.02545341172
                        ]
                      },
                      {
                        "learn": [
                          0.0247390761
                        ],
                        "iteration": 273,
                        "passed_time": 93.64254791,
                        "remaining_time": 248.1185759,
                        "test": [
                          0.0254418692
                        ]
                      },
                      {
                        "learn": [
                          0.02473637801
                        ],
                        "iteration": 274,
                        "passed_time": 93.97132855,
                        "remaining_time": 247.7425935,
                        "test": [
                          0.02544139558
                        ]
                      },
                      {
                        "learn": [
                          0.02472790706
                        ],
                        "iteration": 275,
                        "passed_time": 94.31784627,
                        "remaining_time": 247.4134808,
                        "test": [
                          0.02543610641
                        ]
                      },
                      {
                        "learn": [
                          0.02472517764
                        ],
                        "iteration": 276,
                        "passed_time": 94.60543097,
                        "remaining_time": 246.9304209,
                        "test": [
                          0.025436836
                        ]
                      },
                      {
                        "learn": [
                          0.02471915235
                        ],
                        "iteration": 277,
                        "passed_time": 94.95147727,
                        "remaining_time": 246.6005992,
                        "test": [
                          0.0254332499
                        ]
                      },
                      {
                        "learn": [
                          0.02471538156
                        ],
                        "iteration": 278,
                        "passed_time": 95.27917577,
                        "remaining_time": 246.2232463,
                        "test": [
                          0.02543075179
                        ]
                      },
                      {
                        "learn": [
                          0.02471208873
                        ],
                        "iteration": 279,
                        "passed_time": 95.60084201,
                        "remaining_time": 245.8307366,
                        "test": [
                          0.02542984669
                        ]
                      },
                      {
                        "learn": [
                          0.02471066704
                        ],
                        "iteration": 280,
                        "passed_time": 95.92402659,
                        "remaining_time": 245.4426161,
                        "test": [
                          0.02542978559
                        ]
                      },
                      {
                        "learn": [
                          0.02470756753
                        ],
                        "iteration": 281,
                        "passed_time": 96.22517951,
                        "remaining_time": 244.9988613,
                        "test": [
                          0.02542680104
                        ]
                      },
                      {
                        "learn": [
                          0.02470254804
                        ],
                        "iteration": 282,
                        "passed_time": 96.59093478,
                        "remaining_time": 244.7197888,
                        "test": [
                          0.0254250143
                        ]
                      },
                      {
                        "learn": [
                          0.02469245445
                        ],
                        "iteration": 283,
                        "passed_time": 96.95532211,
                        "remaining_time": 244.4366571,
                        "test": [
                          0.02541841364
                        ]
                      },
                      {
                        "learn": [
                          0.02468748097
                        ],
                        "iteration": 284,
                        "passed_time": 97.29812656,
                        "remaining_time": 244.0988087,
                        "test": [
                          0.02541581176
                        ]
                      },
                      {
                        "learn": [
                          0.02468467332
                        ],
                        "iteration": 285,
                        "passed_time": 97.60229902,
                        "remaining_time": 243.6644808,
                        "test": [
                          0.02541528942
                        ]
                      },
                      {
                        "learn": [
                          0.02468178042
                        ],
                        "iteration": 286,
                        "passed_time": 97.9143131,
                        "remaining_time": 243.2505409,
                        "test": [
                          0.02541369287
                        ]
                      },
                      {
                        "learn": [
                          0.02467100914
                        ],
                        "iteration": 287,
                        "passed_time": 98.27524201,
                        "remaining_time": 242.9582372,
                        "test": [
                          0.02540637917
                        ]
                      },
                      {
                        "learn": [
                          0.02466767472
                        ],
                        "iteration": 288,
                        "passed_time": 98.60871845,
                        "remaining_time": 242.5979198,
                        "test": [
                          0.0254043015
                        ]
                      },
                      {
                        "learn": [
                          0.02466010334
                        ],
                        "iteration": 289,
                        "passed_time": 98.98510973,
                        "remaining_time": 242.3428549,
                        "test": [
                          0.02539828069
                        ]
                      },
                      {
                        "learn": [
                          0.02465701052
                        ],
                        "iteration": 290,
                        "passed_time": 99.29796022,
                        "remaining_time": 241.9321436,
                        "test": [
                          0.02539682529
                        ]
                      },
                      {
                        "learn": [
                          0.02464179186
                        ],
                        "iteration": 291,
                        "passed_time": 99.66464523,
                        "remaining_time": 241.652633,
                        "test": [
                          0.02538763345
                        ]
                      },
                      {
                        "learn": [
                          0.02463772366
                        ],
                        "iteration": 292,
                        "passed_time": 100.0291193,
                        "remaining_time": 241.3671923,
                        "test": [
                          0.02538565664
                        ]
                      },
                      {
                        "learn": [
                          0.02463584763
                        ],
                        "iteration": 293,
                        "passed_time": 100.343777,
                        "remaining_time": 240.961587,
                        "test": [
                          0.02538334735
                        ]
                      },
                      {
                        "learn": [
                          0.02463418872
                        ],
                        "iteration": 294,
                        "passed_time": 100.6504245,
                        "remaining_time": 240.5374551,
                        "test": [
                          0.02538289216
                        ]
                      },
                      {
                        "learn": [
                          0.02463143311
                        ],
                        "iteration": 295,
                        "passed_time": 101.008173,
                        "remaining_time": 240.2356548,
                        "test": [
                          0.0253811699
                        ]
                      },
                      {
                        "learn": [
                          0.02462821042
                        ],
                        "iteration": 296,
                        "passed_time": 101.3115835,
                        "remaining_time": 239.8048593,
                        "test": [
                          0.02537834456
                        ]
                      },
                      {
                        "learn": [
                          0.02462353239
                        ],
                        "iteration": 297,
                        "passed_time": 101.6624962,
                        "remaining_time": 239.4868199,
                        "test": [
                          0.02537645074
                        ]
                      },
                      {
                        "learn": [
                          0.02461893204
                        ],
                        "iteration": 298,
                        "passed_time": 102.0038111,
                        "remaining_time": 239.1460587,
                        "test": [
                          0.02537692176
                        ]
                      },
                      {
                        "learn": [
                          0.02461224847
                        ],
                        "iteration": 299,
                        "passed_time": 102.367121,
                        "remaining_time": 238.8566156,
                        "test": [
                          0.02537400832
                        ]
                      },
                      {
                        "learn": [
                          0.02460588433
                        ],
                        "iteration": 300,
                        "passed_time": 102.7241901,
                        "remaining_time": 238.5521889,
                        "test": [
                          0.02537008416
                        ]
                      },
                      {
                        "learn": [
                          0.02460143219
                        ],
                        "iteration": 301,
                        "passed_time": 103.0621429,
                        "remaining_time": 238.2032309,
                        "test": [
                          0.025368027
                        ]
                      },
                      {
                        "learn": [
                          0.02458734074
                        ],
                        "iteration": 302,
                        "passed_time": 103.432125,
                        "remaining_time": 237.9280235,
                        "test": [
                          0.02535940832
                        ]
                      },
                      {
                        "learn": [
                          0.02458333596
                        ],
                        "iteration": 303,
                        "passed_time": 103.740841,
                        "remaining_time": 237.5119254,
                        "test": [
                          0.02535790481
                        ]
                      },
                      {
                        "learn": [
                          0.0245808975
                        ],
                        "iteration": 304,
                        "passed_time": 104.0930019,
                        "remaining_time": 237.195529,
                        "test": [
                          0.02535565663
                        ]
                      },
                      {
                        "learn": [
                          0.02457425442
                        ],
                        "iteration": 305,
                        "passed_time": 104.447487,
                        "remaining_time": 236.8841699,
                        "test": [
                          0.02535241802
                        ]
                      },
                      {
                        "learn": [
                          0.02456861638
                        ],
                        "iteration": 306,
                        "passed_time": 104.8061699,
                        "remaining_time": 236.5820056,
                        "test": [
                          0.02534950818
                        ]
                      },
                      {
                        "learn": [
                          0.02456684483
                        ],
                        "iteration": 307,
                        "passed_time": 105.1435718,
                        "remaining_time": 236.2316614,
                        "test": [
                          0.02534888261
                        ]
                      },
                      {
                        "learn": [
                          0.02456373056
                        ],
                        "iteration": 308,
                        "passed_time": 105.4372452,
                        "remaining_time": 235.7836131,
                        "test": [
                          0.02534656265
                        ]
                      },
                      {
                        "learn": [
                          0.02455372481
                        ],
                        "iteration": 309,
                        "passed_time": 105.7926716,
                        "remaining_time": 235.4740109,
                        "test": [
                          0.02534142768
                        ]
                      },
                      {
                        "learn": [
                          0.02455235557
                        ],
                        "iteration": 310,
                        "passed_time": 106.1090008,
                        "remaining_time": 235.077497,
                        "test": [
                          0.02534055107
                        ]
                      },
                      {
                        "learn": [
                          0.02455033384
                        ],
                        "iteration": 311,
                        "passed_time": 106.3968669,
                        "remaining_time": 234.6187321,
                        "test": [
                          0.02534064686
                        ]
                      },
                      {
                        "learn": [
                          0.02454306883
                        ],
                        "iteration": 312,
                        "passed_time": 106.728332,
                        "remaining_time": 234.2567543,
                        "test": [
                          0.0253361927
                        ]
                      },
                      {
                        "learn": [
                          0.02453784677
                        ],
                        "iteration": 313,
                        "passed_time": 107.0676604,
                        "remaining_time": 233.9121498,
                        "test": [
                          0.02533387409
                        ]
                      },
                      {
                        "learn": [
                          0.02452934163
                        ],
                        "iteration": 314,
                        "passed_time": 107.4406785,
                        "remaining_time": 233.6408406,
                        "test": [
                          0.02532938174
                        ]
                      },
                      {
                        "learn": [
                          0.02452753284
                        ],
                        "iteration": 315,
                        "passed_time": 107.739091,
                        "remaining_time": 233.2073994,
                        "test": [
                          0.02532853345
                        ]
                      },
                      {
                        "learn": [
                          0.02452382584
                        ],
                        "iteration": 316,
                        "passed_time": 108.0603054,
                        "remaining_time": 232.8239388,
                        "test": [
                          0.02532795684
                        ]
                      },
                      {
                        "learn": [
                          0.02451898401
                        ],
                        "iteration": 317,
                        "passed_time": 108.4225555,
                        "remaining_time": 232.5288768,
                        "test": [
                          0.02532675967
                        ]
                      },
                      {
                        "learn": [
                          0.02451508256
                        ],
                        "iteration": 318,
                        "passed_time": 108.735163,
                        "remaining_time": 232.1274169,
                        "test": [
                          0.02532393692
                        ]
                      },
                      {
                        "learn": [
                          0.02451081512
                        ],
                        "iteration": 319,
                        "passed_time": 109.0830671,
                        "remaining_time": 231.8015176,
                        "test": [
                          0.02532228474
                        ]
                      },
                      {
                        "learn": [
                          0.02450336726
                        ],
                        "iteration": 320,
                        "passed_time": 109.4516206,
                        "remaining_time": 231.51916,
                        "test": [
                          0.02531676784
                        ]
                      },
                      {
                        "learn": [
                          0.02450106131
                        ],
                        "iteration": 321,
                        "passed_time": 109.7420916,
                        "remaining_time": 231.0718576,
                        "test": [
                          0.02531535227
                        ]
                      },
                      {
                        "learn": [
                          0.02449472656
                        ],
                        "iteration": 322,
                        "passed_time": 110.0949592,
                        "remaining_time": 230.7563077,
                        "test": [
                          0.02531425419
                        ]
                      },
                      {
                        "learn": [
                          0.02449300833
                        ],
                        "iteration": 323,
                        "passed_time": 110.4448229,
                        "remaining_time": 230.4342601,
                        "test": [
                          0.02531304203
                        ]
                      },
                      {
                        "learn": [
                          0.02449048496
                        ],
                        "iteration": 324,
                        "passed_time": 110.7483095,
                        "remaining_time": 230.0157198,
                        "test": [
                          0.02531273325
                        ]
                      },
                      {
                        "learn": [
                          0.02448507496
                        ],
                        "iteration": 325,
                        "passed_time": 111.078432,
                        "remaining_time": 229.6529544,
                        "test": [
                          0.02530955327
                        ]
                      },
                      {
                        "learn": [
                          0.02448132848
                        ],
                        "iteration": 326,
                        "passed_time": 111.4417732,
                        "remaining_time": 229.3587565,
                        "test": [
                          0.02530598252
                        ]
                      },
                      {
                        "learn": [
                          0.02447655096
                        ],
                        "iteration": 327,
                        "passed_time": 111.7831691,
                        "remaining_time": 229.0191757,
                        "test": [
                          0.02530315199
                        ]
                      },
                      {
                        "learn": [
                          0.0244734158
                        ],
                        "iteration": 328,
                        "passed_time": 112.1030666,
                        "remaining_time": 228.6357377,
                        "test": [
                          0.02530094807
                        ]
                      },
                      {
                        "learn": [
                          0.02446946409
                        ],
                        "iteration": 329,
                        "passed_time": 112.4499959,
                        "remaining_time": 228.3075675,
                        "test": [
                          0.02529874407
                        ]
                      },
                      {
                        "learn": [
                          0.0244679792
                        ],
                        "iteration": 330,
                        "passed_time": 112.7645619,
                        "remaining_time": 227.9138728,
                        "test": [
                          0.02529742174
                        ]
                      },
                      {
                        "learn": [
                          0.02446492602
                        ],
                        "iteration": 331,
                        "passed_time": 113.0880099,
                        "remaining_time": 227.538526,
                        "test": [
                          0.02529553965
                        ]
                      },
                      {
                        "learn": [
                          0.02446142305
                        ],
                        "iteration": 332,
                        "passed_time": 113.4184082,
                        "remaining_time": 227.1774123,
                        "test": [
                          0.02529423124
                        ]
                      },
                      {
                        "learn": [
                          0.02445846469
                        ],
                        "iteration": 333,
                        "passed_time": 113.7414399,
                        "remaining_time": 226.8017933,
                        "test": [
                          0.02529352968
                        ]
                      },
                      {
                        "learn": [
                          0.02445530673
                        ],
                        "iteration": 334,
                        "passed_time": 114.0468136,
                        "remaining_time": 226.3914359,
                        "test": [
                          0.02529141499
                        ]
                      },
                      {
                        "learn": [
                          0.02445407751
                        ],
                        "iteration": 335,
                        "passed_time": 114.3754515,
                        "remaining_time": 226.0276779,
                        "test": [
                          0.02529142372
                        ]
                      },
                      {
                        "learn": [
                          0.02444930951
                        ],
                        "iteration": 336,
                        "passed_time": 114.7081952,
                        "remaining_time": 225.6722059,
                        "test": [
                          0.0252910436
                        ]
                      },
                      {
                        "learn": [
                          0.02444252596
                        ],
                        "iteration": 337,
                        "passed_time": 115.0291799,
                        "remaining_time": 225.2938375,
                        "test": [
                          0.02528632785
                        ]
                      },
                      {
                        "learn": [
                          0.02443667128
                        ],
                        "iteration": 338,
                        "passed_time": 115.4183556,
                        "remaining_time": 225.0487701,
                        "test": [
                          0.02528378694
                        ]
                      },
                      {
                        "learn": [
                          0.02443095329
                        ],
                        "iteration": 339,
                        "passed_time": 115.7214273,
                        "remaining_time": 224.6357118,
                        "test": [
                          0.02528299486
                        ]
                      },
                      {
                        "learn": [
                          0.02442817721
                        ],
                        "iteration": 340,
                        "passed_time": 116.0378528,
                        "remaining_time": 224.2491056,
                        "test": [
                          0.02528211074
                        ]
                      },
                      {
                        "learn": [
                          0.024425373
                        ],
                        "iteration": 341,
                        "passed_time": 116.3508137,
                        "remaining_time": 223.8562438,
                        "test": [
                          0.02528175694
                        ]
                      },
                      {
                        "learn": [
                          0.02442179918
                        ],
                        "iteration": 342,
                        "passed_time": 116.707629,
                        "remaining_time": 223.5478491,
                        "test": [
                          0.02528141092
                        ]
                      },
                      {
                        "learn": [
                          0.02441952937
                        ],
                        "iteration": 343,
                        "passed_time": 117.0104447,
                        "remaining_time": 223.1361968,
                        "test": [
                          0.02527974998
                        ]
                      },
                      {
                        "learn": [
                          0.02441395944
                        ],
                        "iteration": 344,
                        "passed_time": 117.3355868,
                        "remaining_time": 222.7675634,
                        "test": [
                          0.02527680431
                        ]
                      },
                      {
                        "learn": [
                          0.02440985884
                        ],
                        "iteration": 345,
                        "passed_time": 117.6733794,
                        "remaining_time": 222.4230928,
                        "test": [
                          0.02527460553
                        ]
                      },
                      {
                        "learn": [
                          0.02440713887
                        ],
                        "iteration": 346,
                        "passed_time": 117.971498,
                        "remaining_time": 222.0040006,
                        "test": [
                          0.02527371286
                        ]
                      },
                      {
                        "learn": [
                          0.02440480736
                        ],
                        "iteration": 347,
                        "passed_time": 118.2871574,
                        "remaining_time": 221.6184673,
                        "test": [
                          0.02527160752
                        ]
                      },
                      {
                        "learn": [
                          0.02440381312
                        ],
                        "iteration": 348,
                        "passed_time": 118.6138419,
                        "remaining_time": 221.2539,
                        "test": [
                          0.0252716311
                        ]
                      },
                      {
                        "learn": [
                          0.0244027541
                        ],
                        "iteration": 349,
                        "passed_time": 118.8999055,
                        "remaining_time": 220.8141102,
                        "test": [
                          0.02527163632
                        ]
                      },
                      {
                        "learn": [
                          0.02439904833
                        ],
                        "iteration": 350,
                        "passed_time": 119.2241904,
                        "remaining_time": 220.4458678,
                        "test": [
                          0.02526927379
                        ]
                      },
                      {
                        "learn": [
                          0.02439618681
                        ],
                        "iteration": 351,
                        "passed_time": 119.5886563,
                        "remaining_time": 220.1518446,
                        "test": [
                          0.02526815754
                        ]
                      },
                      {
                        "learn": [
                          0.02439426239
                        ],
                        "iteration": 352,
                        "passed_time": 119.909453,
                        "remaining_time": 219.7773827,
                        "test": [
                          0.02526669428
                        ]
                      },
                      {
                        "learn": [
                          0.02439313674
                        ],
                        "iteration": 353,
                        "passed_time": 120.2196408,
                        "remaining_time": 219.3838642,
                        "test": [
                          0.02526578909
                        ]
                      },
                      {
                        "learn": [
                          0.024388942
                        ],
                        "iteration": 354,
                        "passed_time": 120.5717649,
                        "remaining_time": 219.0670094,
                        "test": [
                          0.02526172702
                        ]
                      },
                      {
                        "learn": [
                          0.02438328152
                        ],
                        "iteration": 355,
                        "passed_time": 120.9057488,
                        "remaining_time": 218.7171411,
                        "test": [
                          0.02525936906
                        ]
                      },
                      {
                        "learn": [
                          0.02438121247
                        ],
                        "iteration": 356,
                        "passed_time": 121.2593798,
                        "remaining_time": 218.4027485,
                        "test": [
                          0.02525862622
                        ]
                      },
                      {
                        "learn": [
                          0.02437546659
                        ],
                        "iteration": 357,
                        "passed_time": 121.6324342,
                        "remaining_time": 218.1229687,
                        "test": [
                          0.02525706282
                        ]
                      },
                      {
                        "learn": [
                          0.02437380345
                        ],
                        "iteration": 358,
                        "passed_time": 121.9570693,
                        "remaining_time": 217.7562156,
                        "test": [
                          0.02525594482
                        ]
                      },
                      {
                        "learn": [
                          0.0243731555
                        ],
                        "iteration": 359,
                        "passed_time": 122.2454505,
                        "remaining_time": 217.3252454,
                        "test": [
                          0.02525569325
                        ]
                      },
                      {
                        "learn": [
                          0.02436807115
                        ],
                        "iteration": 360,
                        "passed_time": 122.6163545,
                        "remaining_time": 217.0411373,
                        "test": [
                          0.02525317085
                        ]
                      },
                      {
                        "learn": [
                          0.02435730611
                        ],
                        "iteration": 361,
                        "passed_time": 122.96088,
                        "remaining_time": 216.7100593,
                        "test": [
                          0.02524895918
                        ]
                      },
                      {
                        "learn": [
                          0.02435546563
                        ],
                        "iteration": 362,
                        "passed_time": 123.2789286,
                        "remaining_time": 216.332445,
                        "test": [
                          0.02524734635
                        ]
                      },
                      {
                        "learn": [
                          0.02435241232
                        ],
                        "iteration": 363,
                        "passed_time": 123.642017,
                        "remaining_time": 216.0338538,
                        "test": [
                          0.02524618993
                        ]
                      },
                      {
                        "learn": [
                          0.02434972579
                        ],
                        "iteration": 364,
                        "passed_time": 123.9562592,
                        "remaining_time": 215.6499303,
                        "test": [
                          0.02524598122
                        ]
                      },
                      {
                        "learn": [
                          0.02434505347
                        ],
                        "iteration": 365,
                        "passed_time": 124.2890426,
                        "remaining_time": 215.2985055,
                        "test": [
                          0.02524534358
                        ]
                      },
                      {
                        "learn": [
                          0.0243371027
                        ],
                        "iteration": 366,
                        "passed_time": 124.6453945,
                        "remaining_time": 214.987833,
                        "test": [
                          0.0252387402
                        ]
                      },
                      {
                        "learn": [
                          0.02433484697
                        ],
                        "iteration": 367,
                        "passed_time": 124.9586612,
                        "remaining_time": 214.6029181,
                        "test": [
                          0.02523876649
                        ]
                      },
                      {
                        "learn": [
                          0.0243237633
                        ],
                        "iteration": 368,
                        "passed_time": 125.3516057,
                        "remaining_time": 214.3546428,
                        "test": [
                          0.02522961681
                        ]
                      },
                      {
                        "learn": [
                          0.02431548796
                        ],
                        "iteration": 369,
                        "passed_time": 125.7285821,
                        "remaining_time": 214.0783965,
                        "test": [
                          0.02522680314
                        ]
                      },
                      {
                        "learn": [
                          0.02431064166
                        ],
                        "iteration": 370,
                        "passed_time": 126.0996169,
                        "remaining_time": 213.7915338,
                        "test": [
                          0.02522112181
                        ]
                      },
                      {
                        "learn": [
                          0.0243045256
                        ],
                        "iteration": 371,
                        "passed_time": 126.4438435,
                        "remaining_time": 213.4589616,
                        "test": [
                          0.02521920731
                        ]
                      },
                      {
                        "learn": [
                          0.02430149251
                        ],
                        "iteration": 372,
                        "passed_time": 126.8428503,
                        "remaining_time": 213.2184105,
                        "test": [
                          0.02521787824
                        ]
                      },
                      {
                        "learn": [
                          0.02429738176
                        ],
                        "iteration": 373,
                        "passed_time": 127.2044032,
                        "remaining_time": 212.914322,
                        "test": [
                          0.02521656329
                        ]
                      },
                      {
                        "learn": [
                          0.02429573808
                        ],
                        "iteration": 374,
                        "passed_time": 127.5081328,
                        "remaining_time": 212.5135546,
                        "test": [
                          0.02521611486
                        ]
                      },
                      {
                        "learn": [
                          0.02429175441
                        ],
                        "iteration": 375,
                        "passed_time": 127.8893665,
                        "remaining_time": 212.2419275,
                        "test": [
                          0.02521404354
                        ]
                      },
                      {
                        "learn": [
                          0.02428851636
                        ],
                        "iteration": 376,
                        "passed_time": 128.2018592,
                        "remaining_time": 211.8561228,
                        "test": [
                          0.02521295084
                        ]
                      },
                      {
                        "learn": [
                          0.02428518039
                        ],
                        "iteration": 377,
                        "passed_time": 128.523897,
                        "remaining_time": 211.4864125,
                        "test": [
                          0.02520994922
                        ]
                      },
                      {
                        "learn": [
                          0.02428282156
                        ],
                        "iteration": 378,
                        "passed_time": 128.8687431,
                        "remaining_time": 211.1543257,
                        "test": [
                          0.02520904876
                        ]
                      },
                      {
                        "learn": [
                          0.0242797212
                        ],
                        "iteration": 379,
                        "passed_time": 129.172747,
                        "remaining_time": 210.7555345,
                        "test": [
                          0.02520836211
                        ]
                      },
                      {
                        "learn": [
                          0.02427396569
                        ],
                        "iteration": 380,
                        "passed_time": 129.5376012,
                        "remaining_time": 210.4561027,
                        "test": [
                          0.02520641124
                        ]
                      },
                      {
                        "learn": [
                          0.02427111001
                        ],
                        "iteration": 381,
                        "passed_time": 129.8992152,
                        "remaining_time": 210.1510864,
                        "test": [
                          0.02520723706
                        ]
                      },
                      {
                        "learn": [
                          0.02426788427
                        ],
                        "iteration": 382,
                        "passed_time": 130.2024387,
                        "remaining_time": 209.7517093,
                        "test": [
                          0.02520661191
                        ]
                      },
                      {
                        "learn": [
                          0.02426468087
                        ],
                        "iteration": 383,
                        "passed_time": 130.5165662,
                        "remaining_time": 209.370325,
                        "test": [
                          0.02520502328
                        ]
                      },
                      {
                        "learn": [
                          0.02425549222
                        ],
                        "iteration": 384,
                        "passed_time": 130.8975873,
                        "remaining_time": 209.0961459,
                        "test": [
                          0.02520192336
                        ]
                      },
                      {
                        "learn": [
                          0.0242523839
                        ],
                        "iteration": 385,
                        "passed_time": 131.2653789,
                        "remaining_time": 208.8003696,
                        "test": [
                          0.02519973694
                        ]
                      },
                      {
                        "learn": [
                          0.024251904
                        ],
                        "iteration": 386,
                        "passed_time": 131.5410796,
                        "remaining_time": 208.3583508,
                        "test": [
                          0.02519943169
                        ]
                      },
                      {
                        "learn": [
                          0.02424342754
                        ],
                        "iteration": 387,
                        "passed_time": 131.8893663,
                        "remaining_time": 208.0316809,
                        "test": [
                          0.02519249957
                        ]
                      },
                      {
                        "learn": [
                          0.02423944094
                        ],
                        "iteration": 388,
                        "passed_time": 132.2055581,
                        "remaining_time": 207.6544884,
                        "test": [
                          0.02519130866
                        ]
                      },
                      {
                        "learn": [
                          0.02423393324
                        ],
                        "iteration": 389,
                        "passed_time": 132.5729603,
                        "remaining_time": 207.3577072,
                        "test": [
                          0.02518762596
                        ]
                      },
                      {
                        "learn": [
                          0.02423063753
                        ],
                        "iteration": 390,
                        "passed_time": 132.9111512,
                        "remaining_time": 207.0150667,
                        "test": [
                          0.02518563047
                        ]
                      },
                      {
                        "learn": [
                          0.02422399338
                        ],
                        "iteration": 391,
                        "passed_time": 133.2526032,
                        "remaining_time": 206.677507,
                        "test": [
                          0.02518148451
                        ]
                      },
                      {
                        "learn": [
                          0.02422010622
                        ],
                        "iteration": 392,
                        "passed_time": 133.5878891,
                        "remaining_time": 206.3304037,
                        "test": [
                          0.02517883191
                        ]
                      },
                      {
                        "learn": [
                          0.02421857293
                        ],
                        "iteration": 393,
                        "passed_time": 133.8994194,
                        "remaining_time": 205.9468227,
                        "test": [
                          0.02517879829
                        ]
                      },
                      {
                        "learn": [
                          0.02421362711
                        ],
                        "iteration": 394,
                        "passed_time": 134.2385913,
                        "remaining_time": 205.6059436,
                        "test": [
                          0.02517680251
                        ]
                      },
                      {
                        "learn": [
                          0.02421202544
                        ],
                        "iteration": 395,
                        "passed_time": 134.5317156,
                        "remaining_time": 205.1948389,
                        "test": [
                          0.02517642801
                        ]
                      },
                      {
                        "learn": [
                          0.02421044306
                        ],
                        "iteration": 396,
                        "passed_time": 134.8914819,
                        "remaining_time": 204.8855506,
                        "test": [
                          0.0251768199
                        ]
                      },
                      {
                        "learn": [
                          0.02420903558
                        ],
                        "iteration": 397,
                        "passed_time": 135.2233013,
                        "remaining_time": 204.5337372,
                        "test": [
                          0.02517620148
                        ]
                      },
                      {
                        "learn": [
                          0.02420011895
                        ],
                        "iteration": 398,
                        "passed_time": 135.5926826,
                        "remaining_time": 204.2386021,
                        "test": [
                          0.02516906206
                        ]
                      },
                      {
                        "learn": [
                          0.02419795696
                        ],
                        "iteration": 399,
                        "passed_time": 135.927652,
                        "remaining_time": 203.891478,
                        "test": [
                          0.025167692
                        ]
                      },
                      {
                        "learn": [
                          0.02419499132
                        ],
                        "iteration": 400,
                        "passed_time": 136.2984605,
                        "remaining_time": 203.5979497,
                        "test": [
                          0.0251652961
                        ]
                      },
                      {
                        "learn": [
                          0.02419063588
                        ],
                        "iteration": 401,
                        "passed_time": 136.6243585,
                        "remaining_time": 203.2372299,
                        "test": [
                          0.02516309877
                        ]
                      },
                      {
                        "learn": [
                          0.02418758236
                        ],
                        "iteration": 402,
                        "passed_time": 136.9595015,
                        "remaining_time": 202.8903781,
                        "test": [
                          0.02516270316
                        ]
                      },
                      {
                        "learn": [
                          0.02418600744
                        ],
                        "iteration": 403,
                        "passed_time": 137.2813801,
                        "remaining_time": 202.5240162,
                        "test": [
                          0.02516198899
                        ]
                      },
                      {
                        "learn": [
                          0.02418518459
                        ],
                        "iteration": 404,
                        "passed_time": 137.6006284,
                        "remaining_time": 202.1540097,
                        "test": [
                          0.02516103518
                        ]
                      },
                      {
                        "learn": [
                          0.02418287395
                        ],
                        "iteration": 405,
                        "passed_time": 137.9240244,
                        "remaining_time": 201.7903214,
                        "test": [
                          0.02515993122
                        ]
                      },
                      {
                        "learn": [
                          0.02417373836
                        ],
                        "iteration": 406,
                        "passed_time": 138.3193344,
                        "remaining_time": 201.5316101,
                        "test": [
                          0.02515496698
                        ]
                      },
                      {
                        "learn": [
                          0.02417305722
                        ],
                        "iteration": 407,
                        "passed_time": 138.6111329,
                        "remaining_time": 201.122036,
                        "test": [
                          0.02515428289
                        ]
                      },
                      {
                        "learn": [
                          0.02417136589
                        ],
                        "iteration": 408,
                        "passed_time": 138.9164403,
                        "remaining_time": 200.7325579,
                        "test": [
                          0.02515287743
                        ]
                      },
                      {
                        "learn": [
                          0.02416599409
                        ],
                        "iteration": 409,
                        "passed_time": 139.3224047,
                        "remaining_time": 200.4883385,
                        "test": [
                          0.02515069051
                        ]
                      },
                      {
                        "learn": [
                          0.02415741802
                        ],
                        "iteration": 410,
                        "passed_time": 139.6974647,
                        "remaining_time": 200.1990431,
                        "test": [
                          0.0251456602
                        ]
                      },
                      {
                        "learn": [
                          0.02415213173
                        ],
                        "iteration": 411,
                        "passed_time": 140.0435882,
                        "remaining_time": 199.8680337,
                        "test": [
                          0.02514361843
                        ]
                      },
                      {
                        "learn": [
                          0.02414759096
                        ],
                        "iteration": 412,
                        "passed_time": 140.4280617,
                        "remaining_time": 199.5914582,
                        "test": [
                          0.02514113895
                        ]
                      },
                      {
                        "learn": [
                          0.02414326513
                        ],
                        "iteration": 413,
                        "passed_time": 140.758978,
                        "remaining_time": 199.2385534,
                        "test": [
                          0.02513865123
                        ]
                      },
                      {
                        "learn": [
                          0.02413992379
                        ],
                        "iteration": 414,
                        "passed_time": 141.0921698,
                        "remaining_time": 198.8889623,
                        "test": [
                          0.0251356916
                        ]
                      },
                      {
                        "learn": [
                          0.02413740013
                        ],
                        "iteration": 415,
                        "passed_time": 141.4477432,
                        "remaining_time": 198.5708702,
                        "test": [
                          0.02513316207
                        ]
                      },
                      {
                        "learn": [
                          0.02413650095
                        ],
                        "iteration": 416,
                        "passed_time": 141.7610875,
                        "remaining_time": 198.1935588,
                        "test": [
                          0.02513255785
                        ]
                      },
                      {
                        "learn": [
                          0.02413214091
                        ],
                        "iteration": 417,
                        "passed_time": 142.0870542,
                        "remaining_time": 197.834128,
                        "test": [
                          0.02513221815
                        ]
                      },
                      {
                        "learn": [
                          0.02412883274
                        ],
                        "iteration": 418,
                        "passed_time": 142.4342962,
                        "remaining_time": 197.5043583,
                        "test": [
                          0.02513059363
                        ]
                      },
                      {
                        "learn": [
                          0.02412687261
                        ],
                        "iteration": 419,
                        "passed_time": 142.7565952,
                        "remaining_time": 197.1400601,
                        "test": [
                          0.02512988687
                        ]
                      },
                      {
                        "learn": [
                          0.02412565335
                        ],
                        "iteration": 420,
                        "passed_time": 143.0625949,
                        "remaining_time": 196.753545,
                        "test": [
                          0.02512978037
                        ]
                      },
                      {
                        "learn": [
                          0.02411379636
                        ],
                        "iteration": 421,
                        "passed_time": 143.4557524,
                        "remaining_time": 196.4867888,
                        "test": [
                          0.02512136249
                        ]
                      },
                      {
                        "learn": [
                          0.02411085395
                        ],
                        "iteration": 422,
                        "passed_time": 143.7859556,
                        "remaining_time": 196.1335612,
                        "test": [
                          0.02512078342
                        ]
                      },
                      {
                        "learn": [
                          0.02410734922
                        ],
                        "iteration": 423,
                        "passed_time": 144.1037371,
                        "remaining_time": 195.7635674,
                        "test": [
                          0.02512080268
                        ]
                      },
                      {
                        "learn": [
                          0.0241044819
                        ],
                        "iteration": 424,
                        "passed_time": 144.4788425,
                        "remaining_time": 195.4713752,
                        "test": [
                          0.02511898356
                        ]
                      },
                      {
                        "learn": [
                          0.02409822549
                        ],
                        "iteration": 425,
                        "passed_time": 144.8085953,
                        "remaining_time": 195.1176847,
                        "test": [
                          0.02511591014
                        ]
                      },
                      {
                        "learn": [
                          0.02409725386
                        ],
                        "iteration": 426,
                        "passed_time": 145.1066329,
                        "remaining_time": 194.7215472,
                        "test": [
                          0.02511614976
                        ]
                      },
                      {
                        "learn": [
                          0.02409337041
                        ],
                        "iteration": 427,
                        "passed_time": 145.4568821,
                        "remaining_time": 194.3956461,
                        "test": [
                          0.0251160528
                        ]
                      },
                      {
                        "learn": [
                          0.02408787284
                        ],
                        "iteration": 428,
                        "passed_time": 145.8065959,
                        "remaining_time": 194.068919,
                        "test": [
                          0.0251124958
                        ]
                      },
                      {
                        "learn": [
                          0.02408504056
                        ],
                        "iteration": 429,
                        "passed_time": 146.115885,
                        "remaining_time": 193.6884987,
                        "test": [
                          0.02511082215
                        ]
                      },
                      {
                        "learn": [
                          0.02407994419
                        ],
                        "iteration": 430,
                        "passed_time": 146.4898773,
                        "remaining_time": 193.3938288,
                        "test": [
                          0.02510885081
                        ]
                      },
                      {
                        "learn": [
                          0.02407633801
                        ],
                        "iteration": 431,
                        "passed_time": 146.8015703,
                        "remaining_time": 193.0168795,
                        "test": [
                          0.02510683239
                        ]
                      },
                      {
                        "learn": [
                          0.0240724482
                        ],
                        "iteration": 432,
                        "passed_time": 147.1225126,
                        "remaining_time": 192.6523433,
                        "test": [
                          0.02510589146
                        ]
                      },
                      {
                        "learn": [
                          0.02407083057
                        ],
                        "iteration": 433,
                        "passed_time": 147.4534858,
                        "remaining_time": 192.3010898,
                        "test": [
                          0.02510504448
                        ]
                      },
                      {
                        "learn": [
                          0.02406882536
                        ],
                        "iteration": 434,
                        "passed_time": 147.7609277,
                        "remaining_time": 191.9193658,
                        "test": [
                          0.02510479415
                        ]
                      },
                      {
                        "learn": [
                          0.02406622384
                        ],
                        "iteration": 435,
                        "passed_time": 148.0874573,
                        "remaining_time": 191.5626741,
                        "test": [
                          0.02510287747
                        ]
                      },
                      {
                        "learn": [
                          0.02406176896
                        ],
                        "iteration": 436,
                        "passed_time": 148.4721098,
                        "remaining_time": 191.2810019,
                        "test": [
                          0.02510167588
                        ]
                      },
                      {
                        "learn": [
                          0.02405703327
                        ],
                        "iteration": 437,
                        "passed_time": 148.8310671,
                        "remaining_time": 190.9658898,
                        "test": [
                          0.02509723038
                        ]
                      },
                      {
                        "learn": [
                          0.02405604144
                        ],
                        "iteration": 438,
                        "passed_time": 149.1382912,
                        "remaining_time": 190.5844677,
                        "test": [
                          0.0250966295
                        ]
                      },
                      {
                        "learn": [
                          0.02404917802
                        ],
                        "iteration": 439,
                        "passed_time": 149.5189629,
                        "remaining_time": 190.2968619,
                        "test": [
                          0.02509775154
                        ]
                      },
                      {
                        "learn": [
                          0.02404577954
                        ],
                        "iteration": 440,
                        "passed_time": 149.8377826,
                        "remaining_time": 189.9304319,
                        "test": [
                          0.02509348818
                        ]
                      },
                      {
                        "learn": [
                          0.02404527507
                        ],
                        "iteration": 441,
                        "passed_time": 150.1448674,
                        "remaining_time": 189.5494027,
                        "test": [
                          0.02509336017
                        ]
                      },
                      {
                        "learn": [
                          0.02404034299
                        ],
                        "iteration": 442,
                        "passed_time": 150.5144602,
                        "remaining_time": 189.2473009,
                        "test": [
                          0.02509283138
                        ]
                      },
                      {
                        "learn": [
                          0.02403845324
                        ],
                        "iteration": 443,
                        "passed_time": 150.8544577,
                        "remaining_time": 188.9078344,
                        "test": [
                          0.02509212128
                        ]
                      },
                      {
                        "learn": [
                          0.02403265475
                        ],
                        "iteration": 444,
                        "passed_time": 151.1944145,
                        "remaining_time": 188.5683148,
                        "test": [
                          0.02509016516
                        ]
                      },
                      {
                        "learn": [
                          0.0240317768
                        ],
                        "iteration": 445,
                        "passed_time": 151.4934167,
                        "remaining_time": 188.1779211,
                        "test": [
                          0.02508978872
                        ]
                      },
                      {
                        "learn": [
                          0.02402818869
                        ],
                        "iteration": 446,
                        "passed_time": 151.8541859,
                        "remaining_time": 187.8643508,
                        "test": [
                          0.02508848806
                        ]
                      },
                      {
                        "learn": [
                          0.02402718491
                        ],
                        "iteration": 447,
                        "passed_time": 152.1699108,
                        "remaining_time": 187.4950686,
                        "test": [
                          0.02508730616
                        ]
                      },
                      {
                        "learn": [
                          0.02402211971
                        ],
                        "iteration": 448,
                        "passed_time": 152.5072792,
                        "remaining_time": 187.1525853,
                        "test": [
                          0.02508685106
                        ]
                      },
                      {
                        "learn": [
                          0.02401402752
                        ],
                        "iteration": 449,
                        "passed_time": 152.861396,
                        "remaining_time": 186.8305952,
                        "test": [
                          0.02508354434
                        ]
                      },
                      {
                        "learn": [
                          0.02401183132
                        ],
                        "iteration": 450,
                        "passed_time": 153.1814831,
                        "remaining_time": 186.4670382,
                        "test": [
                          0.02508227999
                        ]
                      },
                      {
                        "learn": [
                          0.02400889035
                        ],
                        "iteration": 451,
                        "passed_time": 153.5144801,
                        "remaining_time": 186.1193254,
                        "test": [
                          0.02508103778
                        ]
                      },
                      {
                        "learn": [
                          0.02400492714
                        ],
                        "iteration": 452,
                        "passed_time": 153.9039122,
                        "remaining_time": 185.8398234,
                        "test": [
                          0.02507903905
                        ]
                      },
                      {
                        "learn": [
                          0.02400063849
                        ],
                        "iteration": 453,
                        "passed_time": 154.265131,
                        "remaining_time": 185.5259064,
                        "test": [
                          0.02507755763
                        ]
                      },
                      {
                        "learn": [
                          0.0239955205
                        ],
                        "iteration": 454,
                        "passed_time": 154.621505,
                        "remaining_time": 185.2059786,
                        "test": [
                          0.02507380203
                        ]
                      },
                      {
                        "learn": [
                          0.02399309212
                        ],
                        "iteration": 455,
                        "passed_time": 154.9709842,
                        "remaining_time": 184.8776653,
                        "test": [
                          0.02507263626
                        ]
                      },
                      {
                        "learn": [
                          0.0239883469
                        ],
                        "iteration": 456,
                        "passed_time": 155.3152384,
                        "remaining_time": 184.5430513,
                        "test": [
                          0.02506874265
                        ]
                      },
                      {
                        "learn": [
                          0.0239828183
                        ],
                        "iteration": 457,
                        "passed_time": 155.709941,
                        "remaining_time": 184.2680961,
                        "test": [
                          0.02506401708
                        ]
                      },
                      {
                        "learn": [
                          0.02397973195
                        ],
                        "iteration": 458,
                        "passed_time": 156.0796933,
                        "remaining_time": 183.9632115,
                        "test": [
                          0.02506265706
                        ]
                      },
                      {
                        "learn": [
                          0.02397451248
                        ],
                        "iteration": 459,
                        "passed_time": 156.4229201,
                        "remaining_time": 183.6269062,
                        "test": [
                          0.02506104785
                        ]
                      },
                      {
                        "learn": [
                          0.0239713916
                        ],
                        "iteration": 460,
                        "passed_time": 156.7897375,
                        "remaining_time": 183.318153,
                        "test": [
                          0.02505934946
                        ]
                      },
                      {
                        "learn": [
                          0.02396408499
                        ],
                        "iteration": 461,
                        "passed_time": 157.1527589,
                        "remaining_time": 183.0047279,
                        "test": [
                          0.02505567099
                        ]
                      },
                      {
                        "learn": [
                          0.02396180959
                        ],
                        "iteration": 462,
                        "passed_time": 157.5203987,
                        "remaining_time": 182.6964451,
                        "test": [
                          0.02505444751
                        ]
                      },
                      {
                        "learn": [
                          0.02395747677
                        ],
                        "iteration": 463,
                        "passed_time": 157.8973288,
                        "remaining_time": 182.3986385,
                        "test": [
                          0.02505254925
                        ]
                      },
                      {
                        "learn": [
                          0.02395511267
                        ],
                        "iteration": 464,
                        "passed_time": 158.2294792,
                        "remaining_time": 182.0489707,
                        "test": [
                          0.02505239978
                        ]
                      },
                      {
                        "learn": [
                          0.02395384412
                        ],
                        "iteration": 465,
                        "passed_time": 158.5246679,
                        "remaining_time": 181.6570228,
                        "test": [
                          0.02505207008
                        ]
                      },
                      {
                        "learn": [
                          0.02395219518
                        ],
                        "iteration": 466,
                        "passed_time": 158.8457508,
                        "remaining_time": 181.2950432,
                        "test": [
                          0.0250523685
                        ]
                      },
                      {
                        "learn": [
                          0.02394416711
                        ],
                        "iteration": 467,
                        "passed_time": 159.2277199,
                        "remaining_time": 181.0024509,
                        "test": [
                          0.02504692165
                        ]
                      },
                      {
                        "learn": [
                          0.02394248187
                        ],
                        "iteration": 468,
                        "passed_time": 159.5521821,
                        "remaining_time": 180.6443682,
                        "test": [
                          0.02504607865
                        ]
                      },
                      {
                        "learn": [
                          0.02393853746
                        ],
                        "iteration": 469,
                        "passed_time": 159.9111061,
                        "remaining_time": 180.3252899,
                        "test": [
                          0.02504244667
                        ]
                      },
                      {
                        "learn": [
                          0.02393642944
                        ],
                        "iteration": 470,
                        "passed_time": 160.2364936,
                        "remaining_time": 179.9683761,
                        "test": [
                          0.02504130175
                        ]
                      },
                      {
                        "learn": [
                          0.023932378
                        ],
                        "iteration": 471,
                        "passed_time": 160.5944431,
                        "remaining_time": 179.648021,
                        "test": [
                          0.0250395153
                        ]
                      },
                      {
                        "learn": [
                          0.02392906246
                        ],
                        "iteration": 472,
                        "passed_time": 160.9277283,
                        "remaining_time": 179.3000271,
                        "test": [
                          0.02503903558
                        ]
                      },
                      {
                        "learn": [
                          0.02392603725
                        ],
                        "iteration": 473,
                        "passed_time": 161.254881,
                        "remaining_time": 178.9452899,
                        "test": [
                          0.02503727038
                        ]
                      },
                      {
                        "learn": [
                          0.0239238199
                        ],
                        "iteration": 474,
                        "passed_time": 161.5789827,
                        "remaining_time": 178.5872967,
                        "test": [
                          0.02503650528
                        ]
                      },
                      {
                        "learn": [
                          0.0239201528
                        ],
                        "iteration": 475,
                        "passed_time": 161.9387812,
                        "remaining_time": 178.2687424,
                        "test": [
                          0.02503527001
                        ]
                      },
                      {
                        "learn": [
                          0.02391753125
                        ],
                        "iteration": 476,
                        "passed_time": 162.2753596,
                        "remaining_time": 177.9245557,
                        "test": [
                          0.02503353266
                        ]
                      },
                      {
                        "learn": [
                          0.02391426084
                        ],
                        "iteration": 477,
                        "passed_time": 162.6229759,
                        "remaining_time": 177.5924549,
                        "test": [
                          0.02503197352
                        ]
                      },
                      {
                        "learn": [
                          0.02390812562
                        ],
                        "iteration": 478,
                        "passed_time": 162.9941688,
                        "remaining_time": 177.285933,
                        "test": [
                          0.02502971991
                        ]
                      },
                      {
                        "learn": [
                          0.02390394908
                        ],
                        "iteration": 479,
                        "passed_time": 163.3815096,
                        "remaining_time": 176.9966354,
                        "test": [
                          0.02502683621
                        ]
                      },
                      {
                        "learn": [
                          0.02389404398
                        ],
                        "iteration": 480,
                        "passed_time": 163.7281835,
                        "remaining_time": 176.6630504,
                        "test": [
                          0.02501911251
                        ]
                      },
                      {
                        "learn": [
                          0.02389243223
                        ],
                        "iteration": 481,
                        "passed_time": 164.0461667,
                        "remaining_time": 176.2985775,
                        "test": [
                          0.02501756626
                        ]
                      },
                      {
                        "learn": [
                          0.02388914903
                        ],
                        "iteration": 482,
                        "passed_time": 164.3894421,
                        "remaining_time": 175.9613697,
                        "test": [
                          0.02501598823
                        ]
                      },
                      {
                        "learn": [
                          0.02388707608
                        ],
                        "iteration": 483,
                        "passed_time": 164.7494912,
                        "remaining_time": 175.6420195,
                        "test": [
                          0.0250151819
                        ]
                      },
                      {
                        "learn": [
                          0.02388474453
                        ],
                        "iteration": 484,
                        "passed_time": 165.1111133,
                        "remaining_time": 175.3241718,
                        "test": [
                          0.02501310804
                        ]
                      },
                      {
                        "learn": [
                          0.02388302919
                        ],
                        "iteration": 485,
                        "passed_time": 165.4213446,
                        "remaining_time": 174.9517924,
                        "test": [
                          0.02501346327
                        ]
                      },
                      {
                        "learn": [
                          0.02387999958
                        ],
                        "iteration": 486,
                        "passed_time": 165.7429202,
                        "remaining_time": 174.5916182,
                        "test": [
                          0.02501214563
                        ]
                      },
                      {
                        "learn": [
                          0.02387665144
                        ],
                        "iteration": 487,
                        "passed_time": 166.1098052,
                        "remaining_time": 174.2791399,
                        "test": [
                          0.02500964045
                        ]
                      },
                      {
                        "learn": [
                          0.02387417939
                        ],
                        "iteration": 488,
                        "passed_time": 166.4205235,
                        "remaining_time": 173.9077455,
                        "test": [
                          0.02500915892
                        ]
                      },
                      {
                        "learn": [
                          0.02387118882
                        ],
                        "iteration": 489,
                        "passed_time": 166.7541315,
                        "remaining_time": 173.5604226,
                        "test": [
                          0.02500632067
                        ]
                      },
                      {
                        "learn": [
                          0.02386709355
                        ],
                        "iteration": 490,
                        "passed_time": 167.0871611,
                        "remaining_time": 173.212556,
                        "test": [
                          0.02500454788
                        ]
                      },
                      {
                        "learn": [
                          0.02386223119
                        ],
                        "iteration": 491,
                        "passed_time": 167.449401,
                        "remaining_time": 172.8949099,
                        "test": [
                          0.0250029078
                        ]
                      },
                      {
                        "learn": [
                          0.02385726334
                        ],
                        "iteration": 492,
                        "passed_time": 167.7846075,
                        "remaining_time": 172.5492819,
                        "test": [
                          0.0250009925
                        ]
                      },
                      {
                        "learn": [
                          0.0238481277
                        ],
                        "iteration": 493,
                        "passed_time": 168.1934871,
                        "remaining_time": 172.2791589,
                        "test": [
                          0.0249978045
                        ]
                      },
                      {
                        "learn": [
                          0.02384559129
                        ],
                        "iteration": 494,
                        "passed_time": 168.5409021,
                        "remaining_time": 171.9457688,
                        "test": [
                          0.02499567879
                        ]
                      },
                      {
                        "learn": [
                          0.0238420551
                        ],
                        "iteration": 495,
                        "passed_time": 168.8957341,
                        "remaining_time": 171.6198588,
                        "test": [
                          0.02499242108
                        ]
                      },
                      {
                        "learn": [
                          0.02383572084
                        ],
                        "iteration": 496,
                        "passed_time": 169.2448359,
                        "remaining_time": 171.2880331,
                        "test": [
                          0.02498878616
                        ]
                      },
                      {
                        "learn": [
                          0.02383303752
                        ],
                        "iteration": 497,
                        "passed_time": 169.5746492,
                        "remaining_time": 170.9366946,
                        "test": [
                          0.02498863562
                        ]
                      },
                      {
                        "learn": [
                          0.02383246708
                        ],
                        "iteration": 498,
                        "passed_time": 169.8720983,
                        "remaining_time": 170.5529484,
                        "test": [
                          0.02498923099
                        ]
                      },
                      {
                        "learn": [
                          0.02382953232
                        ],
                        "iteration": 499,
                        "passed_time": 170.1931437,
                        "remaining_time": 170.1931437,
                        "test": [
                          0.02498781893
                        ]
                      },
                      {
                        "learn": [
                          0.02382596371
                        ],
                        "iteration": 500,
                        "passed_time": 170.5659409,
                        "remaining_time": 169.8850389,
                        "test": [
                          0.02498727318
                        ]
                      },
                      {
                        "learn": [
                          0.02382369261
                        ],
                        "iteration": 501,
                        "passed_time": 170.8968653,
                        "remaining_time": 169.5351372,
                        "test": [
                          0.0249868301
                        ]
                      },
                      {
                        "learn": [
                          0.02382233973
                        ],
                        "iteration": 502,
                        "passed_time": 171.1897534,
                        "remaining_time": 169.1477285,
                        "test": [
                          0.02498683467
                        ]
                      },
                      {
                        "learn": [
                          0.02381752015
                        ],
                        "iteration": 503,
                        "passed_time": 171.5642733,
                        "remaining_time": 168.8410309,
                        "test": [
                          0.02498498958
                        ]
                      },
                      {
                        "learn": [
                          0.02381530976
                        ],
                        "iteration": 504,
                        "passed_time": 171.9158547,
                        "remaining_time": 168.5115803,
                        "test": [
                          0.02498470322
                        ]
                      },
                      {
                        "learn": [
                          0.02381121299
                        ],
                        "iteration": 505,
                        "passed_time": 172.2283309,
                        "remaining_time": 168.1438645,
                        "test": [
                          0.02498172655
                        ]
                      },
                      {
                        "learn": [
                          0.02380820651
                        ],
                        "iteration": 506,
                        "passed_time": 172.5960716,
                        "remaining_time": 167.8301051,
                        "test": [
                          0.02498028083
                        ]
                      },
                      {
                        "learn": [
                          0.02380361362
                        ],
                        "iteration": 507,
                        "passed_time": 172.958311,
                        "remaining_time": 167.5108051,
                        "test": [
                          0.02497867005
                        ]
                      },
                      {
                        "learn": [
                          0.02380153821
                        ],
                        "iteration": 508,
                        "passed_time": 173.2700607,
                        "remaining_time": 167.1426323,
                        "test": [
                          0.0249770366
                        ]
                      },
                      {
                        "learn": [
                          0.02379622632
                        ],
                        "iteration": 509,
                        "passed_time": 173.6388546,
                        "remaining_time": 166.8294877,
                        "test": [
                          0.02497312748
                        ]
                      },
                      {
                        "learn": [
                          0.02379334739
                        ],
                        "iteration": 510,
                        "passed_time": 173.9810055,
                        "remaining_time": 166.4906295,
                        "test": [
                          0.02497248056
                        ]
                      },
                      {
                        "learn": [
                          0.02379151196
                        ],
                        "iteration": 511,
                        "passed_time": 174.29445,
                        "remaining_time": 166.1243976,
                        "test": [
                          0.0249705778
                        ]
                      },
                      {
                        "learn": [
                          0.02378608695
                        ],
                        "iteration": 512,
                        "passed_time": 174.659189,
                        "remaining_time": 165.8070663,
                        "test": [
                          0.02496600209
                        ]
                      },
                      {
                        "learn": [
                          0.02378347802
                        ],
                        "iteration": 513,
                        "passed_time": 174.9845171,
                        "remaining_time": 165.4522866,
                        "test": [
                          0.02496468936
                        ]
                      },
                      {
                        "learn": [
                          0.02377608648
                        ],
                        "iteration": 514,
                        "passed_time": 175.303726,
                        "remaining_time": 165.0918585,
                        "test": [
                          0.02495954398
                        ]
                      },
                      {
                        "learn": [
                          0.02377539879
                        ],
                        "iteration": 515,
                        "passed_time": 175.6647821,
                        "remaining_time": 164.7708421,
                        "test": [
                          0.02495943894
                        ]
                      },
                      {
                        "learn": [
                          0.02377167618
                        ],
                        "iteration": 516,
                        "passed_time": 175.9811656,
                        "remaining_time": 164.4079361,
                        "test": [
                          0.02495819943
                        ]
                      },
                      {
                        "learn": [
                          0.02376776077
                        ],
                        "iteration": 517,
                        "passed_time": 176.3019002,
                        "remaining_time": 164.0492585,
                        "test": [
                          0.02495650309
                        ]
                      },
                      {
                        "learn": [
                          0.02376535927
                        ],
                        "iteration": 518,
                        "passed_time": 176.647303,
                        "remaining_time": 163.7135891,
                        "test": [
                          0.02495598668
                        ]
                      },
                      {
                        "learn": [
                          0.02376322382
                        ],
                        "iteration": 519,
                        "passed_time": 176.9697662,
                        "remaining_time": 163.3567073,
                        "test": [
                          0.02495582946
                        ]
                      },
                      {
                        "learn": [
                          0.02375831001
                        ],
                        "iteration": 520,
                        "passed_time": 177.2951647,
                        "remaining_time": 163.0026562,
                        "test": [
                          0.02495381462
                        ]
                      },
                      {
                        "learn": [
                          0.02375294263
                        ],
                        "iteration": 521,
                        "passed_time": 177.6794285,
                        "remaining_time": 162.7026184,
                        "test": [
                          0.02495144023
                        ]
                      },
                      {
                        "learn": [
                          0.02374966018
                        ],
                        "iteration": 522,
                        "passed_time": 178.01737,
                        "remaining_time": 162.3600105,
                        "test": [
                          0.02494978561
                        ]
                      },
                      {
                        "learn": [
                          0.02374677579
                        ],
                        "iteration": 523,
                        "passed_time": 178.348114,
                        "remaining_time": 162.0108822,
                        "test": [
                          0.02494848374
                        ]
                      },
                      {
                        "learn": [
                          0.02374525331
                        ],
                        "iteration": 524,
                        "passed_time": 178.6753865,
                        "remaining_time": 161.658683,
                        "test": [
                          0.02494714836
                        ]
                      },
                      {
                        "learn": [
                          0.02374251058
                        ],
                        "iteration": 525,
                        "passed_time": 179.0059385,
                        "remaining_time": 161.309534,
                        "test": [
                          0.02494611578
                        ]
                      },
                      {
                        "learn": [
                          0.02374169615
                        ],
                        "iteration": 526,
                        "passed_time": 179.3055246,
                        "remaining_time": 160.9326625,
                        "test": [
                          0.02494609132
                        ]
                      },
                      {
                        "learn": [
                          0.02373818617
                        ],
                        "iteration": 527,
                        "passed_time": 179.6337031,
                        "remaining_time": 160.5816437,
                        "test": [
                          0.0249429845
                        ]
                      },
                      {
                        "learn": [
                          0.02373585764
                        ],
                        "iteration": 528,
                        "passed_time": 179.9653501,
                        "remaining_time": 160.2337994,
                        "test": [
                          0.02494341944
                        ]
                      },
                      {
                        "learn": [
                          0.02373440309
                        ],
                        "iteration": 529,
                        "passed_time": 180.2849774,
                        "remaining_time": 159.8753573,
                        "test": [
                          0.02494162092
                        ]
                      },
                      {
                        "learn": [
                          0.02373353021
                        ],
                        "iteration": 530,
                        "passed_time": 180.5744498,
                        "remaining_time": 159.4904274,
                        "test": [
                          0.0249419901
                        ]
                      },
                      {
                        "learn": [
                          0.02373267627
                        ],
                        "iteration": 531,
                        "passed_time": 180.9214086,
                        "remaining_time": 159.1564271,
                        "test": [
                          0.02494197873
                        ]
                      },
                      {
                        "learn": [
                          0.0237308301
                        ],
                        "iteration": 532,
                        "passed_time": 181.2575143,
                        "remaining_time": 158.812869,
                        "test": [
                          0.02494119395
                        ]
                      },
                      {
                        "learn": [
                          0.02371919617
                        ],
                        "iteration": 533,
                        "passed_time": 181.6291578,
                        "remaining_time": 158.5003512,
                        "test": [
                          0.02493832493
                        ]
                      },
                      {
                        "learn": [
                          0.0237137552
                        ],
                        "iteration": 534,
                        "passed_time": 182.0097309,
                        "remaining_time": 158.1953736,
                        "test": [
                          0.02493698991
                        ]
                      },
                      {
                        "learn": [
                          0.023710343
                        ],
                        "iteration": 535,
                        "passed_time": 182.3640772,
                        "remaining_time": 157.8674101,
                        "test": [
                          0.02493449789
                        ]
                      },
                      {
                        "learn": [
                          0.02370891468
                        ],
                        "iteration": 536,
                        "passed_time": 182.714515,
                        "remaining_time": 157.5359784,
                        "test": [
                          0.02493366257
                        ]
                      },
                      {
                        "learn": [
                          0.02370751404
                        ],
                        "iteration": 537,
                        "passed_time": 183.0866618,
                        "remaining_time": 157.2231185,
                        "test": [
                          0.02493319268
                        ]
                      },
                      {
                        "learn": [
                          0.02370654617
                        ],
                        "iteration": 538,
                        "passed_time": 183.3830282,
                        "remaining_time": 156.8452244,
                        "test": [
                          0.02493239209
                        ]
                      },
                      {
                        "learn": [
                          0.02370493919
                        ],
                        "iteration": 539,
                        "passed_time": 183.7001277,
                        "remaining_time": 156.485294,
                        "test": [
                          0.02493256786
                        ]
                      },
                      {
                        "learn": [
                          0.02369360571
                        ],
                        "iteration": 540,
                        "passed_time": 184.1110452,
                        "remaining_time": 156.2051197,
                        "test": [
                          0.0249234148
                        ]
                      },
                      {
                        "learn": [
                          0.02369014714
                        ],
                        "iteration": 541,
                        "passed_time": 184.4327378,
                        "remaining_time": 155.8490663,
                        "test": [
                          0.02492161035
                        ]
                      },
                      {
                        "learn": [
                          0.02368724177
                        ],
                        "iteration": 542,
                        "passed_time": 184.7771147,
                        "remaining_time": 155.512231,
                        "test": [
                          0.02492028876
                        ]
                      },
                      {
                        "learn": [
                          0.0236820826
                        ],
                        "iteration": 543,
                        "passed_time": 185.1554539,
                        "remaining_time": 155.2038364,
                        "test": [
                          0.02491387459
                        ]
                      },
                      {
                        "learn": [
                          0.02368086726
                        ],
                        "iteration": 544,
                        "passed_time": 185.4568607,
                        "remaining_time": 154.8309571,
                        "test": [
                          0.02491395774
                        ]
                      },
                      {
                        "learn": [
                          0.02367850714
                        ],
                        "iteration": 545,
                        "passed_time": 185.8050294,
                        "remaining_time": 154.4972223,
                        "test": [
                          0.02491286191
                        ]
                      },
                      {
                        "learn": [
                          0.02367543413
                        ],
                        "iteration": 546,
                        "passed_time": 186.2092393,
                        "remaining_time": 154.2098454,
                        "test": [
                          0.02491032446
                        ]
                      },
                      {
                        "learn": [
                          0.02367442403
                        ],
                        "iteration": 547,
                        "passed_time": 186.5169357,
                        "remaining_time": 153.8424361,
                        "test": [
                          0.02491058048
                        ]
                      },
                      {
                        "learn": [
                          0.02367339908
                        ],
                        "iteration": 548,
                        "passed_time": 186.8160979,
                        "remaining_time": 153.4682334,
                        "test": [
                          0.02491035474
                        ]
                      },
                      {
                        "learn": [
                          0.0236694191
                        ],
                        "iteration": 549,
                        "passed_time": 187.2085918,
                        "remaining_time": 153.170666,
                        "test": [
                          0.02490788719
                        ]
                      },
                      {
                        "learn": [
                          0.02366705896
                        ],
                        "iteration": 550,
                        "passed_time": 187.5518101,
                        "remaining_time": 152.8326003,
                        "test": [
                          0.02490673935
                        ]
                      },
                      {
                        "learn": [
                          0.02365401788
                        ],
                        "iteration": 551,
                        "passed_time": 187.9210218,
                        "remaining_time": 152.5156119,
                        "test": [
                          0.02489792555
                        ]
                      },
                      {
                        "learn": [
                          0.02365040507
                        ],
                        "iteration": 552,
                        "passed_time": 188.269162,
                        "remaining_time": 152.1814022,
                        "test": [
                          0.02489586197
                        ]
                      },
                      {
                        "learn": [
                          0.02364801164
                        ],
                        "iteration": 553,
                        "passed_time": 188.6060569,
                        "remaining_time": 151.8380891,
                        "test": [
                          0.02489514378
                        ]
                      },
                      {
                        "learn": [
                          0.02364711789
                        ],
                        "iteration": 554,
                        "passed_time": 188.9082006,
                        "remaining_time": 151.4669356,
                        "test": [
                          0.02489451749
                        ]
                      },
                      {
                        "learn": [
                          0.02364555448
                        ],
                        "iteration": 555,
                        "passed_time": 189.2505236,
                        "remaining_time": 151.128116,
                        "test": [
                          0.02489406379
                        ]
                      },
                      {
                        "learn": [
                          0.02364095507
                        ],
                        "iteration": 556,
                        "passed_time": 189.6036323,
                        "remaining_time": 150.797862,
                        "test": [
                          0.02489088181
                        ]
                      },
                      {
                        "learn": [
                          0.0236393291
                        ],
                        "iteration": 557,
                        "passed_time": 189.9081072,
                        "remaining_time": 150.4290025,
                        "test": [
                          0.02489011695
                        ]
                      },
                      {
                        "learn": [
                          0.02363640733
                        ],
                        "iteration": 558,
                        "passed_time": 190.2877789,
                        "remaining_time": 150.1196968,
                        "test": [
                          0.02488979549
                        ]
                      },
                      {
                        "learn": [
                          0.02363443613
                        ],
                        "iteration": 559,
                        "passed_time": 190.597252,
                        "remaining_time": 149.7549837,
                        "test": [
                          0.02488941622
                        ]
                      },
                      {
                        "learn": [
                          0.02363335199
                        ],
                        "iteration": 560,
                        "passed_time": 190.9143999,
                        "remaining_time": 149.3964734,
                        "test": [
                          0.02488972997
                        ]
                      },
                      {
                        "learn": [
                          0.0236311699
                        ],
                        "iteration": 561,
                        "passed_time": 191.2587702,
                        "remaining_time": 149.0593263,
                        "test": [
                          0.02488975947
                        ]
                      },
                      {
                        "learn": [
                          0.02362343772
                        ],
                        "iteration": 562,
                        "passed_time": 191.5984493,
                        "remaining_time": 148.7185122,
                        "test": [
                          0.02488432386
                        ]
                      },
                      {
                        "learn": [
                          0.02362102623
                        ],
                        "iteration": 563,
                        "passed_time": 191.9264289,
                        "remaining_time": 148.3686578,
                        "test": [
                          0.0248825947
                        ]
                      },
                      {
                        "learn": [
                          0.02361883582
                        ],
                        "iteration": 564,
                        "passed_time": 192.2865111,
                        "remaining_time": 148.043597,
                        "test": [
                          0.02488048616
                        ]
                      },
                      {
                        "learn": [
                          0.02361437551
                        ],
                        "iteration": 565,
                        "passed_time": 192.6613594,
                        "remaining_time": 147.7297349,
                        "test": [
                          0.02487758402
                        ]
                      },
                      {
                        "learn": [
                          0.02361153519
                        ],
                        "iteration": 566,
                        "passed_time": 192.9967145,
                        "remaining_time": 147.385498,
                        "test": [
                          0.02487730302
                        ]
                      },
                      {
                        "learn": [
                          0.02360671186
                        ],
                        "iteration": 567,
                        "passed_time": 193.3616869,
                        "remaining_time": 147.0638182,
                        "test": [
                          0.02487313362
                        ]
                      },
                      {
                        "learn": [
                          0.02360333218
                        ],
                        "iteration": 568,
                        "passed_time": 193.6770338,
                        "remaining_time": 146.7043964,
                        "test": [
                          0.02487192163
                        ]
                      },
                      {
                        "learn": [
                          0.02360168004
                        ],
                        "iteration": 569,
                        "passed_time": 193.9893563,
                        "remaining_time": 146.3428477,
                        "test": [
                          0.02487139491
                        ]
                      },
                      {
                        "learn": [
                          0.02359786162
                        ],
                        "iteration": 570,
                        "passed_time": 194.3735221,
                        "remaining_time": 146.0354483,
                        "test": [
                          0.02486730088
                        ]
                      },
                      {
                        "learn": [
                          0.02359620672
                        ],
                        "iteration": 571,
                        "passed_time": 194.6744505,
                        "remaining_time": 145.6654979,
                        "test": [
                          0.0248665648
                        ]
                      },
                      {
                        "learn": [
                          0.02359503313
                        ],
                        "iteration": 572,
                        "passed_time": 194.9962886,
                        "remaining_time": 145.3113704,
                        "test": [
                          0.02486551044
                        ]
                      },
                      {
                        "learn": [
                          0.02359088475
                        ],
                        "iteration": 573,
                        "passed_time": 195.4043855,
                        "remaining_time": 145.0213732,
                        "test": [
                          0.02486329604
                        ]
                      },
                      {
                        "learn": [
                          0.02358668968
                        ],
                        "iteration": 574,
                        "passed_time": 195.7512418,
                        "remaining_time": 144.6857005,
                        "test": [
                          0.02486056158
                        ]
                      },
                      {
                        "learn": [
                          0.02358304267
                        ],
                        "iteration": 575,
                        "passed_time": 196.0858958,
                        "remaining_time": 144.3410067,
                        "test": [
                          0.02486059157
                        ]
                      },
                      {
                        "learn": [
                          0.02358150304
                        ],
                        "iteration": 576,
                        "passed_time": 196.4240257,
                        "remaining_time": 143.9988958,
                        "test": [
                          0.02485982844
                        ]
                      },
                      {
                        "learn": [
                          0.02357979973
                        ],
                        "iteration": 577,
                        "passed_time": 196.7358582,
                        "remaining_time": 143.6375989,
                        "test": [
                          0.02485883485
                        ]
                      },
                      {
                        "learn": [
                          0.02357836707
                        ],
                        "iteration": 578,
                        "passed_time": 197.0280426,
                        "remaining_time": 143.2621864,
                        "test": [
                          0.02485829118
                        ]
                      },
                      {
                        "learn": [
                          0.02357300388
                        ],
                        "iteration": 579,
                        "passed_time": 197.4025176,
                        "remaining_time": 142.9466507,
                        "test": [
                          0.02485808874
                        ]
                      },
                      {
                        "learn": [
                          0.02357114176
                        ],
                        "iteration": 580,
                        "passed_time": 197.7921452,
                        "remaining_time": 142.6418396,
                        "test": [
                          0.02485768839
                        ]
                      },
                      {
                        "learn": [
                          0.0235684728
                        ],
                        "iteration": 581,
                        "passed_time": 198.1168031,
                        "remaining_time": 142.2900751,
                        "test": [
                          0.02485748867
                        ]
                      },
                      {
                        "learn": [
                          0.02356242702
                        ],
                        "iteration": 582,
                        "passed_time": 198.4778068,
                        "remaining_time": 141.9644004,
                        "test": [
                          0.02485438799
                        ]
                      },
                      {
                        "learn": [
                          0.02355931688
                        ],
                        "iteration": 583,
                        "passed_time": 198.8626938,
                        "remaining_time": 141.6556175,
                        "test": [
                          0.02485302444
                        ]
                      },
                      {
                        "learn": [
                          0.0235565959
                        ],
                        "iteration": 584,
                        "passed_time": 199.1879467,
                        "remaining_time": 141.3042699,
                        "test": [
                          0.02485167301
                        ]
                      },
                      {
                        "learn": [
                          0.02355571638
                        ],
                        "iteration": 585,
                        "passed_time": 199.4786365,
                        "remaining_time": 140.928593,
                        "test": [
                          0.02485151219
                        ]
                      },
                      {
                        "learn": [
                          0.02355314409
                        ],
                        "iteration": 586,
                        "passed_time": 199.8087572,
                        "remaining_time": 140.5809484,
                        "test": [
                          0.02484922338
                        ]
                      },
                      {
                        "learn": [
                          0.02354893463
                        ],
                        "iteration": 587,
                        "passed_time": 200.1493223,
                        "remaining_time": 140.2406816,
                        "test": [
                          0.02484554153
                        ]
                      },
                      {
                        "learn": [
                          0.02354595449
                        ],
                        "iteration": 588,
                        "passed_time": 200.5035594,
                        "remaining_time": 139.909954,
                        "test": [
                          0.02484475149
                        ]
                      },
                      {
                        "learn": [
                          0.02354473588
                        ],
                        "iteration": 589,
                        "passed_time": 200.8601381,
                        "remaining_time": 139.580774,
                        "test": [
                          0.02484357835
                        ]
                      },
                      {
                        "learn": [
                          0.02354088802
                        ],
                        "iteration": 590,
                        "passed_time": 201.1864211,
                        "remaining_time": 139.2305351,
                        "test": [
                          0.02484209913
                        ]
                      },
                      {
                        "learn": [
                          0.02353896584
                        ],
                        "iteration": 591,
                        "passed_time": 201.5025859,
                        "remaining_time": 138.8734038,
                        "test": [
                          0.02484081483
                        ]
                      },
                      {
                        "learn": [
                          0.02353784353
                        ],
                        "iteration": 592,
                        "passed_time": 201.873674,
                        "remaining_time": 138.5541068,
                        "test": [
                          0.02484050578
                        ]
                      },
                      {
                        "learn": [
                          0.02352942081
                        ],
                        "iteration": 593,
                        "passed_time": 202.2500451,
                        "remaining_time": 138.2382463,
                        "test": [
                          0.02483327617
                        ]
                      },
                      {
                        "learn": [
                          0.02352701179
                        ],
                        "iteration": 594,
                        "passed_time": 202.5666849,
                        "remaining_time": 137.881525,
                        "test": [
                          0.02483183668
                        ]
                      },
                      {
                        "learn": [
                          0.02352275644
                        ],
                        "iteration": 595,
                        "passed_time": 202.946585,
                        "remaining_time": 137.5678194,
                        "test": [
                          0.02483068279
                        ]
                      },
                      {
                        "learn": [
                          0.02352095897
                        ],
                        "iteration": 596,
                        "passed_time": 203.2867846,
                        "remaining_time": 137.2270925,
                        "test": [
                          0.02483007707
                        ]
                      },
                      {
                        "learn": [
                          0.02351788038
                        ],
                        "iteration": 597,
                        "passed_time": 203.6349693,
                        "remaining_time": 136.8917352,
                        "test": [
                          0.02483058853
                        ]
                      },
                      {
                        "learn": [
                          0.02351254322
                        ],
                        "iteration": 598,
                        "passed_time": 204.0154145,
                        "remaining_time": 136.5779319,
                        "test": [
                          0.0248276649
                        ]
                      },
                      {
                        "learn": [
                          0.02350950045
                        ],
                        "iteration": 599,
                        "passed_time": 204.3464956,
                        "remaining_time": 136.230997,
                        "test": [
                          0.02482781355
                        ]
                      },
                      {
                        "learn": [
                          0.02350496322
                        ],
                        "iteration": 600,
                        "passed_time": 204.6918698,
                        "remaining_time": 135.8936041,
                        "test": [
                          0.02482521579
                        ]
                      },
                      {
                        "learn": [
                          0.02350257635
                        ],
                        "iteration": 601,
                        "passed_time": 205.0428053,
                        "remaining_time": 135.5598613,
                        "test": [
                          0.02482322497
                        ]
                      },
                      {
                        "learn": [
                          0.02350156536
                        ],
                        "iteration": 602,
                        "passed_time": 205.3521326,
                        "remaining_time": 135.1986678,
                        "test": [
                          0.02482311203
                        ]
                      },
                      {
                        "learn": [
                          0.02349851704
                        ],
                        "iteration": 603,
                        "passed_time": 205.6914178,
                        "remaining_time": 134.8572872,
                        "test": [
                          0.02482040976
                        ]
                      },
                      {
                        "learn": [
                          0.02349446505
                        ],
                        "iteration": 604,
                        "passed_time": 206.0361217,
                        "remaining_time": 134.5194514,
                        "test": [
                          0.02481808954
                        ]
                      },
                      {
                        "learn": [
                          0.02349176196
                        ],
                        "iteration": 605,
                        "passed_time": 206.3553229,
                        "remaining_time": 134.1650119,
                        "test": [
                          0.02481719023
                        ]
                      },
                      {
                        "learn": [
                          0.02348886934
                        ],
                        "iteration": 606,
                        "passed_time": 206.7005619,
                        "remaining_time": 133.8275467,
                        "test": [
                          0.02481481428
                        ]
                      },
                      {
                        "learn": [
                          0.02348664009
                        ],
                        "iteration": 607,
                        "passed_time": 207.0445119,
                        "remaining_time": 133.4892247,
                        "test": [
                          0.02481327004
                        ]
                      },
                      {
                        "learn": [
                          0.023484186
                        ],
                        "iteration": 608,
                        "passed_time": 207.3759649,
                        "remaining_time": 133.1428609,
                        "test": [
                          0.02481158795
                        ]
                      },
                      {
                        "learn": [
                          0.02348264884
                        ],
                        "iteration": 609,
                        "passed_time": 207.6980426,
                        "remaining_time": 132.7905518,
                        "test": [
                          0.02481057513
                        ]
                      },
                      {
                        "learn": [
                          0.023478976
                        ],
                        "iteration": 610,
                        "passed_time": 208.0635738,
                        "remaining_time": 132.4660069,
                        "test": [
                          0.0248109102
                        ]
                      },
                      {
                        "learn": [
                          0.02347640127
                        ],
                        "iteration": 611,
                        "passed_time": 208.4215874,
                        "remaining_time": 132.136562,
                        "test": [
                          0.02481053774
                        ]
                      },
                      {
                        "learn": [
                          0.02347408039
                        ],
                        "iteration": 612,
                        "passed_time": 208.7559976,
                        "remaining_time": 131.7921225,
                        "test": [
                          0.0248099564
                        ]
                      },
                      {
                        "learn": [
                          0.0234693462
                        ],
                        "iteration": 613,
                        "passed_time": 209.1273201,
                        "remaining_time": 131.4709211,
                        "test": [
                          0.02480544673
                        ]
                      },
                      {
                        "learn": [
                          0.02346537983
                        ],
                        "iteration": 614,
                        "passed_time": 209.469763,
                        "remaining_time": 131.1314777,
                        "test": [
                          0.02480343794
                        ]
                      },
                      {
                        "learn": [
                          0.0234635721
                        ],
                        "iteration": 615,
                        "passed_time": 209.8037098,
                        "remaining_time": 130.7867282,
                        "test": [
                          0.02480243433
                        ]
                      },
                      {
                        "learn": [
                          0.02346107324
                        ],
                        "iteration": 616,
                        "passed_time": 210.138304,
                        "remaining_time": 130.4424156,
                        "test": [
                          0.02480069454
                        ]
                      },
                      {
                        "learn": [
                          0.02345941506
                        ],
                        "iteration": 617,
                        "passed_time": 210.4681843,
                        "remaining_time": 130.0952207,
                        "test": [
                          0.02479896743
                        ]
                      },
                      {
                        "learn": [
                          0.02345750997
                        ],
                        "iteration": 618,
                        "passed_time": 210.8060004,
                        "remaining_time": 129.7529663,
                        "test": [
                          0.02479767062
                        ]
                      },
                      {
                        "learn": [
                          0.02345621608
                        ],
                        "iteration": 619,
                        "passed_time": 211.1327691,
                        "remaining_time": 129.4039553,
                        "test": [
                          0.02479774906
                        ]
                      },
                      {
                        "learn": [
                          0.02345462085
                        ],
                        "iteration": 620,
                        "passed_time": 211.4380048,
                        "remaining_time": 129.0418741,
                        "test": [
                          0.02479621006
                        ]
                      },
                      {
                        "learn": [
                          0.02345246773
                        ],
                        "iteration": 621,
                        "passed_time": 211.7562898,
                        "remaining_time": 128.687906,
                        "test": [
                          0.02479473397
                        ]
                      },
                      {
                        "learn": [
                          0.02344987224
                        ],
                        "iteration": 622,
                        "passed_time": 212.0874099,
                        "remaining_time": 128.3418195,
                        "test": [
                          0.02479390018
                        ]
                      },
                      {
                        "learn": [
                          0.02344801131
                        ],
                        "iteration": 623,
                        "passed_time": 212.4767338,
                        "remaining_time": 128.0308524,
                        "test": [
                          0.02479273147
                        ]
                      },
                      {
                        "learn": [
                          0.02344640406
                        ],
                        "iteration": 624,
                        "passed_time": 212.8006536,
                        "remaining_time": 127.6803921,
                        "test": [
                          0.02479195906
                        ]
                      },
                      {
                        "learn": [
                          0.0234444839
                        ],
                        "iteration": 625,
                        "passed_time": 213.1255906,
                        "remaining_time": 127.3306244,
                        "test": [
                          0.02479085751
                        ]
                      },
                      {
                        "learn": [
                          0.02344314217
                        ],
                        "iteration": 626,
                        "passed_time": 213.4574235,
                        "remaining_time": 126.9850382,
                        "test": [
                          0.02479032682
                        ]
                      },
                      {
                        "learn": [
                          0.02343847019
                        ],
                        "iteration": 627,
                        "passed_time": 213.7904599,
                        "remaining_time": 126.6402087,
                        "test": [
                          0.02478714802
                        ]
                      },
                      {
                        "learn": [
                          0.02343478266
                        ],
                        "iteration": 628,
                        "passed_time": 214.1635182,
                        "remaining_time": 126.3190226,
                        "test": [
                          0.02478568141
                        ]
                      },
                      {
                        "learn": [
                          0.02343314346
                        ],
                        "iteration": 629,
                        "passed_time": 214.4929111,
                        "remaining_time": 125.9720271,
                        "test": [
                          0.02478512845
                        ]
                      },
                      {
                        "learn": [
                          0.02343207818
                        ],
                        "iteration": 630,
                        "passed_time": 214.8329345,
                        "remaining_time": 125.631304,
                        "test": [
                          0.02478515158
                        ]
                      },
                      {
                        "learn": [
                          0.02342866436
                        ],
                        "iteration": 631,
                        "passed_time": 215.1320902,
                        "remaining_time": 125.2667867,
                        "test": [
                          0.02478273368
                        ]
                      },
                      {
                        "learn": [
                          0.02342258098
                        ],
                        "iteration": 632,
                        "passed_time": 215.5175591,
                        "remaining_time": 124.9525184,
                        "test": [
                          0.02477986034
                        ]
                      },
                      {
                        "learn": [
                          0.0234188876
                        ],
                        "iteration": 633,
                        "passed_time": 215.8422299,
                        "remaining_time": 124.6029277,
                        "test": [
                          0.02477801605
                        ]
                      },
                      {
                        "learn": [
                          0.02341758807
                        ],
                        "iteration": 634,
                        "passed_time": 216.1639238,
                        "remaining_time": 124.2517042,
                        "test": [
                          0.02477778642
                        ]
                      },
                      {
                        "learn": [
                          0.02341348866
                        ],
                        "iteration": 635,
                        "passed_time": 216.6053424,
                        "remaining_time": 123.9690953,
                        "test": [
                          0.02477648987
                        ]
                      },
                      {
                        "learn": [
                          0.02341101733
                        ],
                        "iteration": 636,
                        "passed_time": 216.9160219,
                        "remaining_time": 123.611485,
                        "test": [
                          0.02477573294
                        ]
                      },
                      {
                        "learn": [
                          0.02340755098
                        ],
                        "iteration": 637,
                        "passed_time": 217.2651565,
                        "remaining_time": 123.2758412,
                        "test": [
                          0.02477326882
                        ]
                      },
                      {
                        "learn": [
                          0.0234052266
                        ],
                        "iteration": 638,
                        "passed_time": 217.5977832,
                        "remaining_time": 122.930829,
                        "test": [
                          0.02477287123
                        ]
                      },
                      {
                        "learn": [
                          0.0234035105
                        ],
                        "iteration": 639,
                        "passed_time": 217.9310337,
                        "remaining_time": 122.5862065,
                        "test": [
                          0.02477269937
                        ]
                      },
                      {
                        "learn": [
                          0.02339933734
                        ],
                        "iteration": 640,
                        "passed_time": 218.2710451,
                        "remaining_time": 122.2454059,
                        "test": [
                          0.0247691298
                        ]
                      },
                      {
                        "learn": [
                          0.0233972562
                        ],
                        "iteration": 641,
                        "passed_time": 218.6426966,
                        "remaining_time": 121.9222514,
                        "test": [
                          0.02476813431
                        ]
                      },
                      {
                        "learn": [
                          0.02339673157
                        ],
                        "iteration": 642,
                        "passed_time": 218.9584125,
                        "remaining_time": 121.56789,
                        "test": [
                          0.02476800738
                        ]
                      },
                      {
                        "learn": [
                          0.02339450501
                        ],
                        "iteration": 643,
                        "passed_time": 219.2903173,
                        "remaining_time": 121.2225978,
                        "test": [
                          0.02476700695
                        ]
                      },
                      {
                        "learn": [
                          0.02339191134
                        ],
                        "iteration": 644,
                        "passed_time": 219.6573698,
                        "remaining_time": 120.8966919,
                        "test": [
                          0.02476765125
                        ]
                      },
                      {
                        "learn": [
                          0.02338903616
                        ],
                        "iteration": 645,
                        "passed_time": 219.9910582,
                        "remaining_time": 120.5523755,
                        "test": [
                          0.02476721593
                        ]
                      },
                      {
                        "learn": [
                          0.02338529054
                        ],
                        "iteration": 646,
                        "passed_time": 220.333258,
                        "remaining_time": 120.2127358,
                        "test": [
                          0.02476683438
                        ]
                      },
                      {
                        "learn": [
                          0.02338306822
                        ],
                        "iteration": 647,
                        "passed_time": 220.6873203,
                        "remaining_time": 119.879532,
                        "test": [
                          0.02476563518
                        ]
                      },
                      {
                        "learn": [
                          0.0233818716
                        ],
                        "iteration": 648,
                        "passed_time": 221.0024542,
                        "remaining_time": 119.5252102,
                        "test": [
                          0.02476538119
                        ]
                      },
                      {
                        "learn": [
                          0.02338055602
                        ],
                        "iteration": 649,
                        "passed_time": 221.3198659,
                        "remaining_time": 119.1722355,
                        "test": [
                          0.02476517147
                        ]
                      },
                      {
                        "learn": [
                          0.02337906136
                        ],
                        "iteration": 650,
                        "passed_time": 221.6595835,
                        "remaining_time": 118.8313282,
                        "test": [
                          0.02476444179
                        ]
                      },
                      {
                        "learn": [
                          0.02337449418
                        ],
                        "iteration": 651,
                        "passed_time": 222.0091332,
                        "remaining_time": 118.4956723,
                        "test": [
                          0.02476200651
                        ]
                      },
                      {
                        "learn": [
                          0.0233738774
                        ],
                        "iteration": 652,
                        "passed_time": 222.2970562,
                        "remaining_time": 118.1272259,
                        "test": [
                          0.02476237631
                        ]
                      },
                      {
                        "learn": [
                          0.02337175983
                        ],
                        "iteration": 653,
                        "passed_time": 222.6303922,
                        "remaining_time": 117.7830516,
                        "test": [
                          0.02476119697
                        ]
                      },
                      {
                        "learn": [
                          0.02336578096
                        ],
                        "iteration": 654,
                        "passed_time": 223.0079297,
                        "remaining_time": 117.462192,
                        "test": [
                          0.0247565295
                        ]
                      },
                      {
                        "learn": [
                          0.02336105282
                        ],
                        "iteration": 655,
                        "passed_time": 223.3678946,
                        "remaining_time": 117.1319448,
                        "test": [
                          0.02475254941
                        ]
                      },
                      {
                        "learn": [
                          0.0233582038
                        ],
                        "iteration": 656,
                        "passed_time": 223.7374275,
                        "remaining_time": 116.8066022,
                        "test": [
                          0.02475195713
                        ]
                      },
                      {
                        "learn": [
                          0.02335278349
                        ],
                        "iteration": 657,
                        "passed_time": 224.0944342,
                        "remaining_time": 116.4746147,
                        "test": [
                          0.02474694023
                        ]
                      },
                      {
                        "learn": [
                          0.02335120536
                        ],
                        "iteration": 658,
                        "passed_time": 224.4080967,
                        "remaining_time": 116.1201229,
                        "test": [
                          0.02474732319
                        ]
                      },
                      {
                        "learn": [
                          0.02334944786
                        ],
                        "iteration": 659,
                        "passed_time": 224.7134938,
                        "remaining_time": 115.7614968,
                        "test": [
                          0.02474616727
                        ]
                      },
                      {
                        "learn": [
                          0.02334626643
                        ],
                        "iteration": 660,
                        "passed_time": 225.1101834,
                        "remaining_time": 115.449852,
                        "test": [
                          0.02474501175
                        ]
                      },
                      {
                        "learn": [
                          0.02334358112
                        ],
                        "iteration": 661,
                        "passed_time": 225.4327867,
                        "remaining_time": 115.1001237,
                        "test": [
                          0.02474357138
                        ]
                      },
                      {
                        "learn": [
                          0.02334137823
                        ],
                        "iteration": 662,
                        "passed_time": 225.7559459,
                        "remaining_time": 114.7507598,
                        "test": [
                          0.02474244608
                        ]
                      },
                      {
                        "learn": [
                          0.02333436659
                        ],
                        "iteration": 663,
                        "passed_time": 226.1318953,
                        "remaining_time": 114.428188,
                        "test": [
                          0.02473966756
                        ]
                      },
                      {
                        "learn": [
                          0.02333375329
                        ],
                        "iteration": 664,
                        "passed_time": 226.4434443,
                        "remaining_time": 114.0730133,
                        "test": [
                          0.02473913145
                        ]
                      },
                      {
                        "learn": [
                          0.02332872392
                        ],
                        "iteration": 665,
                        "passed_time": 226.7763523,
                        "remaining_time": 113.7286812,
                        "test": [
                          0.02473748563
                        ]
                      },
                      {
                        "learn": [
                          0.02332788497
                        ],
                        "iteration": 666,
                        "passed_time": 227.126382,
                        "remaining_time": 113.3929313,
                        "test": [
                          0.02473733158
                        ]
                      },
                      {
                        "learn": [
                          0.02332593239
                        ],
                        "iteration": 667,
                        "passed_time": 227.4367133,
                        "remaining_time": 113.0374084,
                        "test": [
                          0.02473575016
                        ]
                      },
                      {
                        "learn": [
                          0.02332109791
                        ],
                        "iteration": 668,
                        "passed_time": 227.794753,
                        "remaining_time": 112.7056252,
                        "test": [
                          0.02473258559
                        ]
                      },
                      {
                        "learn": [
                          0.02331539823
                        ],
                        "iteration": 669,
                        "passed_time": 228.1931923,
                        "remaining_time": 112.3936619,
                        "test": [
                          0.02473026026
                        ]
                      },
                      {
                        "learn": [
                          0.02331442278
                        ],
                        "iteration": 670,
                        "passed_time": 228.5049606,
                        "remaining_time": 112.0389449,
                        "test": [
                          0.02472949998
                        ]
                      },
                      {
                        "learn": [
                          0.02331177039
                        ],
                        "iteration": 671,
                        "passed_time": 228.8341164,
                        "remaining_time": 111.6928425,
                        "test": [
                          0.02472637802
                        ]
                      },
                      {
                        "learn": [
                          0.02330967162
                        ],
                        "iteration": 672,
                        "passed_time": 229.2119207,
                        "remaining_time": 111.370428,
                        "test": [
                          0.02472625306
                        ]
                      },
                      {
                        "learn": [
                          0.02330827302
                        ],
                        "iteration": 673,
                        "passed_time": 229.5561189,
                        "remaining_time": 111.0315946,
                        "test": [
                          0.02472510902
                        ]
                      },
                      {
                        "learn": [
                          0.02330465882
                        ],
                        "iteration": 674,
                        "passed_time": 229.9259139,
                        "remaining_time": 110.7050697,
                        "test": [
                          0.02472428018
                        ]
                      },
                      {
                        "learn": [
                          0.0233033203
                        ],
                        "iteration": 675,
                        "passed_time": 230.2836919,
                        "remaining_time": 110.3726571,
                        "test": [
                          0.02472387907
                        ]
                      },
                      {
                        "learn": [
                          0.02330173329
                        ],
                        "iteration": 676,
                        "passed_time": 230.5960103,
                        "remaining_time": 110.0184805,
                        "test": [
                          0.02472333604
                        ]
                      },
                      {
                        "learn": [
                          0.02329914601
                        ],
                        "iteration": 677,
                        "passed_time": 230.9048526,
                        "remaining_time": 109.6627766,
                        "test": [
                          0.02472274878
                        ]
                      },
                      {
                        "learn": [
                          0.02329749654
                        ],
                        "iteration": 678,
                        "passed_time": 231.2895354,
                        "remaining_time": 109.3430646,
                        "test": [
                          0.02472196132
                        ]
                      },
                      {
                        "learn": [
                          0.02329445138
                        ],
                        "iteration": 679,
                        "passed_time": 231.6258879,
                        "remaining_time": 109.0004178,
                        "test": [
                          0.02471939196
                        ]
                      },
                      {
                        "learn": [
                          0.02329053111
                        ],
                        "iteration": 680,
                        "passed_time": 231.9508635,
                        "remaining_time": 108.6524603,
                        "test": [
                          0.02471814806
                        ]
                      },
                      {
                        "learn": [
                          0.02328661626
                        ],
                        "iteration": 681,
                        "passed_time": 232.3610385,
                        "remaining_time": 108.3442965,
                        "test": [
                          0.02471730156
                        ]
                      },
                      {
                        "learn": [
                          0.02328454353
                        ],
                        "iteration": 682,
                        "passed_time": 232.6999848,
                        "remaining_time": 108.0027748,
                        "test": [
                          0.02471568258
                        ]
                      },
                      {
                        "learn": [
                          0.02328080604
                        ],
                        "iteration": 683,
                        "passed_time": 233.0269265,
                        "remaining_time": 107.6557146,
                        "test": [
                          0.02471370184
                        ]
                      },
                      {
                        "learn": [
                          0.0232761424
                        ],
                        "iteration": 684,
                        "passed_time": 233.401803,
                        "remaining_time": 107.3307561,
                        "test": [
                          0.02471213239
                        ]
                      },
                      {
                        "learn": [
                          0.02327448455
                        ],
                        "iteration": 685,
                        "passed_time": 233.7017772,
                        "remaining_time": 106.9713674,
                        "test": [
                          0.02471266194
                        ]
                      },
                      {
                        "learn": [
                          0.02327212058
                        ],
                        "iteration": 686,
                        "passed_time": 234.0306588,
                        "remaining_time": 106.625322,
                        "test": [
                          0.02471249751
                        ]
                      },
                      {
                        "learn": [
                          0.02326913607
                        ],
                        "iteration": 687,
                        "passed_time": 234.4779855,
                        "remaining_time": 106.33304,
                        "test": [
                          0.02471287848
                        ]
                      },
                      {
                        "learn": [
                          0.02326404999
                        ],
                        "iteration": 688,
                        "passed_time": 234.8345876,
                        "remaining_time": 105.9993567,
                        "test": [
                          0.02471034402
                        ]
                      },
                      {
                        "learn": [
                          0.02326181539
                        ],
                        "iteration": 689,
                        "passed_time": 235.1519243,
                        "remaining_time": 105.647966,
                        "test": [
                          0.02470961758
                        ]
                      },
                      {
                        "learn": [
                          0.02326017096
                        ],
                        "iteration": 690,
                        "passed_time": 235.5192881,
                        "remaining_time": 105.3190449,
                        "test": [
                          0.02470895553
                        ]
                      },
                      {
                        "learn": [
                          0.02325973894
                        ],
                        "iteration": 691,
                        "passed_time": 235.8361065,
                        "remaining_time": 104.9675156,
                        "test": [
                          0.02470916883
                        ]
                      },
                      {
                        "learn": [
                          0.02325773845
                        ],
                        "iteration": 692,
                        "passed_time": 236.1956806,
                        "remaining_time": 104.6350273,
                        "test": [
                          0.02470875885
                        ]
                      },
                      {
                        "learn": [
                          0.02325145549
                        ],
                        "iteration": 693,
                        "passed_time": 236.6117965,
                        "remaining_time": 104.3273915,
                        "test": [
                          0.02470426644
                        ]
                      },
                      {
                        "learn": [
                          0.02324143871
                        ],
                        "iteration": 694,
                        "passed_time": 237.0024877,
                        "remaining_time": 104.008286,
                        "test": [
                          0.02470036148
                        ]
                      },
                      {
                        "learn": [
                          0.02323952831
                        ],
                        "iteration": 695,
                        "passed_time": 237.3336763,
                        "remaining_time": 103.662985,
                        "test": [
                          0.02469936633
                        ]
                      },
                      {
                        "learn": [
                          0.02323459849
                        ],
                        "iteration": 696,
                        "passed_time": 237.7108966,
                        "remaining_time": 103.3377355,
                        "test": [
                          0.02469664736
                        ]
                      },
                      {
                        "learn": [
                          0.02323125511
                        ],
                        "iteration": 697,
                        "passed_time": 238.0412332,
                        "remaining_time": 102.9920522,
                        "test": [
                          0.02469442427
                        ]
                      },
                      {
                        "learn": [
                          0.02323004445
                        ],
                        "iteration": 698,
                        "passed_time": 238.3946253,
                        "remaining_time": 102.6563408,
                        "test": [
                          0.02469410046
                        ]
                      },
                      {
                        "learn": [
                          0.02322924003
                        ],
                        "iteration": 699,
                        "passed_time": 238.7341358,
                        "remaining_time": 102.3146296,
                        "test": [
                          0.02469386129
                        ]
                      },
                      {
                        "learn": [
                          0.02322775465
                        ],
                        "iteration": 700,
                        "passed_time": 239.0408132,
                        "remaining_time": 101.9589203,
                        "test": [
                          0.02469354364
                        ]
                      },
                      {
                        "learn": [
                          0.02322276103
                        ],
                        "iteration": 701,
                        "passed_time": 239.3903499,
                        "remaining_time": 101.6215445,
                        "test": [
                          0.02468933981
                        ]
                      },
                      {
                        "learn": [
                          0.02321720186
                        ],
                        "iteration": 702,
                        "passed_time": 239.7685054,
                        "remaining_time": 101.2962249,
                        "test": [
                          0.02468784442
                        ]
                      },
                      {
                        "learn": [
                          0.02321344319
                        ],
                        "iteration": 703,
                        "passed_time": 240.1086477,
                        "remaining_time": 100.9547723,
                        "test": [
                          0.02468663511
                        ]
                      },
                      {
                        "learn": [
                          0.02320733245
                        ],
                        "iteration": 704,
                        "passed_time": 240.4751829,
                        "remaining_time": 100.6243673,
                        "test": [
                          0.02468343484
                        ]
                      },
                      {
                        "learn": [
                          0.02320598556
                        ],
                        "iteration": 705,
                        "passed_time": 240.8222191,
                        "remaining_time": 100.28574,
                        "test": [
                          0.02468375443
                        ]
                      },
                      {
                        "learn": [
                          0.02320424138
                        ],
                        "iteration": 706,
                        "passed_time": 241.1479138,
                        "remaining_time": 99.93824433,
                        "test": [
                          0.0246823603
                        ]
                      },
                      {
                        "learn": [
                          0.02319725244
                        ],
                        "iteration": 707,
                        "passed_time": 241.5067041,
                        "remaining_time": 99.60445989,
                        "test": [
                          0.02467871092
                        ]
                      },
                      {
                        "learn": [
                          0.02319462951
                        ],
                        "iteration": 708,
                        "passed_time": 241.8849826,
                        "remaining_time": 99.27860357,
                        "test": [
                          0.02467753614
                        ]
                      },
                      {
                        "learn": [
                          0.02319254047
                        ],
                        "iteration": 709,
                        "passed_time": 242.1978133,
                        "remaining_time": 98.92586739,
                        "test": [
                          0.02467708
                        ]
                      },
                      {
                        "learn": [
                          0.02319155863
                        ],
                        "iteration": 710,
                        "passed_time": 242.5231041,
                        "remaining_time": 98.57830814,
                        "test": [
                          0.02467634632
                        ]
                      },
                      {
                        "learn": [
                          0.02318968144
                        ],
                        "iteration": 711,
                        "passed_time": 242.8774376,
                        "remaining_time": 98.24255901,
                        "test": [
                          0.02467598693
                        ]
                      },
                      {
                        "learn": [
                          0.0231868582
                        ],
                        "iteration": 712,
                        "passed_time": 243.1935437,
                        "remaining_time": 97.89137033,
                        "test": [
                          0.0246744586
                        ]
                      },
                      {
                        "learn": [
                          0.023183028
                        ],
                        "iteration": 713,
                        "passed_time": 243.5600852,
                        "remaining_time": 97.56048231,
                        "test": [
                          0.02467281018
                        ]
                      },
                      {
                        "learn": [
                          0.02318031532
                        ],
                        "iteration": 714,
                        "passed_time": 243.9264822,
                        "remaining_time": 97.22943694,
                        "test": [
                          0.02467136303
                        ]
                      },
                      {
                        "learn": [
                          0.0231777668
                        ],
                        "iteration": 715,
                        "passed_time": 244.2639456,
                        "remaining_time": 96.88681642,
                        "test": [
                          0.02467031529
                        ]
                      },
                      {
                        "learn": [
                          0.02316567305
                        ],
                        "iteration": 716,
                        "passed_time": 244.6391791,
                        "remaining_time": 96.55911812,
                        "test": [
                          0.02466128479
                        ]
                      },
                      {
                        "learn": [
                          0.02316286148
                        ],
                        "iteration": 717,
                        "passed_time": 245.0222213,
                        "remaining_time": 96.23435434,
                        "test": [
                          0.024661227
                        ]
                      },
                      {
                        "learn": [
                          0.02316182249
                        ],
                        "iteration": 718,
                        "passed_time": 245.3312606,
                        "remaining_time": 95.88050656,
                        "test": [
                          0.02466025111
                        ]
                      },
                      {
                        "learn": [
                          0.02316046322
                        ],
                        "iteration": 719,
                        "passed_time": 245.6318225,
                        "remaining_time": 95.52348653,
                        "test": [
                          0.02466011216
                        ]
                      },
                      {
                        "learn": [
                          0.02315757953
                        ],
                        "iteration": 720,
                        "passed_time": 246.004989,
                        "remaining_time": 95.19471837,
                        "test": [
                          0.02465848974
                        ]
                      },
                      {
                        "learn": [
                          0.0231517671
                        ],
                        "iteration": 721,
                        "passed_time": 246.348882,
                        "remaining_time": 94.85455566,
                        "test": [
                          0.02465419834
                        ]
                      },
                      {
                        "learn": [
                          0.02315040505
                        ],
                        "iteration": 722,
                        "passed_time": 246.6630632,
                        "remaining_time": 94.50299932,
                        "test": [
                          0.02465333062
                        ]
                      },
                      {
                        "learn": [
                          0.02314795752
                        ],
                        "iteration": 723,
                        "passed_time": 247.0298514,
                        "remaining_time": 94.17160081,
                        "test": [
                          0.02465142963
                        ]
                      },
                      {
                        "learn": [
                          0.02313898444
                        ],
                        "iteration": 724,
                        "passed_time": 247.3811932,
                        "remaining_time": 93.8342457,
                        "test": [
                          0.02464591799
                        ]
                      },
                      {
                        "learn": [
                          0.02313743317
                        ],
                        "iteration": 725,
                        "passed_time": 247.6901533,
                        "remaining_time": 93.48085675,
                        "test": [
                          0.02464576108
                        ]
                      },
                      {
                        "learn": [
                          0.02313433517
                        ],
                        "iteration": 726,
                        "passed_time": 248.0496491,
                        "remaining_time": 93.14656698,
                        "test": [
                          0.02464602259
                        ]
                      },
                      {
                        "learn": [
                          0.02313162577
                        ],
                        "iteration": 727,
                        "passed_time": 248.371257,
                        "remaining_time": 92.79805207,
                        "test": [
                          0.02464531417
                        ]
                      },
                      {
                        "learn": [
                          0.0231304358
                        ],
                        "iteration": 728,
                        "passed_time": 248.6887757,
                        "remaining_time": 92.44809084,
                        "test": [
                          0.02464444908
                        ]
                      },
                      {
                        "learn": [
                          0.02312904711
                        ],
                        "iteration": 729,
                        "passed_time": 249.0710733,
                        "remaining_time": 92.1221778,
                        "test": [
                          0.02464542002
                        ]
                      },
                      {
                        "learn": [
                          0.02312728098
                        ],
                        "iteration": 730,
                        "passed_time": 249.4272796,
                        "remaining_time": 91.78650917,
                        "test": [
                          0.02464618391
                        ]
                      },
                      {
                        "learn": [
                          0.02312460553
                        ],
                        "iteration": 731,
                        "passed_time": 249.7692396,
                        "remaining_time": 91.44556858,
                        "test": [
                          0.02464367024
                        ]
                      },
                      {
                        "learn": [
                          0.02312272112
                        ],
                        "iteration": 732,
                        "passed_time": 250.187662,
                        "remaining_time": 91.13247715,
                        "test": [
                          0.02464349854
                        ]
                      },
                      {
                        "learn": [
                          0.02311907446
                        ],
                        "iteration": 733,
                        "passed_time": 250.5333877,
                        "remaining_time": 90.79275358,
                        "test": [
                          0.02464261988
                        ]
                      },
                      {
                        "learn": [
                          0.02311628334
                        ],
                        "iteration": 734,
                        "passed_time": 250.8776177,
                        "remaining_time": 90.45247441,
                        "test": [
                          0.0246413382
                        ]
                      },
                      {
                        "learn": [
                          0.02311437629
                        ],
                        "iteration": 735,
                        "passed_time": 251.2315904,
                        "remaining_time": 90.11567915,
                        "test": [
                          0.02463889982
                        ]
                      },
                      {
                        "learn": [
                          0.02311023461
                        ],
                        "iteration": 736,
                        "passed_time": 251.572961,
                        "remaining_time": 89.77434022,
                        "test": [
                          0.02463933542
                        ]
                      },
                      {
                        "learn": [
                          0.0231078323
                        ],
                        "iteration": 737,
                        "passed_time": 251.8977124,
                        "remaining_time": 89.42710114,
                        "test": [
                          0.02463969142
                        ]
                      },
                      {
                        "learn": [
                          0.02310216231
                        ],
                        "iteration": 738,
                        "passed_time": 252.2733084,
                        "remaining_time": 89.09788022,
                        "test": [
                          0.02463728832
                        ]
                      },
                      {
                        "learn": [
                          0.02309569802
                        ],
                        "iteration": 739,
                        "passed_time": 252.6686815,
                        "remaining_time": 88.77548267,
                        "test": [
                          0.02463230821
                        ]
                      },
                      {
                        "learn": [
                          0.02309438807
                        ],
                        "iteration": 740,
                        "passed_time": 252.9707372,
                        "remaining_time": 88.42027117,
                        "test": [
                          0.02463168825
                        ]
                      },
                      {
                        "learn": [
                          0.02308345814
                        ],
                        "iteration": 741,
                        "passed_time": 253.3756157,
                        "remaining_time": 88.10095532,
                        "test": [
                          0.02462653743
                        ]
                      },
                      {
                        "learn": [
                          0.02307735149
                        ],
                        "iteration": 742,
                        "passed_time": 253.7353265,
                        "remaining_time": 87.76578588,
                        "test": [
                          0.0246226765
                        ]
                      },
                      {
                        "learn": [
                          0.02307653329
                        ],
                        "iteration": 743,
                        "passed_time": 254.0646351,
                        "remaining_time": 87.42008951,
                        "test": [
                          0.02462252032
                        ]
                      },
                      {
                        "learn": [
                          0.0230742054
                        ],
                        "iteration": 744,
                        "passed_time": 254.4327156,
                        "remaining_time": 87.08770803,
                        "test": [
                          0.02462118579
                        ]
                      },
                      {
                        "learn": [
                          0.02306988753
                        ],
                        "iteration": 745,
                        "passed_time": 254.7850284,
                        "remaining_time": 86.74986223,
                        "test": [
                          0.02461800549
                        ]
                      },
                      {
                        "learn": [
                          0.0230672225
                        ],
                        "iteration": 746,
                        "passed_time": 255.1227894,
                        "remaining_time": 86.40704915,
                        "test": [
                          0.02461694835
                        ]
                      },
                      {
                        "learn": [
                          0.02306374572
                        ],
                        "iteration": 747,
                        "passed_time": 255.5166766,
                        "remaining_time": 86.08315843,
                        "test": [
                          0.02461465349
                        ]
                      },
                      {
                        "learn": [
                          0.02306089645
                        ],
                        "iteration": 748,
                        "passed_time": 255.8477208,
                        "remaining_time": 85.73802124,
                        "test": [
                          0.02461241047
                        ]
                      },
                      {
                        "learn": [
                          0.02305806888
                        ],
                        "iteration": 749,
                        "passed_time": 256.1857166,
                        "remaining_time": 85.39523886,
                        "test": [
                          0.02461158431
                        ]
                      },
                      {
                        "learn": [
                          0.02304525964
                        ],
                        "iteration": 750,
                        "passed_time": 256.5833031,
                        "remaining_time": 85.07222698,
                        "test": [
                          0.02460156099
                        ]
                      },
                      {
                        "learn": [
                          0.02304410402
                        ],
                        "iteration": 751,
                        "passed_time": 256.936337,
                        "remaining_time": 84.7343239,
                        "test": [
                          0.02460128167
                        ]
                      },
                      {
                        "learn": [
                          0.02304209799
                        ],
                        "iteration": 752,
                        "passed_time": 257.2405044,
                        "remaining_time": 84.38035136,
                        "test": [
                          0.02460007374
                        ]
                      },
                      {
                        "learn": [
                          0.02303969927
                        ],
                        "iteration": 753,
                        "passed_time": 257.6160133,
                        "remaining_time": 84.04978683,
                        "test": [
                          0.02459716456
                        ]
                      },
                      {
                        "learn": [
                          0.02303728958
                        ],
                        "iteration": 754,
                        "passed_time": 257.9631754,
                        "remaining_time": 83.70990459,
                        "test": [
                          0.02459639681
                        ]
                      },
                      {
                        "learn": [
                          0.0230342545
                        ],
                        "iteration": 755,
                        "passed_time": 258.2947989,
                        "remaining_time": 83.36498799,
                        "test": [
                          0.0245945003
                        ]
                      },
                      {
                        "learn": [
                          0.02302447123
                        ],
                        "iteration": 756,
                        "passed_time": 258.6953679,
                        "remaining_time": 83.04223831,
                        "test": [
                          0.02458971742
                        ]
                      },
                      {
                        "learn": [
                          0.02302106023
                        ],
                        "iteration": 757,
                        "passed_time": 259.034539,
                        "remaining_time": 82.69968132,
                        "test": [
                          0.02458906109
                        ]
                      },
                      {
                        "learn": [
                          0.02302039188
                        ],
                        "iteration": 758,
                        "passed_time": 259.3230233,
                        "remaining_time": 82.34103903,
                        "test": [
                          0.02458924541
                        ]
                      },
                      {
                        "learn": [
                          0.02301974435
                        ],
                        "iteration": 759,
                        "passed_time": 259.6814753,
                        "remaining_time": 82.00467642,
                        "test": [
                          0.0245893686
                        ]
                      },
                      {
                        "learn": [
                          0.02301469372
                        ],
                        "iteration": 760,
                        "passed_time": 260.041273,
                        "remaining_time": 81.66867839,
                        "test": [
                          0.02458728362
                        ]
                      },
                      {
                        "learn": [
                          0.02301407839
                        ],
                        "iteration": 761,
                        "passed_time": 260.3414544,
                        "remaining_time": 81.31399756,
                        "test": [
                          0.02458614737
                        ]
                      },
                      {
                        "learn": [
                          0.02301065289
                        ],
                        "iteration": 762,
                        "passed_time": 260.7375768,
                        "remaining_time": 80.98926042,
                        "test": [
                          0.02458600119
                        ]
                      },
                      {
                        "learn": [
                          0.02300983612
                        ],
                        "iteration": 763,
                        "passed_time": 261.0418895,
                        "remaining_time": 80.63597634,
                        "test": [
                          0.02458539115
                        ]
                      },
                      {
                        "learn": [
                          0.02300824476
                        ],
                        "iteration": 764,
                        "passed_time": 261.3666132,
                        "remaining_time": 80.28909034,
                        "test": [
                          0.02458370068
                        ]
                      },
                      {
                        "learn": [
                          0.02300583054
                        ],
                        "iteration": 765,
                        "passed_time": 261.7278832,
                        "remaining_time": 79.95342647,
                        "test": [
                          0.02458266601
                        ]
                      },
                      {
                        "learn": [
                          0.02300247292
                        ],
                        "iteration": 766,
                        "passed_time": 262.0861483,
                        "remaining_time": 79.61678298,
                        "test": [
                          0.0245815139
                        ]
                      },
                      {
                        "learn": [
                          0.02300093881
                        ],
                        "iteration": 767,
                        "passed_time": 262.3714889,
                        "remaining_time": 79.25805395,
                        "test": [
                          0.02458051413
                        ]
                      },
                      {
                        "learn": [
                          0.0229966343
                        ],
                        "iteration": 768,
                        "passed_time": 262.7624995,
                        "remaining_time": 78.93125799,
                        "test": [
                          0.02457850273
                        ]
                      },
                      {
                        "learn": [
                          0.02299484065
                        ],
                        "iteration": 769,
                        "passed_time": 263.0913653,
                        "remaining_time": 78.58573249,
                        "test": [
                          0.02457877177
                        ]
                      },
                      {
                        "learn": [
                          0.0229931522
                        ],
                        "iteration": 770,
                        "passed_time": 263.4301414,
                        "remaining_time": 78.24319374,
                        "test": [
                          0.02457786222
                        ]
                      },
                      {
                        "learn": [
                          0.02299135052
                        ],
                        "iteration": 771,
                        "passed_time": 263.7467899,
                        "remaining_time": 77.89412966,
                        "test": [
                          0.02457603024
                        ]
                      },
                      {
                        "learn": [
                          0.02298920387
                        ],
                        "iteration": 772,
                        "passed_time": 264.0930268,
                        "remaining_time": 77.55383839,
                        "test": [
                          0.02457437617
                        ]
                      },
                      {
                        "learn": [
                          0.0229875609
                        ],
                        "iteration": 773,
                        "passed_time": 264.4076241,
                        "remaining_time": 77.20429336,
                        "test": [
                          0.02457349274
                        ]
                      },
                      {
                        "learn": [
                          0.0229860376
                        ],
                        "iteration": 774,
                        "passed_time": 264.7115526,
                        "remaining_time": 76.85174107,
                        "test": [
                          0.02457151947
                        ]
                      },
                      {
                        "learn": [
                          0.02297516446
                        ],
                        "iteration": 775,
                        "passed_time": 265.1259143,
                        "remaining_time": 76.53119177,
                        "test": [
                          0.02456645859
                        ]
                      },
                      {
                        "learn": [
                          0.02297399764
                        ],
                        "iteration": 776,
                        "passed_time": 265.4249338,
                        "remaining_time": 76.17729762,
                        "test": [
                          0.02456657936
                        ]
                      },
                      {
                        "learn": [
                          0.02297221377
                        ],
                        "iteration": 777,
                        "passed_time": 265.7404026,
                        "remaining_time": 75.82823827,
                        "test": [
                          0.02456512455
                        ]
                      },
                      {
                        "learn": [
                          0.02297012638
                        ],
                        "iteration": 778,
                        "passed_time": 266.1583164,
                        "remaining_time": 75.50832852,
                        "test": [
                          0.02456547919
                        ]
                      },
                      {
                        "learn": [
                          0.02296806646
                        ],
                        "iteration": 779,
                        "passed_time": 266.4877241,
                        "remaining_time": 75.16320424,
                        "test": [
                          0.0245661152
                        ]
                      },
                      {
                        "learn": [
                          0.02296659969
                        ],
                        "iteration": 780,
                        "passed_time": 266.8393082,
                        "remaining_time": 74.82433867,
                        "test": [
                          0.0245660336
                        ]
                      },
                      {
                        "learn": [
                          0.02296291922
                        ],
                        "iteration": 781,
                        "passed_time": 267.2411909,
                        "remaining_time": 74.49946242,
                        "test": [
                          0.02456590588
                        ]
                      },
                      {
                        "learn": [
                          0.02295668959
                        ],
                        "iteration": 782,
                        "passed_time": 267.5950948,
                        "remaining_time": 74.16109269,
                        "test": [
                          0.02456277192
                        ]
                      },
                      {
                        "learn": [
                          0.02295367545
                        ],
                        "iteration": 783,
                        "passed_time": 267.9455507,
                        "remaining_time": 73.82173334,
                        "test": [
                          0.02456253783
                        ]
                      },
                      {
                        "learn": [
                          0.02295029273
                        ],
                        "iteration": 784,
                        "passed_time": 268.3167709,
                        "remaining_time": 73.48803278,
                        "test": [
                          0.02456108548
                        ]
                      },
                      {
                        "learn": [
                          0.02294852946
                        ],
                        "iteration": 785,
                        "passed_time": 268.6580291,
                        "remaining_time": 73.14607918,
                        "test": [
                          0.02456132271
                        ]
                      },
                      {
                        "learn": [
                          0.02294684744
                        ],
                        "iteration": 786,
                        "passed_time": 268.9624621,
                        "remaining_time": 72.79416065,
                        "test": [
                          0.02456027781
                        ]
                      },
                      {
                        "learn": [
                          0.02294332819
                        ],
                        "iteration": 787,
                        "passed_time": 269.335685,
                        "remaining_time": 72.46086957,
                        "test": [
                          0.02456035452
                        ]
                      },
                      {
                        "learn": [
                          0.02294077989
                        ],
                        "iteration": 788,
                        "passed_time": 269.6860044,
                        "remaining_time": 72.12135225,
                        "test": [
                          0.02455984783
                        ]
                      },
                      {
                        "learn": [
                          0.02293712299
                        ],
                        "iteration": 789,
                        "passed_time": 270.0383979,
                        "remaining_time": 71.78235895,
                        "test": [
                          0.02455921874
                        ]
                      },
                      {
                        "learn": [
                          0.02293145492
                        ],
                        "iteration": 790,
                        "passed_time": 270.446001,
                        "remaining_time": 71.45791936,
                        "test": [
                          0.02455663645
                        ]
                      },
                      {
                        "learn": [
                          0.02292743919
                        ],
                        "iteration": 791,
                        "passed_time": 270.7870535,
                        "remaining_time": 71.11579182,
                        "test": [
                          0.02455505293
                        ]
                      },
                      {
                        "learn": [
                          0.02292502111
                        ],
                        "iteration": 792,
                        "passed_time": 271.1207134,
                        "remaining_time": 70.7717373,
                        "test": [
                          0.02455390148
                        ]
                      },
                      {
                        "learn": [
                          0.02292005533
                        ],
                        "iteration": 793,
                        "passed_time": 271.4910974,
                        "remaining_time": 70.43723687,
                        "test": [
                          0.0245517064
                        ]
                      },
                      {
                        "learn": [
                          0.02291929926
                        ],
                        "iteration": 794,
                        "passed_time": 271.8063049,
                        "remaining_time": 70.08841824,
                        "test": [
                          0.02455159775
                        ]
                      },
                      {
                        "learn": [
                          0.02291506145
                        ],
                        "iteration": 795,
                        "passed_time": 272.153854,
                        "remaining_time": 69.74797263,
                        "test": [
                          0.02455150805
                        ]
                      },
                      {
                        "learn": [
                          0.02291268822
                        ],
                        "iteration": 796,
                        "passed_time": 272.5223835,
                        "remaining_time": 69.41285302,
                        "test": [
                          0.02455070628
                        ]
                      },
                      {
                        "learn": [
                          0.02291005754
                        ],
                        "iteration": 797,
                        "passed_time": 272.8295394,
                        "remaining_time": 69.06211399,
                        "test": [
                          0.02454893042
                        ]
                      },
                      {
                        "learn": [
                          0.02290907499
                        ],
                        "iteration": 798,
                        "passed_time": 273.15705,
                        "remaining_time": 68.71660456,
                        "test": [
                          0.02454837789
                        ]
                      },
                      {
                        "learn": [
                          0.02290730434
                        ],
                        "iteration": 799,
                        "passed_time": 273.5263927,
                        "remaining_time": 68.38159817,
                        "test": [
                          0.02454776238
                        ]
                      },
                      {
                        "learn": [
                          0.02290524407
                        ],
                        "iteration": 800,
                        "passed_time": 273.8670985,
                        "remaining_time": 68.03939151,
                        "test": [
                          0.02454727022
                        ]
                      },
                      {
                        "learn": [
                          0.02290178541
                        ],
                        "iteration": 801,
                        "passed_time": 274.2410532,
                        "remaining_time": 67.70539717,
                        "test": [
                          0.02454630964
                        ]
                      },
                      {
                        "learn": [
                          0.02290058617
                        ],
                        "iteration": 802,
                        "passed_time": 274.5780134,
                        "remaining_time": 67.36222744,
                        "test": [
                          0.02454557885
                        ]
                      },
                      {
                        "learn": [
                          0.02289589706
                        ],
                        "iteration": 803,
                        "passed_time": 274.9194563,
                        "remaining_time": 67.02016596,
                        "test": [
                          0.02454528391
                        ]
                      },
                      {
                        "learn": [
                          0.02289396488
                        ],
                        "iteration": 804,
                        "passed_time": 275.272802,
                        "remaining_time": 66.68098929,
                        "test": [
                          0.0245442787
                        ]
                      },
                      {
                        "learn": [
                          0.02289244195
                        ],
                        "iteration": 805,
                        "passed_time": 275.6122627,
                        "remaining_time": 66.33843545,
                        "test": [
                          0.02454429801
                        ]
                      },
                      {
                        "learn": [
                          0.02289100259
                        ],
                        "iteration": 806,
                        "passed_time": 275.9271133,
                        "remaining_time": 65.99000355,
                        "test": [
                          0.02454433216
                        ]
                      },
                      {
                        "learn": [
                          0.02289008156
                        ],
                        "iteration": 807,
                        "passed_time": 276.2243499,
                        "remaining_time": 65.63746929,
                        "test": [
                          0.02454365251
                        ]
                      },
                      {
                        "learn": [
                          0.02288726068
                        ],
                        "iteration": 808,
                        "passed_time": 276.6005285,
                        "remaining_time": 65.30370944,
                        "test": [
                          0.02454311467
                        ]
                      },
                      {
                        "learn": [
                          0.02288512417
                        ],
                        "iteration": 809,
                        "passed_time": 276.9294974,
                        "remaining_time": 64.958771,
                        "test": [
                          0.02454236749
                        ]
                      },
                      {
                        "learn": [
                          0.0228834806
                        ],
                        "iteration": 810,
                        "passed_time": 277.2548755,
                        "remaining_time": 64.6130351,
                        "test": [
                          0.02454207214
                        ]
                      },
                      {
                        "learn": [
                          0.02288266373
                        ],
                        "iteration": 811,
                        "passed_time": 277.6033504,
                        "remaining_time": 64.2726969,
                        "test": [
                          0.02454144686
                        ]
                      },
                      {
                        "learn": [
                          0.02288071414
                        ],
                        "iteration": 812,
                        "passed_time": 277.902194,
                        "remaining_time": 63.92092285,
                        "test": [
                          0.0245397631
                        ]
                      },
                      {
                        "learn": [
                          0.0228738692
                        ],
                        "iteration": 813,
                        "passed_time": 278.2577897,
                        "remaining_time": 63.5822468,
                        "test": [
                          0.02453515863
                        ]
                      },
                      {
                        "learn": [
                          0.02287221575
                        ],
                        "iteration": 814,
                        "passed_time": 278.5873032,
                        "remaining_time": 63.23760869,
                        "test": [
                          0.02453532655
                        ]
                      },
                      {
                        "learn": [
                          0.02286996891
                        ],
                        "iteration": 815,
                        "passed_time": 278.9263876,
                        "remaining_time": 62.89516584,
                        "test": [
                          0.02453492464
                        ]
                      },
                      {
                        "learn": [
                          0.02286809023
                        ],
                        "iteration": 816,
                        "passed_time": 279.2695654,
                        "remaining_time": 62.55364807,
                        "test": [
                          0.02453411888
                        ]
                      },
                      {
                        "learn": [
                          0.02286622774
                        ],
                        "iteration": 817,
                        "passed_time": 279.6132063,
                        "remaining_time": 62.21222928,
                        "test": [
                          0.02453421184
                        ]
                      },
                      {
                        "learn": [
                          0.02286242042
                        ],
                        "iteration": 818,
                        "passed_time": 280.0328037,
                        "remaining_time": 61.88759154,
                        "test": [
                          0.02453284104
                        ]
                      },
                      {
                        "learn": [
                          0.02285997198
                        ],
                        "iteration": 819,
                        "passed_time": 280.3762578,
                        "remaining_time": 61.54600781,
                        "test": [
                          0.0245311726
                        ]
                      },
                      {
                        "learn": [
                          0.02285073145
                        ],
                        "iteration": 820,
                        "passed_time": 280.7566704,
                        "remaining_time": 61.21247746,
                        "test": [
                          0.02452604635
                        ]
                      },
                      {
                        "learn": [
                          0.02284525267
                        ],
                        "iteration": 821,
                        "passed_time": 281.1426326,
                        "remaining_time": 60.8800348,
                        "test": [
                          0.02452340965
                        ]
                      },
                      {
                        "learn": [
                          0.02284422596
                        ],
                        "iteration": 822,
                        "passed_time": 281.4392968,
                        "remaining_time": 60.52825704,
                        "test": [
                          0.02452283051
                        ]
                      },
                      {
                        "learn": [
                          0.02284275596
                        ],
                        "iteration": 823,
                        "passed_time": 281.7547753,
                        "remaining_time": 60.18063162,
                        "test": [
                          0.02452160017
                        ]
                      },
                      {
                        "learn": [
                          0.02284190193
                        ],
                        "iteration": 824,
                        "passed_time": 282.0967304,
                        "remaining_time": 59.83870039,
                        "test": [
                          0.024521787
                        ]
                      },
                      {
                        "learn": [
                          0.02283788313
                        ],
                        "iteration": 825,
                        "passed_time": 282.4438449,
                        "remaining_time": 59.49785595,
                        "test": [
                          0.02451969121
                        ]
                      },
                      {
                        "learn": [
                          0.02283626387
                        ],
                        "iteration": 826,
                        "passed_time": 282.7847908,
                        "remaining_time": 59.15570594,
                        "test": [
                          0.02451862183
                        ]
                      },
                      {
                        "learn": [
                          0.02282921411
                        ],
                        "iteration": 827,
                        "passed_time": 283.1988883,
                        "remaining_time": 58.82875457,
                        "test": [
                          0.02451480997
                        ]
                      },
                      {
                        "learn": [
                          0.02282834366
                        ],
                        "iteration": 828,
                        "passed_time": 283.5142383,
                        "remaining_time": 58.48122406,
                        "test": [
                          0.02451394523
                        ]
                      },
                      {
                        "learn": [
                          0.02282502979
                        ],
                        "iteration": 829,
                        "passed_time": 283.87526,
                        "remaining_time": 58.14312555,
                        "test": [
                          0.0245120136
                        ]
                      },
                      {
                        "learn": [
                          0.02282300959
                        ],
                        "iteration": 830,
                        "passed_time": 284.2467658,
                        "remaining_time": 57.807104,
                        "test": [
                          0.02451083573
                        ]
                      },
                      {
                        "learn": [
                          0.02282154432
                        ],
                        "iteration": 831,
                        "passed_time": 284.5584053,
                        "remaining_time": 57.45890877,
                        "test": [
                          0.02451118857
                        ]
                      },
                      {
                        "learn": [
                          0.02281946656
                        ],
                        "iteration": 832,
                        "passed_time": 284.9055682,
                        "remaining_time": 57.11792303,
                        "test": [
                          0.02450986192
                        ]
                      },
                      {
                        "learn": [
                          0.02281449109
                        ],
                        "iteration": 833,
                        "passed_time": 285.3239704,
                        "remaining_time": 56.79110202,
                        "test": [
                          0.02450674812
                        ]
                      },
                      {
                        "learn": [
                          0.02281327683
                        ],
                        "iteration": 834,
                        "passed_time": 285.6411847,
                        "remaining_time": 56.44406644,
                        "test": [
                          0.02450624238
                        ]
                      },
                      {
                        "learn": [
                          0.02280690925
                        ],
                        "iteration": 835,
                        "passed_time": 286.02483,
                        "remaining_time": 56.11013411,
                        "test": [
                          0.0245021504
                        ]
                      },
                      {
                        "learn": [
                          0.02280191457
                        ],
                        "iteration": 836,
                        "passed_time": 286.4160755,
                        "remaining_time": 55.77756309,
                        "test": [
                          0.02450022483
                        ]
                      },
                      {
                        "learn": [
                          0.02280084779
                        ],
                        "iteration": 837,
                        "passed_time": 286.7263053,
                        "remaining_time": 55.42919029,
                        "test": [
                          0.02449878832
                        ]
                      },
                      {
                        "learn": [
                          0.02279898158
                        ],
                        "iteration": 838,
                        "passed_time": 287.0682435,
                        "remaining_time": 55.08699308,
                        "test": [
                          0.02449799434
                        ]
                      },
                      {
                        "learn": [
                          0.02279764299
                        ],
                        "iteration": 839,
                        "passed_time": 287.4480348,
                        "remaining_time": 54.75200663,
                        "test": [
                          0.02449758911
                        ]
                      },
                      {
                        "learn": [
                          0.02279539996
                        ],
                        "iteration": 840,
                        "passed_time": 287.7839071,
                        "remaining_time": 54.40861027,
                        "test": [
                          0.02449639313
                        ]
                      },
                      {
                        "learn": [
                          0.02279379238
                        ],
                        "iteration": 841,
                        "passed_time": 288.1209639,
                        "remaining_time": 54.06545403,
                        "test": [
                          0.02449573968
                        ]
                      },
                      {
                        "learn": [
                          0.02279129
                        ],
                        "iteration": 842,
                        "passed_time": 288.4850949,
                        "remaining_time": 53.72735457,
                        "test": [
                          0.02449376088
                        ]
                      },
                      {
                        "learn": [
                          0.02278502426
                        ],
                        "iteration": 843,
                        "passed_time": 288.854292,
                        "remaining_time": 53.39012979,
                        "test": [
                          0.02448950451
                        ]
                      },
                      {
                        "learn": [
                          0.02278058896
                        ],
                        "iteration": 844,
                        "passed_time": 289.1982647,
                        "remaining_time": 53.04820241,
                        "test": [
                          0.02448789835
                        ]
                      },
                      {
                        "learn": [
                          0.02277638574
                        ],
                        "iteration": 845,
                        "passed_time": 289.5866782,
                        "remaining_time": 52.71435987,
                        "test": [
                          0.02448423531
                        ]
                      },
                      {
                        "learn": [
                          0.02277537009
                        ],
                        "iteration": 846,
                        "passed_time": 289.9076703,
                        "remaining_time": 52.36820963,
                        "test": [
                          0.02448396574
                        ]
                      },
                      {
                        "learn": [
                          0.02277064785
                        ],
                        "iteration": 847,
                        "passed_time": 290.2596357,
                        "remaining_time": 52.02767054,
                        "test": [
                          0.02448229627
                        ]
                      },
                      {
                        "learn": [
                          0.02276819239
                        ],
                        "iteration": 848,
                        "passed_time": 290.6499467,
                        "remaining_time": 51.69392456,
                        "test": [
                          0.0244821871
                        ]
                      },
                      {
                        "learn": [
                          0.0227644893
                        ],
                        "iteration": 849,
                        "passed_time": 290.9852142,
                        "remaining_time": 51.35033191,
                        "test": [
                          0.02448235501
                        ]
                      },
                      {
                        "learn": [
                          0.0227631149
                        ],
                        "iteration": 850,
                        "passed_time": 291.3216469,
                        "remaining_time": 51.00696286,
                        "test": [
                          0.02448272934
                        ]
                      },
                      {
                        "learn": [
                          0.0227624747
                        ],
                        "iteration": 851,
                        "passed_time": 291.6923816,
                        "remaining_time": 50.66956864,
                        "test": [
                          0.02448181605
                        ]
                      },
                      {
                        "learn": [
                          0.02276170671
                        ],
                        "iteration": 852,
                        "passed_time": 291.9965468,
                        "remaining_time": 50.32062412,
                        "test": [
                          0.02448109975
                        ]
                      },
                      {
                        "learn": [
                          0.02276002724
                        ],
                        "iteration": 853,
                        "passed_time": 292.30661,
                        "remaining_time": 49.97279282,
                        "test": [
                          0.0244804615
                        ]
                      },
                      {
                        "learn": [
                          0.02275663283
                        ],
                        "iteration": 854,
                        "passed_time": 292.7018268,
                        "remaining_time": 49.63949109,
                        "test": [
                          0.02448007738
                        ]
                      },
                      {
                        "learn": [
                          0.02275267694
                        ],
                        "iteration": 855,
                        "passed_time": 293.0627729,
                        "remaining_time": 49.30027955,
                        "test": [
                          0.0244780085
                        ]
                      },
                      {
                        "learn": [
                          0.02274844377
                        ],
                        "iteration": 856,
                        "passed_time": 293.4112097,
                        "remaining_time": 48.95892997,
                        "test": [
                          0.02447592936
                        ]
                      },
                      {
                        "learn": [
                          0.02274642029
                        ],
                        "iteration": 857,
                        "passed_time": 293.796142,
                        "remaining_time": 48.62360392,
                        "test": [
                          0.02447517137
                        ]
                      },
                      {
                        "learn": [
                          0.02274451209
                        ],
                        "iteration": 858,
                        "passed_time": 294.1191775,
                        "remaining_time": 48.27800235,
                        "test": [
                          0.02447430843
                        ]
                      },
                      {
                        "learn": [
                          0.02274235989
                        ],
                        "iteration": 859,
                        "passed_time": 294.4356921,
                        "remaining_time": 47.93139174,
                        "test": [
                          0.0244734337
                        ]
                      },
                      {
                        "learn": [
                          0.02273961397
                        ],
                        "iteration": 860,
                        "passed_time": 294.8670755,
                        "remaining_time": 47.60339546,
                        "test": [
                          0.0244711169
                        ]
                      },
                      {
                        "learn": [
                          0.02273478005
                        ],
                        "iteration": 861,
                        "passed_time": 295.2129104,
                        "remaining_time": 47.26146362,
                        "test": [
                          0.02446901365
                        ]
                      },
                      {
                        "learn": [
                          0.02273331834
                        ],
                        "iteration": 862,
                        "passed_time": 295.5209078,
                        "remaining_time": 46.91351607,
                        "test": [
                          0.02446845152
                        ]
                      },
                      {
                        "learn": [
                          0.02273246607
                        ],
                        "iteration": 863,
                        "passed_time": 295.9081102,
                        "remaining_time": 46.57812846,
                        "test": [
                          0.02446820085
                        ]
                      },
                      {
                        "learn": [
                          0.02272759067
                        ],
                        "iteration": 864,
                        "passed_time": 296.2630758,
                        "remaining_time": 46.23758986,
                        "test": [
                          0.02446537125
                        ]
                      },
                      {
                        "learn": [
                          0.02272384336
                        ],
                        "iteration": 865,
                        "passed_time": 296.5862433,
                        "remaining_time": 45.89209769,
                        "test": [
                          0.02446330931
                        ]
                      },
                      {
                        "learn": [
                          0.0227230382
                        ],
                        "iteration": 866,
                        "passed_time": 296.9503042,
                        "remaining_time": 45.55293017,
                        "test": [
                          0.02446387447
                        ]
                      },
                      {
                        "learn": [
                          0.02272247416
                        ],
                        "iteration": 867,
                        "passed_time": 297.2428786,
                        "remaining_time": 45.20283408,
                        "test": [
                          0.02446405356
                        ]
                      },
                      {
                        "learn": [
                          0.02271980302
                        ],
                        "iteration": 868,
                        "passed_time": 297.5507158,
                        "remaining_time": 44.8551712,
                        "test": [
                          0.02446368481
                        ]
                      },
                      {
                        "learn": [
                          0.02271939783
                        ],
                        "iteration": 869,
                        "passed_time": 297.8751548,
                        "remaining_time": 44.5100806,
                        "test": [
                          0.02446380093
                        ]
                      },
                      {
                        "learn": [
                          0.022713179
                        ],
                        "iteration": 870,
                        "passed_time": 298.2193539,
                        "remaining_time": 44.16796401,
                        "test": [
                          0.02446031386
                        ]
                      },
                      {
                        "learn": [
                          0.02271070034
                        ],
                        "iteration": 871,
                        "passed_time": 298.5396412,
                        "remaining_time": 43.82233266,
                        "test": [
                          0.02445920901
                        ]
                      },
                      {
                        "learn": [
                          0.02270935309
                        ],
                        "iteration": 872,
                        "passed_time": 298.8580179,
                        "remaining_time": 43.47648142,
                        "test": [
                          0.02445945226
                        ]
                      },
                      {
                        "learn": [
                          0.02270443931
                        ],
                        "iteration": 873,
                        "passed_time": 299.2417416,
                        "remaining_time": 43.14011378,
                        "test": [
                          0.02445789128
                        ]
                      },
                      {
                        "learn": [
                          0.02270110632
                        ],
                        "iteration": 874,
                        "passed_time": 299.5729438,
                        "remaining_time": 42.79613483,
                        "test": [
                          0.02445607406
                        ]
                      },
                      {
                        "learn": [
                          0.02269807205
                        ],
                        "iteration": 875,
                        "passed_time": 299.88443,
                        "remaining_time": 42.4493942,
                        "test": [
                          0.02445388528
                        ]
                      },
                      {
                        "learn": [
                          0.02269254815
                        ],
                        "iteration": 876,
                        "passed_time": 300.2880626,
                        "remaining_time": 42.11565758,
                        "test": [
                          0.0244517423
                        ]
                      },
                      {
                        "learn": [
                          0.02268793435
                        ],
                        "iteration": 877,
                        "passed_time": 300.6301816,
                        "remaining_time": 41.7732143,
                        "test": [
                          0.02445130294
                        ]
                      },
                      {
                        "learn": [
                          0.02268527823
                        ],
                        "iteration": 878,
                        "passed_time": 300.941363,
                        "remaining_time": 41.42651299,
                        "test": [
                          0.0244495567
                        ]
                      },
                      {
                        "learn": [
                          0.02268471608
                        ],
                        "iteration": 879,
                        "passed_time": 301.2706166,
                        "remaining_time": 41.08235681,
                        "test": [
                          0.02444908165
                        ]
                      },
                      {
                        "learn": [
                          0.02267906495
                        ],
                        "iteration": 880,
                        "passed_time": 301.6156429,
                        "remaining_time": 40.74036494,
                        "test": [
                          0.02444416917
                        ]
                      },
                      {
                        "learn": [
                          0.02267775847
                        ],
                        "iteration": 881,
                        "passed_time": 301.9380989,
                        "remaining_time": 40.39534656,
                        "test": [
                          0.02444455775
                        ]
                      },
                      {
                        "learn": [
                          0.02267614603
                        ],
                        "iteration": 882,
                        "passed_time": 302.323917,
                        "remaining_time": 40.05877496,
                        "test": [
                          0.0244442689
                        ]
                      },
                      {
                        "learn": [
                          0.02267497708
                        ],
                        "iteration": 883,
                        "passed_time": 302.6468051,
                        "remaining_time": 39.71383416,
                        "test": [
                          0.0244446766
                        ]
                      },
                      {
                        "learn": [
                          0.02266952429
                        ],
                        "iteration": 884,
                        "passed_time": 303.0045726,
                        "remaining_time": 39.37347554,
                        "test": [
                          0.02444060616
                        ]
                      },
                      {
                        "learn": [
                          0.0226578206
                        ],
                        "iteration": 885,
                        "passed_time": 303.3940573,
                        "remaining_time": 39.03715861,
                        "test": [
                          0.02443362688
                        ]
                      },
                      {
                        "learn": [
                          0.02265503544
                        ],
                        "iteration": 886,
                        "passed_time": 303.7547818,
                        "remaining_time": 38.69705788,
                        "test": [
                          0.02443302244
                        ]
                      },
                      {
                        "learn": [
                          0.02265339616
                        ],
                        "iteration": 887,
                        "passed_time": 304.0776293,
                        "remaining_time": 38.35213343,
                        "test": [
                          0.02443202674
                        ]
                      },
                      {
                        "learn": [
                          0.02264946626
                        ],
                        "iteration": 888,
                        "passed_time": 304.44616,
                        "remaining_time": 38.01296261,
                        "test": [
                          0.02442967167
                        ]
                      },
                      {
                        "learn": [
                          0.02264640294
                        ],
                        "iteration": 889,
                        "passed_time": 304.7704353,
                        "remaining_time": 37.66825605,
                        "test": [
                          0.02442784278
                        ]
                      },
                      {
                        "learn": [
                          0.02264522361
                        ],
                        "iteration": 890,
                        "passed_time": 305.0748751,
                        "remaining_time": 37.32116878,
                        "test": [
                          0.02442819824
                        ]
                      },
                      {
                        "learn": [
                          0.02264406183
                        ],
                        "iteration": 891,
                        "passed_time": 305.4194697,
                        "remaining_time": 36.97903893,
                        "test": [
                          0.0244275577
                        ]
                      },
                      {
                        "learn": [
                          0.02264105038
                        ],
                        "iteration": 892,
                        "passed_time": 305.7505287,
                        "remaining_time": 36.63528171,
                        "test": [
                          0.02442542877
                        ]
                      },
                      {
                        "learn": [
                          0.02264003254
                        ],
                        "iteration": 893,
                        "passed_time": 306.0549829,
                        "remaining_time": 36.28839842,
                        "test": [
                          0.02442497971
                        ]
                      },
                      {
                        "learn": [
                          0.02263575771
                        ],
                        "iteration": 894,
                        "passed_time": 306.4475452,
                        "remaining_time": 35.95194664,
                        "test": [
                          0.02442174059
                        ]
                      },
                      {
                        "learn": [
                          0.02263456725
                        ],
                        "iteration": 895,
                        "passed_time": 306.7946855,
                        "remaining_time": 35.61009742,
                        "test": [
                          0.02442150732
                        ]
                      },
                      {
                        "learn": [
                          0.02263207643
                        ],
                        "iteration": 896,
                        "passed_time": 307.1481659,
                        "remaining_time": 35.26896442,
                        "test": [
                          0.02442105751
                        ]
                      },
                      {
                        "learn": [
                          0.02263029442
                        ],
                        "iteration": 897,
                        "passed_time": 307.5345141,
                        "remaining_time": 34.93153723,
                        "test": [
                          0.02442069667
                        ]
                      },
                      {
                        "learn": [
                          0.02262843615
                        ],
                        "iteration": 898,
                        "passed_time": 307.8704609,
                        "remaining_time": 34.58833877,
                        "test": [
                          0.02441964072
                        ]
                      },
                      {
                        "learn": [
                          0.02262615072
                        ],
                        "iteration": 899,
                        "passed_time": 308.1984194,
                        "remaining_time": 34.24426882,
                        "test": [
                          0.02441919576
                        ]
                      },
                      {
                        "learn": [
                          0.02261955691
                        ],
                        "iteration": 900,
                        "passed_time": 308.6041249,
                        "remaining_time": 33.90877732,
                        "test": [
                          0.02441609469
                        ]
                      },
                      {
                        "learn": [
                          0.02261348177
                        ],
                        "iteration": 901,
                        "passed_time": 308.9670048,
                        "remaining_time": 33.56847724,
                        "test": [
                          0.02441198421
                        ]
                      },
                      {
                        "learn": [
                          0.0226124179
                        ],
                        "iteration": 902,
                        "passed_time": 309.2961105,
                        "remaining_time": 33.22449914,
                        "test": [
                          0.0244119041
                        ]
                      },
                      {
                        "learn": [
                          0.02260894844
                        ],
                        "iteration": 903,
                        "passed_time": 309.6965103,
                        "remaining_time": 32.88812498,
                        "test": [
                          0.02441126642
                        ]
                      },
                      {
                        "learn": [
                          0.02260568643
                        ],
                        "iteration": 904,
                        "passed_time": 310.0484307,
                        "remaining_time": 32.54652035,
                        "test": [
                          0.02440774773
                        ]
                      },
                      {
                        "learn": [
                          0.02259886634
                        ],
                        "iteration": 905,
                        "passed_time": 310.4118004,
                        "remaining_time": 32.20608083,
                        "test": [
                          0.02440398148
                        ]
                      },
                      {
                        "learn": [
                          0.02259716737
                        ],
                        "iteration": 906,
                        "passed_time": 310.7704613,
                        "remaining_time": 31.86510794,
                        "test": [
                          0.02440366237
                        ]
                      },
                      {
                        "learn": [
                          0.0225963339
                        ],
                        "iteration": 907,
                        "passed_time": 311.0780492,
                        "remaining_time": 31.51892128,
                        "test": [
                          0.02440321188
                        ]
                      },
                      {
                        "learn": [
                          0.0225926602
                        ],
                        "iteration": 908,
                        "passed_time": 311.4258353,
                        "remaining_time": 31.1768438,
                        "test": [
                          0.02440230606
                        ]
                      },
                      {
                        "learn": [
                          0.02259070993
                        ],
                        "iteration": 909,
                        "passed_time": 311.8193291,
                        "remaining_time": 30.8392743,
                        "test": [
                          0.02440129145
                        ]
                      },
                      {
                        "learn": [
                          0.02258636755
                        ],
                        "iteration": 910,
                        "passed_time": 312.2016461,
                        "remaining_time": 30.50049012,
                        "test": [
                          0.02439896107
                        ]
                      },
                      {
                        "learn": [
                          0.02258280466
                        ],
                        "iteration": 911,
                        "passed_time": 312.5357218,
                        "remaining_time": 30.15695561,
                        "test": [
                          0.02439772987
                        ]
                      },
                      {
                        "learn": [
                          0.02258148674
                        ],
                        "iteration": 912,
                        "passed_time": 312.9375458,
                        "remaining_time": 29.81989757,
                        "test": [
                          0.02439716431
                        ]
                      },
                      {
                        "learn": [
                          0.0225772796
                        ],
                        "iteration": 913,
                        "passed_time": 313.3035147,
                        "remaining_time": 29.47932414,
                        "test": [
                          0.02439719318
                        ]
                      },
                      {
                        "learn": [
                          0.02257521643
                        ],
                        "iteration": 914,
                        "passed_time": 313.6332181,
                        "remaining_time": 29.13532627,
                        "test": [
                          0.02439717847
                        ]
                      },
                      {
                        "learn": [
                          0.02257419797
                        ],
                        "iteration": 915,
                        "passed_time": 313.9930395,
                        "remaining_time": 28.79412153,
                        "test": [
                          0.02439682735
                        ]
                      },
                      {
                        "learn": [
                          0.02257249408
                        ],
                        "iteration": 916,
                        "passed_time": 314.3520818,
                        "remaining_time": 28.45280566,
                        "test": [
                          0.02439684019
                        ]
                      },
                      {
                        "learn": [
                          0.02257161504
                        ],
                        "iteration": 917,
                        "passed_time": 314.6734414,
                        "remaining_time": 28.10808518,
                        "test": [
                          0.02439674674
                        ]
                      },
                      {
                        "learn": [
                          0.02256611457
                        ],
                        "iteration": 918,
                        "passed_time": 315.0703518,
                        "remaining_time": 27.77007453,
                        "test": [
                          0.02439199915
                        ]
                      },
                      {
                        "learn": [
                          0.02256464862
                        ],
                        "iteration": 919,
                        "passed_time": 315.4002085,
                        "remaining_time": 27.42610509,
                        "test": [
                          0.02439169219
                        ]
                      },
                      {
                        "learn": [
                          0.0225635619
                        ],
                        "iteration": 920,
                        "passed_time": 315.7161342,
                        "remaining_time": 27.08097133,
                        "test": [
                          0.02439052464
                        ]
                      },
                      {
                        "learn": [
                          0.02256049986
                        ],
                        "iteration": 921,
                        "passed_time": 316.1059176,
                        "remaining_time": 26.74214921,
                        "test": [
                          0.02438918132
                        ]
                      },
                      {
                        "learn": [
                          0.02255787817
                        ],
                        "iteration": 922,
                        "passed_time": 316.4371611,
                        "remaining_time": 26.39833305,
                        "test": [
                          0.02438789516
                        ]
                      },
                      {
                        "learn": [
                          0.02255654612
                        ],
                        "iteration": 923,
                        "passed_time": 316.7550412,
                        "remaining_time": 26.05344495,
                        "test": [
                          0.02438682068
                        ]
                      },
                      {
                        "learn": [
                          0.02255423569
                        ],
                        "iteration": 924,
                        "passed_time": 317.1036382,
                        "remaining_time": 25.7111058,
                        "test": [
                          0.02438566125
                        ]
                      },
                      {
                        "learn": [
                          0.02255118162
                        ],
                        "iteration": 925,
                        "passed_time": 317.485121,
                        "remaining_time": 25.37138116,
                        "test": [
                          0.02438440964
                        ]
                      },
                      {
                        "learn": [
                          0.02254926837
                        ],
                        "iteration": 926,
                        "passed_time": 317.8171891,
                        "remaining_time": 25.02767508,
                        "test": [
                          0.02438323041
                        ]
                      },
                      {
                        "learn": [
                          0.02254816944
                        ],
                        "iteration": 927,
                        "passed_time": 318.1702041,
                        "remaining_time": 24.68561928,
                        "test": [
                          0.02438317251
                        ]
                      },
                      {
                        "learn": [
                          0.02254554071
                        ],
                        "iteration": 928,
                        "passed_time": 318.5368889,
                        "remaining_time": 24.34458462,
                        "test": [
                          0.02438221581
                        ]
                      },
                      {
                        "learn": [
                          0.02254488708
                        ],
                        "iteration": 929,
                        "passed_time": 318.854551,
                        "remaining_time": 23.99980492,
                        "test": [
                          0.02438194353
                        ]
                      },
                      {
                        "learn": [
                          0.02254183451
                        ],
                        "iteration": 930,
                        "passed_time": 319.2301704,
                        "remaining_time": 23.6593789,
                        "test": [
                          0.02438151091
                        ]
                      },
                      {
                        "learn": [
                          0.02253999673
                        ],
                        "iteration": 931,
                        "passed_time": 319.5646698,
                        "remaining_time": 23.31587719,
                        "test": [
                          0.02438033299
                        ]
                      },
                      {
                        "learn": [
                          0.02253784029
                        ],
                        "iteration": 932,
                        "passed_time": 319.9052155,
                        "remaining_time": 22.97282898,
                        "test": [
                          0.02438007279
                        ]
                      },
                      {
                        "learn": [
                          0.0225325297
                        ],
                        "iteration": 933,
                        "passed_time": 320.2967859,
                        "remaining_time": 22.63339173,
                        "test": [
                          0.02437717719
                        ]
                      },
                      {
                        "learn": [
                          0.02253167834
                        ],
                        "iteration": 934,
                        "passed_time": 320.6569764,
                        "remaining_time": 22.29166146,
                        "test": [
                          0.02437741132
                        ]
                      },
                      {
                        "learn": [
                          0.02252949193
                        ],
                        "iteration": 935,
                        "passed_time": 321.005536,
                        "remaining_time": 21.94909648,
                        "test": [
                          0.02437769924
                        ]
                      },
                      {
                        "learn": [
                          0.02252728081
                        ],
                        "iteration": 936,
                        "passed_time": 321.3272418,
                        "remaining_time": 21.60471316,
                        "test": [
                          0.02437649059
                        ]
                      },
                      {
                        "learn": [
                          0.0225258869
                        ],
                        "iteration": 937,
                        "passed_time": 321.6907403,
                        "remaining_time": 21.26314062,
                        "test": [
                          0.0243766716
                        ]
                      },
                      {
                        "learn": [
                          0.02252372563
                        ],
                        "iteration": 938,
                        "passed_time": 322.0479985,
                        "remaining_time": 20.92111598,
                        "test": [
                          0.02437503198
                        ]
                      },
                      {
                        "learn": [
                          0.02252195046
                        ],
                        "iteration": 939,
                        "passed_time": 322.3605401,
                        "remaining_time": 20.57620468,
                        "test": [
                          0.0243739807
                        ]
                      },
                      {
                        "learn": [
                          0.02252117152
                        ],
                        "iteration": 940,
                        "passed_time": 322.7075725,
                        "remaining_time": 20.23352474,
                        "test": [
                          0.02437300748
                        ]
                      },
                      {
                        "learn": [
                          0.02251920473
                        ],
                        "iteration": 941,
                        "passed_time": 323.0289266,
                        "remaining_time": 19.8892545,
                        "test": [
                          0.02437381986
                        ]
                      },
                      {
                        "learn": [
                          0.02251233162
                        ],
                        "iteration": 942,
                        "passed_time": 323.4001923,
                        "remaining_time": 19.5480498,
                        "test": [
                          0.02436899212
                        ]
                      },
                      {
                        "learn": [
                          0.02251111811
                        ],
                        "iteration": 943,
                        "passed_time": 323.7758377,
                        "remaining_time": 19.20704122,
                        "test": [
                          0.02436841254
                        ]
                      },
                      {
                        "learn": [
                          0.02250800104
                        ],
                        "iteration": 944,
                        "passed_time": 324.102791,
                        "remaining_time": 18.8631254,
                        "test": [
                          0.02436713003
                        ]
                      },
                      {
                        "learn": [
                          0.02250613664
                        ],
                        "iteration": 945,
                        "passed_time": 324.4378397,
                        "remaining_time": 18.51970755,
                        "test": [
                          0.02436573268
                        ]
                      },
                      {
                        "learn": [
                          0.02250059573
                        ],
                        "iteration": 946,
                        "passed_time": 324.8561944,
                        "remaining_time": 18.1809697,
                        "test": [
                          0.02436032869
                        ]
                      },
                      {
                        "learn": [
                          0.02249882123
                        ],
                        "iteration": 947,
                        "passed_time": 325.1542064,
                        "remaining_time": 17.8354628,
                        "test": [
                          0.02435828789
                        ]
                      },
                      {
                        "learn": [
                          0.0224968281
                        ],
                        "iteration": 948,
                        "passed_time": 325.4818052,
                        "remaining_time": 17.49164601,
                        "test": [
                          0.02435779891
                        ]
                      },
                      {
                        "learn": [
                          0.02249575928
                        ],
                        "iteration": 949,
                        "passed_time": 325.8376481,
                        "remaining_time": 17.1493499,
                        "test": [
                          0.02435684186
                        ]
                      },
                      {
                        "learn": [
                          0.02249120464
                        ],
                        "iteration": 950,
                        "passed_time": 326.1804905,
                        "remaining_time": 16.80635545,
                        "test": [
                          0.02435500604
                        ]
                      },
                      {
                        "learn": [
                          0.02248682651
                        ],
                        "iteration": 951,
                        "passed_time": 326.5398097,
                        "remaining_time": 16.46419208,
                        "test": [
                          0.02435444041
                        ]
                      },
                      {
                        "learn": [
                          0.02248349823
                        ],
                        "iteration": 952,
                        "passed_time": 326.8997326,
                        "remaining_time": 16.12202249,
                        "test": [
                          0.02435390458
                        ]
                      },
                      {
                        "learn": [
                          0.02248092372
                        ],
                        "iteration": 953,
                        "passed_time": 327.2542552,
                        "remaining_time": 15.77955528,
                        "test": [
                          0.02435370166
                        ]
                      },
                      {
                        "learn": [
                          0.02247716107
                        ],
                        "iteration": 954,
                        "passed_time": 327.6009625,
                        "remaining_time": 15.43669457,
                        "test": [
                          0.02435228563
                        ]
                      },
                      {
                        "learn": [
                          0.02247193279
                        ],
                        "iteration": 955,
                        "passed_time": 328.0042464,
                        "remaining_time": 15.09642975,
                        "test": [
                          0.0243489783
                        ]
                      },
                      {
                        "learn": [
                          0.02247095748
                        ],
                        "iteration": 956,
                        "passed_time": 328.3186399,
                        "remaining_time": 14.7520392,
                        "test": [
                          0.02434791056
                        ]
                      },
                      {
                        "learn": [
                          0.02246971941
                        ],
                        "iteration": 957,
                        "passed_time": 328.6576735,
                        "remaining_time": 14.40879153,
                        "test": [
                          0.02434755023
                        ]
                      },
                      {
                        "learn": [
                          0.02246272654
                        ],
                        "iteration": 958,
                        "passed_time": 329.0645344,
                        "remaining_time": 14.06845246,
                        "test": [
                          0.02434421904
                        ]
                      },
                      {
                        "learn": [
                          0.02246186529
                        ],
                        "iteration": 959,
                        "passed_time": 329.3860781,
                        "remaining_time": 13.72441992,
                        "test": [
                          0.02434367396
                        ]
                      },
                      {
                        "learn": [
                          0.02245328562
                        ],
                        "iteration": 960,
                        "passed_time": 329.7354236,
                        "remaining_time": 13.38156245,
                        "test": [
                          0.02433828513
                        ]
                      },
                      {
                        "learn": [
                          0.02244963401
                        ],
                        "iteration": 961,
                        "passed_time": 330.1599198,
                        "remaining_time": 13.04166003,
                        "test": [
                          0.02433534172
                        ]
                      },
                      {
                        "learn": [
                          0.02244845885
                        ],
                        "iteration": 962,
                        "passed_time": 330.479196,
                        "remaining_time": 12.6975392,
                        "test": [
                          0.02433551649
                        ]
                      },
                      {
                        "learn": [
                          0.02244667457
                        ],
                        "iteration": 963,
                        "passed_time": 330.809111,
                        "remaining_time": 12.35386721,
                        "test": [
                          0.02433533775
                        ]
                      },
                      {
                        "learn": [
                          0.02244560011
                        ],
                        "iteration": 964,
                        "passed_time": 331.1608873,
                        "remaining_time": 12.01101664,
                        "test": [
                          0.0243348639
                        ]
                      },
                      {
                        "learn": [
                          0.02244438414
                        ],
                        "iteration": 965,
                        "passed_time": 331.487324,
                        "remaining_time": 11.66725571,
                        "test": [
                          0.02433457764
                        ]
                      },
                      {
                        "learn": [
                          0.02244268624
                        ],
                        "iteration": 966,
                        "passed_time": 331.8165743,
                        "remaining_time": 11.32362663,
                        "test": [
                          0.02433385897
                        ]
                      },
                      {
                        "learn": [
                          0.0224413071
                        ],
                        "iteration": 967,
                        "passed_time": 332.1700129,
                        "remaining_time": 10.98082687,
                        "test": [
                          0.02433335709
                        ]
                      },
                      {
                        "learn": [
                          0.02243958477
                        ],
                        "iteration": 968,
                        "passed_time": 332.5118078,
                        "remaining_time": 10.63763266,
                        "test": [
                          0.0243326696
                        ]
                      },
                      {
                        "learn": [
                          0.02243893959
                        ],
                        "iteration": 969,
                        "passed_time": 332.832777,
                        "remaining_time": 10.29379723,
                        "test": [
                          0.02433225281
                        ]
                      },
                      {
                        "learn": [
                          0.0224371232
                        ],
                        "iteration": 970,
                        "passed_time": 333.2177613,
                        "remaining_time": 9.951920781,
                        "test": [
                          0.02433218436
                        ]
                      },
                      {
                        "learn": [
                          0.02243228886
                        ],
                        "iteration": 971,
                        "passed_time": 333.577276,
                        "remaining_time": 9.609221943,
                        "test": [
                          0.02433367585
                        ]
                      },
                      {
                        "learn": [
                          0.02242515193
                        ],
                        "iteration": 972,
                        "passed_time": 333.9521006,
                        "remaining_time": 9.266913378,
                        "test": [
                          0.02433059544
                        ]
                      },
                      {
                        "learn": [
                          0.02242378418
                        ],
                        "iteration": 973,
                        "passed_time": 334.4044152,
                        "remaining_time": 8.926606565,
                        "test": [
                          0.02432896413
                        ]
                      },
                      {
                        "learn": [
                          0.02242077235
                        ],
                        "iteration": 974,
                        "passed_time": 334.7638569,
                        "remaining_time": 8.583688639,
                        "test": [
                          0.02432801807
                        ]
                      },
                      {
                        "learn": [
                          0.02241963705
                        ],
                        "iteration": 975,
                        "passed_time": 335.083557,
                        "remaining_time": 8.239759597,
                        "test": [
                          0.02432765052
                        ]
                      },
                      {
                        "learn": [
                          0.02241847801
                        ],
                        "iteration": 976,
                        "passed_time": 335.4559907,
                        "remaining_time": 7.897121583,
                        "test": [
                          0.02432714411
                        ]
                      },
                      {
                        "learn": [
                          0.02241623246
                        ],
                        "iteration": 977,
                        "passed_time": 335.7941374,
                        "remaining_time": 7.553651352,
                        "test": [
                          0.02432847597
                        ]
                      },
                      {
                        "learn": [
                          0.02241289562
                        ],
                        "iteration": 978,
                        "passed_time": 336.1390226,
                        "remaining_time": 7.210336543,
                        "test": [
                          0.02432835616
                        ]
                      },
                      {
                        "learn": [
                          0.02240523651
                        ],
                        "iteration": 979,
                        "passed_time": 336.5609791,
                        "remaining_time": 6.86859141,
                        "test": [
                          0.0243257036
                        ]
                      },
                      {
                        "learn": [
                          0.0224038599
                        ],
                        "iteration": 980,
                        "passed_time": 336.8682429,
                        "remaining_time": 6.524461382,
                        "test": [
                          0.0243248616
                        ]
                      },
                      {
                        "learn": [
                          0.02240177814
                        ],
                        "iteration": 981,
                        "passed_time": 337.1969232,
                        "remaining_time": 6.180798999,
                        "test": [
                          0.02432366173
                        ]
                      },
                      {
                        "learn": [
                          0.02239869396
                        ],
                        "iteration": 982,
                        "passed_time": 337.6038748,
                        "remaining_time": 5.838520724,
                        "test": [
                          0.02432236381
                        ]
                      },
                      {
                        "learn": [
                          0.02239801633
                        ],
                        "iteration": 983,
                        "passed_time": 337.9103078,
                        "remaining_time": 5.494476549,
                        "test": [
                          0.02432178377
                        ]
                      },
                      {
                        "learn": [
                          0.02239506094
                        ],
                        "iteration": 984,
                        "passed_time": 338.2583831,
                        "remaining_time": 5.151142889,
                        "test": [
                          0.0243204433
                        ]
                      },
                      {
                        "learn": [
                          0.02239442769
                        ],
                        "iteration": 985,
                        "passed_time": 338.6231679,
                        "remaining_time": 4.808036867,
                        "test": [
                          0.02432095894
                        ]
                      },
                      {
                        "learn": [
                          0.0223925247
                        ],
                        "iteration": 986,
                        "passed_time": 338.9527062,
                        "remaining_time": 4.464422676,
                        "test": [
                          0.02431997076
                        ]
                      },
                      {
                        "learn": [
                          0.02238875409
                        ],
                        "iteration": 987,
                        "passed_time": 339.2956097,
                        "remaining_time": 4.120999308,
                        "test": [
                          0.02431881393
                        ]
                      },
                      {
                        "learn": [
                          0.02238560111
                        ],
                        "iteration": 988,
                        "passed_time": 339.6857797,
                        "remaining_time": 3.778102707,
                        "test": [
                          0.02432063117
                        ]
                      },
                      {
                        "learn": [
                          0.02238516246
                        ],
                        "iteration": 989,
                        "passed_time": 339.9571091,
                        "remaining_time": 3.433910192,
                        "test": [
                          0.02432034866
                        ]
                      },
                      {
                        "learn": [
                          0.02238217352
                        ],
                        "iteration": 990,
                        "passed_time": 340.2838048,
                        "remaining_time": 3.090367551,
                        "test": [
                          0.02431971369
                        ]
                      },
                      {
                        "learn": [
                          0.02237608431
                        ],
                        "iteration": 991,
                        "passed_time": 340.7289486,
                        "remaining_time": 2.747814101,
                        "test": [
                          0.0243161639
                        ]
                      },
                      {
                        "learn": [
                          0.02237527298
                        ],
                        "iteration": 992,
                        "passed_time": 341.0452393,
                        "remaining_time": 2.404145695,
                        "test": [
                          0.0243162381
                        ]
                      },
                      {
                        "learn": [
                          0.02237376095
                        ],
                        "iteration": 993,
                        "passed_time": 341.3670316,
                        "remaining_time": 2.060565583,
                        "test": [
                          0.02431600549
                        ]
                      },
                      {
                        "learn": [
                          0.02236901625
                        ],
                        "iteration": 994,
                        "passed_time": 341.768169,
                        "remaining_time": 1.717427985,
                        "test": [
                          0.02431534799
                        ]
                      },
                      {
                        "learn": [
                          0.02236812456
                        ],
                        "iteration": 995,
                        "passed_time": 342.0670358,
                        "remaining_time": 1.373763196,
                        "test": [
                          0.02431440835
                        ]
                      },
                      {
                        "learn": [
                          0.02236600521
                        ],
                        "iteration": 996,
                        "passed_time": 342.3824517,
                        "remaining_time": 1.030238069,
                        "test": [
                          0.02431437027
                        ]
                      },
                      {
                        "learn": [
                          0.02236296876
                        ],
                        "iteration": 997,
                        "passed_time": 342.763563,
                        "remaining_time": 0.6869009279,
                        "test": [
                          0.02431365682
                        ]
                      },
                      {
                        "learn": [
                          0.02235850276
                        ],
                        "iteration": 998,
                        "passed_time": 343.1299409,
                        "remaining_time": 0.3434734143,
                        "test": [
                          0.02431121925
                        ]
                      },
                      {
                        "learn": [
                          0.02235552436
                        ],
                        "iteration": 999,
                        "passed_time": 343.4712336,
                        "remaining_time": 0,
                        "test": [
                          0.02430939297
                        ]
                      }
                    ],
                    "meta": {
                      "test_sets": [
                        "test"
                      ],
                      "test_metrics": [
                        {
                          "best_value": "Min",
                          "name": "MultiClass"
                        }
                      ],
                      "learn_metrics": [
                        {
                          "best_value": "Min",
                          "name": "MultiClass"
                        }
                      ],
                      "launch_mode": "Train",
                      "parameters": "",
                      "iteration_count": 1000,
                      "learn_sets": [
                        "learn"
                      ],
                      "name": "experiment"
                    }
                  }
                }
              }
            },
            "layout": "IPY_MODEL_90f4df0ed3ee487eb0b02a8f928dddd3"
          }
        }
      }
    }
  },
  "cells": [
    {
      "cell_type": "code",
      "execution_count": null,
      "metadata": {
        "id": "Nk2FZ_3Wsw2Q"
      },
      "outputs": [],
      "source": [
        "import numpy as np\n",
        "import pandas as pd\n",
        "import seaborn as sns\n",
        "import matplotlib.pyplot as plt\n",
        "from sklearn.preprocessing import OneHotEncoder"
      ]
    },
    {
      "cell_type": "code",
      "source": [
        "train_data = pd.read_csv(\"/content/Kaggle_Training_Dataset_v2.csv\")\n",
        "train_data.values"
      ],
      "metadata": {
        "colab": {
          "base_uri": "https://localhost:8080/"
        },
        "id": "an4LtyGDtRK1",
        "outputId": "813882c4-c31b-4a2f-d9ff-7c7067a406ab"
      },
      "execution_count": null,
      "outputs": [
        {
          "output_type": "stream",
          "name": "stderr",
          "text": [
            "/usr/local/lib/python3.7/dist-packages/IPython/core/interactiveshell.py:3326: DtypeWarning: Columns (0) have mixed types.Specify dtype option on import or set low_memory=False.\n",
            "  exec(code_obj, self.user_global_ns, self.user_ns)\n"
          ]
        },
        {
          "output_type": "execute_result",
          "data": {
            "text/plain": [
              "array([[1026827, 0.0, nan, ..., 'Yes', 'No', 'No'],\n",
              "       [1043384, 2.0, 9.0, ..., 'Yes', 'No', 'No'],\n",
              "       [1043696, 2.0, nan, ..., 'Yes', 'No', 'No'],\n",
              "       ...,\n",
              "       ['1439563', 62.0, 9.0, ..., 'Yes', 'No', 'No'],\n",
              "       ['1502009', 19.0, 4.0, ..., 'Yes', 'No', 'No'],\n",
              "       ['(1687860 rows)', nan, nan, ..., nan, nan, nan]], dtype=object)"
            ]
          },
          "metadata": {},
          "execution_count": 2
        }
      ]
    },
    {
      "cell_type": "code",
      "source": [
        "test_data = pd.read_csv(\"/content/Kaggle_Test_Dataset_v2.csv\")\n",
        "test_data.values"
      ],
      "metadata": {
        "colab": {
          "base_uri": "https://localhost:8080/"
        },
        "id": "QoqSgdIXt47p",
        "outputId": "e0ba02b5-1746-4861-f06e-bb8b9389f4fe"
      },
      "execution_count": null,
      "outputs": [
        {
          "output_type": "execute_result",
          "data": {
            "text/plain": [
              "array([[3285085, 62.0, nan, ..., 'Yes', 'No', 'No'],\n",
              "       [3285131, 9.0, nan, ..., 'No', 'No', 'No'],\n",
              "       [3285358, 17.0, 8.0, ..., 'Yes', 'No', 'No'],\n",
              "       ...,\n",
              "       ['3526990', 10.0, 12.0, ..., 'Yes', 'No', 'No'],\n",
              "       ['3526991', 2913.0, 12.0, ..., 'Yes', 'No', 'No'],\n",
              "       ['(242075 rows)', nan, nan, ..., nan, nan, nan]], dtype=object)"
            ]
          },
          "metadata": {},
          "execution_count": 3
        }
      ]
    },
    {
      "cell_type": "code",
      "source": [
        "train_data.shape,test_data.shape"
      ],
      "metadata": {
        "colab": {
          "base_uri": "https://localhost:8080/"
        },
        "id": "T3CbBdbQwZ_-",
        "outputId": "59ec1cc2-0312-46f3-af7d-80b54696ee04"
      },
      "execution_count": null,
      "outputs": [
        {
          "output_type": "execute_result",
          "data": {
            "text/plain": [
              "((1687861, 23), (242076, 23))"
            ]
          },
          "metadata": {},
          "execution_count": 4
        }
      ]
    },
    {
      "cell_type": "code",
      "source": [],
      "metadata": {
        "id": "5-agOudhzFuE"
      },
      "execution_count": null,
      "outputs": []
    },
    {
      "cell_type": "code",
      "source": [
        "df = pd.DataFrame(train_data)\n",
        "df_test = pd.DataFrame(test_data)"
      ],
      "metadata": {
        "id": "T03lyEy9nELF"
      },
      "execution_count": null,
      "outputs": []
    },
    {
      "cell_type": "code",
      "source": [
        "df.info()"
      ],
      "metadata": {
        "colab": {
          "base_uri": "https://localhost:8080/"
        },
        "id": "P0xATHOsrfMf",
        "outputId": "8b44a842-c3c7-4fac-99b8-e1ef5ce4c52e"
      },
      "execution_count": null,
      "outputs": [
        {
          "output_type": "stream",
          "name": "stdout",
          "text": [
            "<class 'pandas.core.frame.DataFrame'>\n",
            "RangeIndex: 1687861 entries, 0 to 1687860\n",
            "Data columns (total 23 columns):\n",
            " #   Column             Non-Null Count    Dtype  \n",
            "---  ------             --------------    -----  \n",
            " 0   sku                1687861 non-null  object \n",
            " 1   national_inv       1687860 non-null  float64\n",
            " 2   lead_time          1586967 non-null  float64\n",
            " 3   in_transit_qty     1687860 non-null  float64\n",
            " 4   forecast_3_month   1687860 non-null  float64\n",
            " 5   forecast_6_month   1687860 non-null  float64\n",
            " 6   forecast_9_month   1687860 non-null  float64\n",
            " 7   sales_1_month      1687860 non-null  float64\n",
            " 8   sales_3_month      1687860 non-null  float64\n",
            " 9   sales_6_month      1687860 non-null  float64\n",
            " 10  sales_9_month      1687860 non-null  float64\n",
            " 11  min_bank           1687860 non-null  float64\n",
            " 12  potential_issue    1687860 non-null  object \n",
            " 13  pieces_past_due    1687860 non-null  float64\n",
            " 14  perf_6_month_avg   1687860 non-null  float64\n",
            " 15  perf_12_month_avg  1687860 non-null  float64\n",
            " 16  local_bo_qty       1687860 non-null  float64\n",
            " 17  deck_risk          1687860 non-null  object \n",
            " 18  oe_constraint      1687860 non-null  object \n",
            " 19  ppap_risk          1687860 non-null  object \n",
            " 20  stop_auto_buy      1687860 non-null  object \n",
            " 21  rev_stop           1687860 non-null  object \n",
            " 22  went_on_backorder  1687860 non-null  object \n",
            "dtypes: float64(15), object(8)\n",
            "memory usage: 296.2+ MB\n"
          ]
        }
      ]
    },
    {
      "cell_type": "code",
      "source": [
        "df_test.info()"
      ],
      "metadata": {
        "colab": {
          "base_uri": "https://localhost:8080/"
        },
        "id": "fmqDtqOL-_SX",
        "outputId": "e128c09d-aed5-474f-8851-6cc8c58b7f65"
      },
      "execution_count": null,
      "outputs": [
        {
          "output_type": "stream",
          "name": "stdout",
          "text": [
            "<class 'pandas.core.frame.DataFrame'>\n",
            "RangeIndex: 242076 entries, 0 to 242075\n",
            "Data columns (total 23 columns):\n",
            " #   Column             Non-Null Count   Dtype  \n",
            "---  ------             --------------   -----  \n",
            " 0   sku                242076 non-null  object \n",
            " 1   national_inv       242075 non-null  float64\n",
            " 2   lead_time          227351 non-null  float64\n",
            " 3   in_transit_qty     242075 non-null  float64\n",
            " 4   forecast_3_month   242075 non-null  float64\n",
            " 5   forecast_6_month   242075 non-null  float64\n",
            " 6   forecast_9_month   242075 non-null  float64\n",
            " 7   sales_1_month      242075 non-null  float64\n",
            " 8   sales_3_month      242075 non-null  float64\n",
            " 9   sales_6_month      242075 non-null  float64\n",
            " 10  sales_9_month      242075 non-null  float64\n",
            " 11  min_bank           242075 non-null  float64\n",
            " 12  potential_issue    242075 non-null  object \n",
            " 13  pieces_past_due    242075 non-null  float64\n",
            " 14  perf_6_month_avg   242075 non-null  float64\n",
            " 15  perf_12_month_avg  242075 non-null  float64\n",
            " 16  local_bo_qty       242075 non-null  float64\n",
            " 17  deck_risk          242075 non-null  object \n",
            " 18  oe_constraint      242075 non-null  object \n",
            " 19  ppap_risk          242075 non-null  object \n",
            " 20  stop_auto_buy      242075 non-null  object \n",
            " 21  rev_stop           242075 non-null  object \n",
            " 22  went_on_backorder  242075 non-null  object \n",
            "dtypes: float64(15), object(8)\n",
            "memory usage: 42.5+ MB\n"
          ]
        }
      ]
    },
    {
      "cell_type": "code",
      "source": [],
      "metadata": {
        "id": "RliUEPqm6GhM"
      },
      "execution_count": null,
      "outputs": []
    },
    {
      "cell_type": "code",
      "source": [
        "df.head(15)"
      ],
      "metadata": {
        "colab": {
          "base_uri": "https://localhost:8080/",
          "height": 613
        },
        "id": "XIOA-ay6lVkU",
        "outputId": "f1edbfba-2e9b-45b9-a1ed-227ec223f2df"
      },
      "execution_count": null,
      "outputs": [
        {
          "output_type": "execute_result",
          "data": {
            "text/plain": [
              "        sku  national_inv  lead_time  in_transit_qty  forecast_3_month  \\\n",
              "0   1026827           0.0        NaN             0.0               0.0   \n",
              "1   1043384           2.0        9.0             0.0               0.0   \n",
              "2   1043696           2.0        NaN             0.0               0.0   \n",
              "3   1043852           7.0        8.0             0.0               0.0   \n",
              "4   1044048           8.0        NaN             0.0               0.0   \n",
              "5   1044198          13.0        8.0             0.0               0.0   \n",
              "6   1044643        1095.0        NaN             0.0               0.0   \n",
              "7   1045098           6.0        2.0             0.0               0.0   \n",
              "8   1045815         140.0        NaN             0.0              15.0   \n",
              "9   1045867           4.0        8.0             0.0               0.0   \n",
              "10  1045918           0.0        2.0             0.0               0.0   \n",
              "11  1047146          20.0        NaN             0.0               0.0   \n",
              "12  1047199          18.0        NaN             0.0               0.0   \n",
              "13  1047661          29.0        NaN             0.0               0.0   \n",
              "14  1049160          10.0        NaN             0.0               0.0   \n",
              "\n",
              "    forecast_6_month  forecast_9_month  sales_1_month  sales_3_month  \\\n",
              "0                0.0               0.0            0.0            0.0   \n",
              "1                0.0               0.0            0.0            0.0   \n",
              "2                0.0               0.0            0.0            0.0   \n",
              "3                0.0               0.0            0.0            0.0   \n",
              "4                0.0               0.0            0.0            0.0   \n",
              "5                0.0               0.0            0.0            0.0   \n",
              "6                0.0               0.0            0.0            0.0   \n",
              "7                0.0               0.0            0.0            0.0   \n",
              "8              114.0             152.0            0.0            0.0   \n",
              "9                0.0               0.0            0.0            0.0   \n",
              "10               0.0               0.0            0.0            0.0   \n",
              "11               0.0               0.0            0.0            0.0   \n",
              "12               0.0               0.0            0.0            0.0   \n",
              "13               0.0               0.0            0.0            0.0   \n",
              "14               0.0               0.0            0.0            0.0   \n",
              "\n",
              "    sales_6_month  ...  pieces_past_due  perf_6_month_avg perf_12_month_avg  \\\n",
              "0             0.0  ...              0.0            -99.00            -99.00   \n",
              "1             0.0  ...              0.0              0.99              0.99   \n",
              "2             0.0  ...              0.0            -99.00            -99.00   \n",
              "3             0.0  ...              0.0              0.10              0.13   \n",
              "4             0.0  ...              0.0            -99.00            -99.00   \n",
              "5             0.0  ...              0.0              0.82              0.87   \n",
              "6             0.0  ...              0.0            -99.00            -99.00   \n",
              "7             0.0  ...              0.0              0.00              0.00   \n",
              "8             0.0  ...              0.0            -99.00            -99.00   \n",
              "9             0.0  ...              0.0              0.82              0.87   \n",
              "10            0.0  ...              0.0              0.91              0.82   \n",
              "11            0.0  ...              0.0            -99.00            -99.00   \n",
              "12            0.0  ...              0.0            -99.00            -99.00   \n",
              "13            0.0  ...              0.0            -99.00            -99.00   \n",
              "14            0.0  ...              0.0            -99.00            -99.00   \n",
              "\n",
              "    local_bo_qty  deck_risk  oe_constraint  ppap_risk stop_auto_buy rev_stop  \\\n",
              "0            0.0         No             No         No           Yes       No   \n",
              "1            0.0         No             No         No           Yes       No   \n",
              "2            0.0        Yes             No         No           Yes       No   \n",
              "3            0.0         No             No         No           Yes       No   \n",
              "4            0.0        Yes             No         No           Yes       No   \n",
              "5            0.0         No             No         No           Yes       No   \n",
              "6            0.0        Yes             No         No           Yes       No   \n",
              "7            0.0        Yes             No        Yes           Yes       No   \n",
              "8            0.0         No             No         No           Yes       No   \n",
              "9            0.0         No             No         No           Yes       No   \n",
              "10           0.0         No             No         No           Yes       No   \n",
              "11           0.0        Yes             No         No           Yes       No   \n",
              "12           0.0        Yes             No         No           Yes       No   \n",
              "13           0.0        Yes             No         No            No       No   \n",
              "14           0.0        Yes             No         No           Yes       No   \n",
              "\n",
              "   went_on_backorder  \n",
              "0                 No  \n",
              "1                 No  \n",
              "2                 No  \n",
              "3                 No  \n",
              "4                 No  \n",
              "5                 No  \n",
              "6                 No  \n",
              "7                 No  \n",
              "8                 No  \n",
              "9                 No  \n",
              "10                No  \n",
              "11                No  \n",
              "12                No  \n",
              "13                No  \n",
              "14                No  \n",
              "\n",
              "[15 rows x 23 columns]"
            ],
            "text/html": [
              "\n",
              "  <div id=\"df-661c95e8-d051-47fc-a6e7-eb47e9609263\">\n",
              "    <div class=\"colab-df-container\">\n",
              "      <div>\n",
              "<style scoped>\n",
              "    .dataframe tbody tr th:only-of-type {\n",
              "        vertical-align: middle;\n",
              "    }\n",
              "\n",
              "    .dataframe tbody tr th {\n",
              "        vertical-align: top;\n",
              "    }\n",
              "\n",
              "    .dataframe thead th {\n",
              "        text-align: right;\n",
              "    }\n",
              "</style>\n",
              "<table border=\"1\" class=\"dataframe\">\n",
              "  <thead>\n",
              "    <tr style=\"text-align: right;\">\n",
              "      <th></th>\n",
              "      <th>sku</th>\n",
              "      <th>national_inv</th>\n",
              "      <th>lead_time</th>\n",
              "      <th>in_transit_qty</th>\n",
              "      <th>forecast_3_month</th>\n",
              "      <th>forecast_6_month</th>\n",
              "      <th>forecast_9_month</th>\n",
              "      <th>sales_1_month</th>\n",
              "      <th>sales_3_month</th>\n",
              "      <th>sales_6_month</th>\n",
              "      <th>...</th>\n",
              "      <th>pieces_past_due</th>\n",
              "      <th>perf_6_month_avg</th>\n",
              "      <th>perf_12_month_avg</th>\n",
              "      <th>local_bo_qty</th>\n",
              "      <th>deck_risk</th>\n",
              "      <th>oe_constraint</th>\n",
              "      <th>ppap_risk</th>\n",
              "      <th>stop_auto_buy</th>\n",
              "      <th>rev_stop</th>\n",
              "      <th>went_on_backorder</th>\n",
              "    </tr>\n",
              "  </thead>\n",
              "  <tbody>\n",
              "    <tr>\n",
              "      <th>0</th>\n",
              "      <td>1026827</td>\n",
              "      <td>0.0</td>\n",
              "      <td>NaN</td>\n",
              "      <td>0.0</td>\n",
              "      <td>0.0</td>\n",
              "      <td>0.0</td>\n",
              "      <td>0.0</td>\n",
              "      <td>0.0</td>\n",
              "      <td>0.0</td>\n",
              "      <td>0.0</td>\n",
              "      <td>...</td>\n",
              "      <td>0.0</td>\n",
              "      <td>-99.00</td>\n",
              "      <td>-99.00</td>\n",
              "      <td>0.0</td>\n",
              "      <td>No</td>\n",
              "      <td>No</td>\n",
              "      <td>No</td>\n",
              "      <td>Yes</td>\n",
              "      <td>No</td>\n",
              "      <td>No</td>\n",
              "    </tr>\n",
              "    <tr>\n",
              "      <th>1</th>\n",
              "      <td>1043384</td>\n",
              "      <td>2.0</td>\n",
              "      <td>9.0</td>\n",
              "      <td>0.0</td>\n",
              "      <td>0.0</td>\n",
              "      <td>0.0</td>\n",
              "      <td>0.0</td>\n",
              "      <td>0.0</td>\n",
              "      <td>0.0</td>\n",
              "      <td>0.0</td>\n",
              "      <td>...</td>\n",
              "      <td>0.0</td>\n",
              "      <td>0.99</td>\n",
              "      <td>0.99</td>\n",
              "      <td>0.0</td>\n",
              "      <td>No</td>\n",
              "      <td>No</td>\n",
              "      <td>No</td>\n",
              "      <td>Yes</td>\n",
              "      <td>No</td>\n",
              "      <td>No</td>\n",
              "    </tr>\n",
              "    <tr>\n",
              "      <th>2</th>\n",
              "      <td>1043696</td>\n",
              "      <td>2.0</td>\n",
              "      <td>NaN</td>\n",
              "      <td>0.0</td>\n",
              "      <td>0.0</td>\n",
              "      <td>0.0</td>\n",
              "      <td>0.0</td>\n",
              "      <td>0.0</td>\n",
              "      <td>0.0</td>\n",
              "      <td>0.0</td>\n",
              "      <td>...</td>\n",
              "      <td>0.0</td>\n",
              "      <td>-99.00</td>\n",
              "      <td>-99.00</td>\n",
              "      <td>0.0</td>\n",
              "      <td>Yes</td>\n",
              "      <td>No</td>\n",
              "      <td>No</td>\n",
              "      <td>Yes</td>\n",
              "      <td>No</td>\n",
              "      <td>No</td>\n",
              "    </tr>\n",
              "    <tr>\n",
              "      <th>3</th>\n",
              "      <td>1043852</td>\n",
              "      <td>7.0</td>\n",
              "      <td>8.0</td>\n",
              "      <td>0.0</td>\n",
              "      <td>0.0</td>\n",
              "      <td>0.0</td>\n",
              "      <td>0.0</td>\n",
              "      <td>0.0</td>\n",
              "      <td>0.0</td>\n",
              "      <td>0.0</td>\n",
              "      <td>...</td>\n",
              "      <td>0.0</td>\n",
              "      <td>0.10</td>\n",
              "      <td>0.13</td>\n",
              "      <td>0.0</td>\n",
              "      <td>No</td>\n",
              "      <td>No</td>\n",
              "      <td>No</td>\n",
              "      <td>Yes</td>\n",
              "      <td>No</td>\n",
              "      <td>No</td>\n",
              "    </tr>\n",
              "    <tr>\n",
              "      <th>4</th>\n",
              "      <td>1044048</td>\n",
              "      <td>8.0</td>\n",
              "      <td>NaN</td>\n",
              "      <td>0.0</td>\n",
              "      <td>0.0</td>\n",
              "      <td>0.0</td>\n",
              "      <td>0.0</td>\n",
              "      <td>0.0</td>\n",
              "      <td>0.0</td>\n",
              "      <td>0.0</td>\n",
              "      <td>...</td>\n",
              "      <td>0.0</td>\n",
              "      <td>-99.00</td>\n",
              "      <td>-99.00</td>\n",
              "      <td>0.0</td>\n",
              "      <td>Yes</td>\n",
              "      <td>No</td>\n",
              "      <td>No</td>\n",
              "      <td>Yes</td>\n",
              "      <td>No</td>\n",
              "      <td>No</td>\n",
              "    </tr>\n",
              "    <tr>\n",
              "      <th>5</th>\n",
              "      <td>1044198</td>\n",
              "      <td>13.0</td>\n",
              "      <td>8.0</td>\n",
              "      <td>0.0</td>\n",
              "      <td>0.0</td>\n",
              "      <td>0.0</td>\n",
              "      <td>0.0</td>\n",
              "      <td>0.0</td>\n",
              "      <td>0.0</td>\n",
              "      <td>0.0</td>\n",
              "      <td>...</td>\n",
              "      <td>0.0</td>\n",
              "      <td>0.82</td>\n",
              "      <td>0.87</td>\n",
              "      <td>0.0</td>\n",
              "      <td>No</td>\n",
              "      <td>No</td>\n",
              "      <td>No</td>\n",
              "      <td>Yes</td>\n",
              "      <td>No</td>\n",
              "      <td>No</td>\n",
              "    </tr>\n",
              "    <tr>\n",
              "      <th>6</th>\n",
              "      <td>1044643</td>\n",
              "      <td>1095.0</td>\n",
              "      <td>NaN</td>\n",
              "      <td>0.0</td>\n",
              "      <td>0.0</td>\n",
              "      <td>0.0</td>\n",
              "      <td>0.0</td>\n",
              "      <td>0.0</td>\n",
              "      <td>0.0</td>\n",
              "      <td>0.0</td>\n",
              "      <td>...</td>\n",
              "      <td>0.0</td>\n",
              "      <td>-99.00</td>\n",
              "      <td>-99.00</td>\n",
              "      <td>0.0</td>\n",
              "      <td>Yes</td>\n",
              "      <td>No</td>\n",
              "      <td>No</td>\n",
              "      <td>Yes</td>\n",
              "      <td>No</td>\n",
              "      <td>No</td>\n",
              "    </tr>\n",
              "    <tr>\n",
              "      <th>7</th>\n",
              "      <td>1045098</td>\n",
              "      <td>6.0</td>\n",
              "      <td>2.0</td>\n",
              "      <td>0.0</td>\n",
              "      <td>0.0</td>\n",
              "      <td>0.0</td>\n",
              "      <td>0.0</td>\n",
              "      <td>0.0</td>\n",
              "      <td>0.0</td>\n",
              "      <td>0.0</td>\n",
              "      <td>...</td>\n",
              "      <td>0.0</td>\n",
              "      <td>0.00</td>\n",
              "      <td>0.00</td>\n",
              "      <td>0.0</td>\n",
              "      <td>Yes</td>\n",
              "      <td>No</td>\n",
              "      <td>Yes</td>\n",
              "      <td>Yes</td>\n",
              "      <td>No</td>\n",
              "      <td>No</td>\n",
              "    </tr>\n",
              "    <tr>\n",
              "      <th>8</th>\n",
              "      <td>1045815</td>\n",
              "      <td>140.0</td>\n",
              "      <td>NaN</td>\n",
              "      <td>0.0</td>\n",
              "      <td>15.0</td>\n",
              "      <td>114.0</td>\n",
              "      <td>152.0</td>\n",
              "      <td>0.0</td>\n",
              "      <td>0.0</td>\n",
              "      <td>0.0</td>\n",
              "      <td>...</td>\n",
              "      <td>0.0</td>\n",
              "      <td>-99.00</td>\n",
              "      <td>-99.00</td>\n",
              "      <td>0.0</td>\n",
              "      <td>No</td>\n",
              "      <td>No</td>\n",
              "      <td>No</td>\n",
              "      <td>Yes</td>\n",
              "      <td>No</td>\n",
              "      <td>No</td>\n",
              "    </tr>\n",
              "    <tr>\n",
              "      <th>9</th>\n",
              "      <td>1045867</td>\n",
              "      <td>4.0</td>\n",
              "      <td>8.0</td>\n",
              "      <td>0.0</td>\n",
              "      <td>0.0</td>\n",
              "      <td>0.0</td>\n",
              "      <td>0.0</td>\n",
              "      <td>0.0</td>\n",
              "      <td>0.0</td>\n",
              "      <td>0.0</td>\n",
              "      <td>...</td>\n",
              "      <td>0.0</td>\n",
              "      <td>0.82</td>\n",
              "      <td>0.87</td>\n",
              "      <td>0.0</td>\n",
              "      <td>No</td>\n",
              "      <td>No</td>\n",
              "      <td>No</td>\n",
              "      <td>Yes</td>\n",
              "      <td>No</td>\n",
              "      <td>No</td>\n",
              "    </tr>\n",
              "    <tr>\n",
              "      <th>10</th>\n",
              "      <td>1045918</td>\n",
              "      <td>0.0</td>\n",
              "      <td>2.0</td>\n",
              "      <td>0.0</td>\n",
              "      <td>0.0</td>\n",
              "      <td>0.0</td>\n",
              "      <td>0.0</td>\n",
              "      <td>0.0</td>\n",
              "      <td>0.0</td>\n",
              "      <td>0.0</td>\n",
              "      <td>...</td>\n",
              "      <td>0.0</td>\n",
              "      <td>0.91</td>\n",
              "      <td>0.82</td>\n",
              "      <td>0.0</td>\n",
              "      <td>No</td>\n",
              "      <td>No</td>\n",
              "      <td>No</td>\n",
              "      <td>Yes</td>\n",
              "      <td>No</td>\n",
              "      <td>No</td>\n",
              "    </tr>\n",
              "    <tr>\n",
              "      <th>11</th>\n",
              "      <td>1047146</td>\n",
              "      <td>20.0</td>\n",
              "      <td>NaN</td>\n",
              "      <td>0.0</td>\n",
              "      <td>0.0</td>\n",
              "      <td>0.0</td>\n",
              "      <td>0.0</td>\n",
              "      <td>0.0</td>\n",
              "      <td>0.0</td>\n",
              "      <td>0.0</td>\n",
              "      <td>...</td>\n",
              "      <td>0.0</td>\n",
              "      <td>-99.00</td>\n",
              "      <td>-99.00</td>\n",
              "      <td>0.0</td>\n",
              "      <td>Yes</td>\n",
              "      <td>No</td>\n",
              "      <td>No</td>\n",
              "      <td>Yes</td>\n",
              "      <td>No</td>\n",
              "      <td>No</td>\n",
              "    </tr>\n",
              "    <tr>\n",
              "      <th>12</th>\n",
              "      <td>1047199</td>\n",
              "      <td>18.0</td>\n",
              "      <td>NaN</td>\n",
              "      <td>0.0</td>\n",
              "      <td>0.0</td>\n",
              "      <td>0.0</td>\n",
              "      <td>0.0</td>\n",
              "      <td>0.0</td>\n",
              "      <td>0.0</td>\n",
              "      <td>0.0</td>\n",
              "      <td>...</td>\n",
              "      <td>0.0</td>\n",
              "      <td>-99.00</td>\n",
              "      <td>-99.00</td>\n",
              "      <td>0.0</td>\n",
              "      <td>Yes</td>\n",
              "      <td>No</td>\n",
              "      <td>No</td>\n",
              "      <td>Yes</td>\n",
              "      <td>No</td>\n",
              "      <td>No</td>\n",
              "    </tr>\n",
              "    <tr>\n",
              "      <th>13</th>\n",
              "      <td>1047661</td>\n",
              "      <td>29.0</td>\n",
              "      <td>NaN</td>\n",
              "      <td>0.0</td>\n",
              "      <td>0.0</td>\n",
              "      <td>0.0</td>\n",
              "      <td>0.0</td>\n",
              "      <td>0.0</td>\n",
              "      <td>0.0</td>\n",
              "      <td>0.0</td>\n",
              "      <td>...</td>\n",
              "      <td>0.0</td>\n",
              "      <td>-99.00</td>\n",
              "      <td>-99.00</td>\n",
              "      <td>0.0</td>\n",
              "      <td>Yes</td>\n",
              "      <td>No</td>\n",
              "      <td>No</td>\n",
              "      <td>No</td>\n",
              "      <td>No</td>\n",
              "      <td>No</td>\n",
              "    </tr>\n",
              "    <tr>\n",
              "      <th>14</th>\n",
              "      <td>1049160</td>\n",
              "      <td>10.0</td>\n",
              "      <td>NaN</td>\n",
              "      <td>0.0</td>\n",
              "      <td>0.0</td>\n",
              "      <td>0.0</td>\n",
              "      <td>0.0</td>\n",
              "      <td>0.0</td>\n",
              "      <td>0.0</td>\n",
              "      <td>0.0</td>\n",
              "      <td>...</td>\n",
              "      <td>0.0</td>\n",
              "      <td>-99.00</td>\n",
              "      <td>-99.00</td>\n",
              "      <td>0.0</td>\n",
              "      <td>Yes</td>\n",
              "      <td>No</td>\n",
              "      <td>No</td>\n",
              "      <td>Yes</td>\n",
              "      <td>No</td>\n",
              "      <td>No</td>\n",
              "    </tr>\n",
              "  </tbody>\n",
              "</table>\n",
              "<p>15 rows × 23 columns</p>\n",
              "</div>\n",
              "      <button class=\"colab-df-convert\" onclick=\"convertToInteractive('df-661c95e8-d051-47fc-a6e7-eb47e9609263')\"\n",
              "              title=\"Convert this dataframe to an interactive table.\"\n",
              "              style=\"display:none;\">\n",
              "        \n",
              "  <svg xmlns=\"http://www.w3.org/2000/svg\" height=\"24px\"viewBox=\"0 0 24 24\"\n",
              "       width=\"24px\">\n",
              "    <path d=\"M0 0h24v24H0V0z\" fill=\"none\"/>\n",
              "    <path d=\"M18.56 5.44l.94 2.06.94-2.06 2.06-.94-2.06-.94-.94-2.06-.94 2.06-2.06.94zm-11 1L8.5 8.5l.94-2.06 2.06-.94-2.06-.94L8.5 2.5l-.94 2.06-2.06.94zm10 10l.94 2.06.94-2.06 2.06-.94-2.06-.94-.94-2.06-.94 2.06-2.06.94z\"/><path d=\"M17.41 7.96l-1.37-1.37c-.4-.4-.92-.59-1.43-.59-.52 0-1.04.2-1.43.59L10.3 9.45l-7.72 7.72c-.78.78-.78 2.05 0 2.83L4 21.41c.39.39.9.59 1.41.59.51 0 1.02-.2 1.41-.59l7.78-7.78 2.81-2.81c.8-.78.8-2.07 0-2.86zM5.41 20L4 18.59l7.72-7.72 1.47 1.35L5.41 20z\"/>\n",
              "  </svg>\n",
              "      </button>\n",
              "      \n",
              "  <style>\n",
              "    .colab-df-container {\n",
              "      display:flex;\n",
              "      flex-wrap:wrap;\n",
              "      gap: 12px;\n",
              "    }\n",
              "\n",
              "    .colab-df-convert {\n",
              "      background-color: #E8F0FE;\n",
              "      border: none;\n",
              "      border-radius: 50%;\n",
              "      cursor: pointer;\n",
              "      display: none;\n",
              "      fill: #1967D2;\n",
              "      height: 32px;\n",
              "      padding: 0 0 0 0;\n",
              "      width: 32px;\n",
              "    }\n",
              "\n",
              "    .colab-df-convert:hover {\n",
              "      background-color: #E2EBFA;\n",
              "      box-shadow: 0px 1px 2px rgba(60, 64, 67, 0.3), 0px 1px 3px 1px rgba(60, 64, 67, 0.15);\n",
              "      fill: #174EA6;\n",
              "    }\n",
              "\n",
              "    [theme=dark] .colab-df-convert {\n",
              "      background-color: #3B4455;\n",
              "      fill: #D2E3FC;\n",
              "    }\n",
              "\n",
              "    [theme=dark] .colab-df-convert:hover {\n",
              "      background-color: #434B5C;\n",
              "      box-shadow: 0px 1px 3px 1px rgba(0, 0, 0, 0.15);\n",
              "      filter: drop-shadow(0px 1px 2px rgba(0, 0, 0, 0.3));\n",
              "      fill: #FFFFFF;\n",
              "    }\n",
              "  </style>\n",
              "\n",
              "      <script>\n",
              "        const buttonEl =\n",
              "          document.querySelector('#df-661c95e8-d051-47fc-a6e7-eb47e9609263 button.colab-df-convert');\n",
              "        buttonEl.style.display =\n",
              "          google.colab.kernel.accessAllowed ? 'block' : 'none';\n",
              "\n",
              "        async function convertToInteractive(key) {\n",
              "          const element = document.querySelector('#df-661c95e8-d051-47fc-a6e7-eb47e9609263');\n",
              "          const dataTable =\n",
              "            await google.colab.kernel.invokeFunction('convertToInteractive',\n",
              "                                                     [key], {});\n",
              "          if (!dataTable) return;\n",
              "\n",
              "          const docLinkHtml = 'Like what you see? Visit the ' +\n",
              "            '<a target=\"_blank\" href=https://colab.research.google.com/notebooks/data_table.ipynb>data table notebook</a>'\n",
              "            + ' to learn more about interactive tables.';\n",
              "          element.innerHTML = '';\n",
              "          dataTable['output_type'] = 'display_data';\n",
              "          await google.colab.output.renderOutput(dataTable, element);\n",
              "          const docLink = document.createElement('div');\n",
              "          docLink.innerHTML = docLinkHtml;\n",
              "          element.appendChild(docLink);\n",
              "        }\n",
              "      </script>\n",
              "    </div>\n",
              "  </div>\n",
              "  "
            ]
          },
          "metadata": {},
          "execution_count": 8
        }
      ]
    },
    {
      "cell_type": "code",
      "source": [
        "df.describe()"
      ],
      "metadata": {
        "colab": {
          "base_uri": "https://localhost:8080/",
          "height": 364
        },
        "id": "ih34xZQemlxx",
        "outputId": "2dd791ce-e4af-4755-d4d3-dc3e55e7e3ed"
      },
      "execution_count": null,
      "outputs": [
        {
          "output_type": "execute_result",
          "data": {
            "text/plain": [
              "       national_inv     lead_time  in_transit_qty  forecast_3_month  \\\n",
              "count  1.687860e+06  1.586967e+06    1.687860e+06      1.687860e+06   \n",
              "mean   4.961118e+02  7.872267e+00    4.405202e+01      1.781193e+02   \n",
              "std    2.961523e+04  7.056024e+00    1.342742e+03      5.026553e+03   \n",
              "min   -2.725600e+04  0.000000e+00    0.000000e+00      0.000000e+00   \n",
              "25%    4.000000e+00  4.000000e+00    0.000000e+00      0.000000e+00   \n",
              "50%    1.500000e+01  8.000000e+00    0.000000e+00      0.000000e+00   \n",
              "75%    8.000000e+01  9.000000e+00    0.000000e+00      4.000000e+00   \n",
              "max    1.233440e+07  5.200000e+01    4.894080e+05      1.427612e+06   \n",
              "\n",
              "       forecast_6_month  forecast_9_month  sales_1_month  sales_3_month  \\\n",
              "count      1.687860e+06      1.687860e+06   1.687860e+06   1.687860e+06   \n",
              "mean       3.449867e+02      5.063644e+02   5.592607e+01   1.750259e+02   \n",
              "std        9.795152e+03      1.437892e+04   1.928196e+03   5.192378e+03   \n",
              "min        0.000000e+00      0.000000e+00   0.000000e+00   0.000000e+00   \n",
              "25%        0.000000e+00      0.000000e+00   0.000000e+00   0.000000e+00   \n",
              "50%        0.000000e+00      0.000000e+00   0.000000e+00   1.000000e+00   \n",
              "75%        1.200000e+01      2.000000e+01   4.000000e+00   1.500000e+01   \n",
              "max        2.461360e+06      3.777304e+06   7.417740e+05   1.105478e+06   \n",
              "\n",
              "       sales_6_month  sales_9_month      min_bank  pieces_past_due  \\\n",
              "count   1.687860e+06   1.687860e+06  1.687860e+06     1.687860e+06   \n",
              "mean    3.417288e+02   5.252697e+02  5.277230e+01     2.043724e+00   \n",
              "std     9.613167e+03   1.483861e+04  1.254983e+03     2.360165e+02   \n",
              "min     0.000000e+00   0.000000e+00  0.000000e+00     0.000000e+00   \n",
              "25%     0.000000e+00   0.000000e+00  0.000000e+00     0.000000e+00   \n",
              "50%     2.000000e+00   4.000000e+00  0.000000e+00     0.000000e+00   \n",
              "75%     3.100000e+01   4.700000e+01  3.000000e+00     0.000000e+00   \n",
              "max     2.146625e+06   3.205172e+06  3.133190e+05     1.464960e+05   \n",
              "\n",
              "       perf_6_month_avg  perf_12_month_avg  local_bo_qty  \n",
              "count      1.687860e+06       1.687860e+06  1.687860e+06  \n",
              "mean      -6.872059e+00      -6.437947e+00  6.264507e-01  \n",
              "std        2.655636e+01       2.584333e+01  3.372224e+01  \n",
              "min       -9.900000e+01      -9.900000e+01  0.000000e+00  \n",
              "25%        6.300000e-01       6.600000e-01  0.000000e+00  \n",
              "50%        8.200000e-01       8.100000e-01  0.000000e+00  \n",
              "75%        9.700000e-01       9.500000e-01  0.000000e+00  \n",
              "max        1.000000e+00       1.000000e+00  1.253000e+04  "
            ],
            "text/html": [
              "\n",
              "  <div id=\"df-3d121609-3761-4f30-8993-dc893e9abc6e\">\n",
              "    <div class=\"colab-df-container\">\n",
              "      <div>\n",
              "<style scoped>\n",
              "    .dataframe tbody tr th:only-of-type {\n",
              "        vertical-align: middle;\n",
              "    }\n",
              "\n",
              "    .dataframe tbody tr th {\n",
              "        vertical-align: top;\n",
              "    }\n",
              "\n",
              "    .dataframe thead th {\n",
              "        text-align: right;\n",
              "    }\n",
              "</style>\n",
              "<table border=\"1\" class=\"dataframe\">\n",
              "  <thead>\n",
              "    <tr style=\"text-align: right;\">\n",
              "      <th></th>\n",
              "      <th>national_inv</th>\n",
              "      <th>lead_time</th>\n",
              "      <th>in_transit_qty</th>\n",
              "      <th>forecast_3_month</th>\n",
              "      <th>forecast_6_month</th>\n",
              "      <th>forecast_9_month</th>\n",
              "      <th>sales_1_month</th>\n",
              "      <th>sales_3_month</th>\n",
              "      <th>sales_6_month</th>\n",
              "      <th>sales_9_month</th>\n",
              "      <th>min_bank</th>\n",
              "      <th>pieces_past_due</th>\n",
              "      <th>perf_6_month_avg</th>\n",
              "      <th>perf_12_month_avg</th>\n",
              "      <th>local_bo_qty</th>\n",
              "    </tr>\n",
              "  </thead>\n",
              "  <tbody>\n",
              "    <tr>\n",
              "      <th>count</th>\n",
              "      <td>1.687860e+06</td>\n",
              "      <td>1.586967e+06</td>\n",
              "      <td>1.687860e+06</td>\n",
              "      <td>1.687860e+06</td>\n",
              "      <td>1.687860e+06</td>\n",
              "      <td>1.687860e+06</td>\n",
              "      <td>1.687860e+06</td>\n",
              "      <td>1.687860e+06</td>\n",
              "      <td>1.687860e+06</td>\n",
              "      <td>1.687860e+06</td>\n",
              "      <td>1.687860e+06</td>\n",
              "      <td>1.687860e+06</td>\n",
              "      <td>1.687860e+06</td>\n",
              "      <td>1.687860e+06</td>\n",
              "      <td>1.687860e+06</td>\n",
              "    </tr>\n",
              "    <tr>\n",
              "      <th>mean</th>\n",
              "      <td>4.961118e+02</td>\n",
              "      <td>7.872267e+00</td>\n",
              "      <td>4.405202e+01</td>\n",
              "      <td>1.781193e+02</td>\n",
              "      <td>3.449867e+02</td>\n",
              "      <td>5.063644e+02</td>\n",
              "      <td>5.592607e+01</td>\n",
              "      <td>1.750259e+02</td>\n",
              "      <td>3.417288e+02</td>\n",
              "      <td>5.252697e+02</td>\n",
              "      <td>5.277230e+01</td>\n",
              "      <td>2.043724e+00</td>\n",
              "      <td>-6.872059e+00</td>\n",
              "      <td>-6.437947e+00</td>\n",
              "      <td>6.264507e-01</td>\n",
              "    </tr>\n",
              "    <tr>\n",
              "      <th>std</th>\n",
              "      <td>2.961523e+04</td>\n",
              "      <td>7.056024e+00</td>\n",
              "      <td>1.342742e+03</td>\n",
              "      <td>5.026553e+03</td>\n",
              "      <td>9.795152e+03</td>\n",
              "      <td>1.437892e+04</td>\n",
              "      <td>1.928196e+03</td>\n",
              "      <td>5.192378e+03</td>\n",
              "      <td>9.613167e+03</td>\n",
              "      <td>1.483861e+04</td>\n",
              "      <td>1.254983e+03</td>\n",
              "      <td>2.360165e+02</td>\n",
              "      <td>2.655636e+01</td>\n",
              "      <td>2.584333e+01</td>\n",
              "      <td>3.372224e+01</td>\n",
              "    </tr>\n",
              "    <tr>\n",
              "      <th>min</th>\n",
              "      <td>-2.725600e+04</td>\n",
              "      <td>0.000000e+00</td>\n",
              "      <td>0.000000e+00</td>\n",
              "      <td>0.000000e+00</td>\n",
              "      <td>0.000000e+00</td>\n",
              "      <td>0.000000e+00</td>\n",
              "      <td>0.000000e+00</td>\n",
              "      <td>0.000000e+00</td>\n",
              "      <td>0.000000e+00</td>\n",
              "      <td>0.000000e+00</td>\n",
              "      <td>0.000000e+00</td>\n",
              "      <td>0.000000e+00</td>\n",
              "      <td>-9.900000e+01</td>\n",
              "      <td>-9.900000e+01</td>\n",
              "      <td>0.000000e+00</td>\n",
              "    </tr>\n",
              "    <tr>\n",
              "      <th>25%</th>\n",
              "      <td>4.000000e+00</td>\n",
              "      <td>4.000000e+00</td>\n",
              "      <td>0.000000e+00</td>\n",
              "      <td>0.000000e+00</td>\n",
              "      <td>0.000000e+00</td>\n",
              "      <td>0.000000e+00</td>\n",
              "      <td>0.000000e+00</td>\n",
              "      <td>0.000000e+00</td>\n",
              "      <td>0.000000e+00</td>\n",
              "      <td>0.000000e+00</td>\n",
              "      <td>0.000000e+00</td>\n",
              "      <td>0.000000e+00</td>\n",
              "      <td>6.300000e-01</td>\n",
              "      <td>6.600000e-01</td>\n",
              "      <td>0.000000e+00</td>\n",
              "    </tr>\n",
              "    <tr>\n",
              "      <th>50%</th>\n",
              "      <td>1.500000e+01</td>\n",
              "      <td>8.000000e+00</td>\n",
              "      <td>0.000000e+00</td>\n",
              "      <td>0.000000e+00</td>\n",
              "      <td>0.000000e+00</td>\n",
              "      <td>0.000000e+00</td>\n",
              "      <td>0.000000e+00</td>\n",
              "      <td>1.000000e+00</td>\n",
              "      <td>2.000000e+00</td>\n",
              "      <td>4.000000e+00</td>\n",
              "      <td>0.000000e+00</td>\n",
              "      <td>0.000000e+00</td>\n",
              "      <td>8.200000e-01</td>\n",
              "      <td>8.100000e-01</td>\n",
              "      <td>0.000000e+00</td>\n",
              "    </tr>\n",
              "    <tr>\n",
              "      <th>75%</th>\n",
              "      <td>8.000000e+01</td>\n",
              "      <td>9.000000e+00</td>\n",
              "      <td>0.000000e+00</td>\n",
              "      <td>4.000000e+00</td>\n",
              "      <td>1.200000e+01</td>\n",
              "      <td>2.000000e+01</td>\n",
              "      <td>4.000000e+00</td>\n",
              "      <td>1.500000e+01</td>\n",
              "      <td>3.100000e+01</td>\n",
              "      <td>4.700000e+01</td>\n",
              "      <td>3.000000e+00</td>\n",
              "      <td>0.000000e+00</td>\n",
              "      <td>9.700000e-01</td>\n",
              "      <td>9.500000e-01</td>\n",
              "      <td>0.000000e+00</td>\n",
              "    </tr>\n",
              "    <tr>\n",
              "      <th>max</th>\n",
              "      <td>1.233440e+07</td>\n",
              "      <td>5.200000e+01</td>\n",
              "      <td>4.894080e+05</td>\n",
              "      <td>1.427612e+06</td>\n",
              "      <td>2.461360e+06</td>\n",
              "      <td>3.777304e+06</td>\n",
              "      <td>7.417740e+05</td>\n",
              "      <td>1.105478e+06</td>\n",
              "      <td>2.146625e+06</td>\n",
              "      <td>3.205172e+06</td>\n",
              "      <td>3.133190e+05</td>\n",
              "      <td>1.464960e+05</td>\n",
              "      <td>1.000000e+00</td>\n",
              "      <td>1.000000e+00</td>\n",
              "      <td>1.253000e+04</td>\n",
              "    </tr>\n",
              "  </tbody>\n",
              "</table>\n",
              "</div>\n",
              "      <button class=\"colab-df-convert\" onclick=\"convertToInteractive('df-3d121609-3761-4f30-8993-dc893e9abc6e')\"\n",
              "              title=\"Convert this dataframe to an interactive table.\"\n",
              "              style=\"display:none;\">\n",
              "        \n",
              "  <svg xmlns=\"http://www.w3.org/2000/svg\" height=\"24px\"viewBox=\"0 0 24 24\"\n",
              "       width=\"24px\">\n",
              "    <path d=\"M0 0h24v24H0V0z\" fill=\"none\"/>\n",
              "    <path d=\"M18.56 5.44l.94 2.06.94-2.06 2.06-.94-2.06-.94-.94-2.06-.94 2.06-2.06.94zm-11 1L8.5 8.5l.94-2.06 2.06-.94-2.06-.94L8.5 2.5l-.94 2.06-2.06.94zm10 10l.94 2.06.94-2.06 2.06-.94-2.06-.94-.94-2.06-.94 2.06-2.06.94z\"/><path d=\"M17.41 7.96l-1.37-1.37c-.4-.4-.92-.59-1.43-.59-.52 0-1.04.2-1.43.59L10.3 9.45l-7.72 7.72c-.78.78-.78 2.05 0 2.83L4 21.41c.39.39.9.59 1.41.59.51 0 1.02-.2 1.41-.59l7.78-7.78 2.81-2.81c.8-.78.8-2.07 0-2.86zM5.41 20L4 18.59l7.72-7.72 1.47 1.35L5.41 20z\"/>\n",
              "  </svg>\n",
              "      </button>\n",
              "      \n",
              "  <style>\n",
              "    .colab-df-container {\n",
              "      display:flex;\n",
              "      flex-wrap:wrap;\n",
              "      gap: 12px;\n",
              "    }\n",
              "\n",
              "    .colab-df-convert {\n",
              "      background-color: #E8F0FE;\n",
              "      border: none;\n",
              "      border-radius: 50%;\n",
              "      cursor: pointer;\n",
              "      display: none;\n",
              "      fill: #1967D2;\n",
              "      height: 32px;\n",
              "      padding: 0 0 0 0;\n",
              "      width: 32px;\n",
              "    }\n",
              "\n",
              "    .colab-df-convert:hover {\n",
              "      background-color: #E2EBFA;\n",
              "      box-shadow: 0px 1px 2px rgba(60, 64, 67, 0.3), 0px 1px 3px 1px rgba(60, 64, 67, 0.15);\n",
              "      fill: #174EA6;\n",
              "    }\n",
              "\n",
              "    [theme=dark] .colab-df-convert {\n",
              "      background-color: #3B4455;\n",
              "      fill: #D2E3FC;\n",
              "    }\n",
              "\n",
              "    [theme=dark] .colab-df-convert:hover {\n",
              "      background-color: #434B5C;\n",
              "      box-shadow: 0px 1px 3px 1px rgba(0, 0, 0, 0.15);\n",
              "      filter: drop-shadow(0px 1px 2px rgba(0, 0, 0, 0.3));\n",
              "      fill: #FFFFFF;\n",
              "    }\n",
              "  </style>\n",
              "\n",
              "      <script>\n",
              "        const buttonEl =\n",
              "          document.querySelector('#df-3d121609-3761-4f30-8993-dc893e9abc6e button.colab-df-convert');\n",
              "        buttonEl.style.display =\n",
              "          google.colab.kernel.accessAllowed ? 'block' : 'none';\n",
              "\n",
              "        async function convertToInteractive(key) {\n",
              "          const element = document.querySelector('#df-3d121609-3761-4f30-8993-dc893e9abc6e');\n",
              "          const dataTable =\n",
              "            await google.colab.kernel.invokeFunction('convertToInteractive',\n",
              "                                                     [key], {});\n",
              "          if (!dataTable) return;\n",
              "\n",
              "          const docLinkHtml = 'Like what you see? Visit the ' +\n",
              "            '<a target=\"_blank\" href=https://colab.research.google.com/notebooks/data_table.ipynb>data table notebook</a>'\n",
              "            + ' to learn more about interactive tables.';\n",
              "          element.innerHTML = '';\n",
              "          dataTable['output_type'] = 'display_data';\n",
              "          await google.colab.output.renderOutput(dataTable, element);\n",
              "          const docLink = document.createElement('div');\n",
              "          docLink.innerHTML = docLinkHtml;\n",
              "          element.appendChild(docLink);\n",
              "        }\n",
              "      </script>\n",
              "    </div>\n",
              "  </div>\n",
              "  "
            ]
          },
          "metadata": {},
          "execution_count": 13
        }
      ]
    },
    {
      "cell_type": "code",
      "source": [
        "df.mean()"
      ],
      "metadata": {
        "colab": {
          "base_uri": "https://localhost:8080/"
        },
        "id": "4xw2CWBE0ir1",
        "outputId": "16599aee-5785-407e-c57d-da5e6f8ddefc"
      },
      "execution_count": null,
      "outputs": [
        {
          "output_type": "stream",
          "name": "stderr",
          "text": [
            "/usr/local/lib/python3.7/dist-packages/ipykernel_launcher.py:1: FutureWarning: Dropping of nuisance columns in DataFrame reductions (with 'numeric_only=None') is deprecated; in a future version this will raise TypeError.  Select only valid columns before calling the reduction.\n",
            "  \"\"\"Entry point for launching an IPython kernel.\n"
          ]
        },
        {
          "output_type": "execute_result",
          "data": {
            "text/plain": [
              "national_inv         496.111782\n",
              "lead_time              7.872267\n",
              "in_transit_qty        44.052022\n",
              "forecast_3_month     178.119284\n",
              "forecast_6_month     344.986664\n",
              "forecast_9_month     506.364431\n",
              "sales_1_month         55.926069\n",
              "sales_3_month        175.025930\n",
              "sales_6_month        341.728839\n",
              "sales_9_month        525.269701\n",
              "min_bank              52.772303\n",
              "pieces_past_due        2.043724\n",
              "perf_6_month_avg      -6.872059\n",
              "perf_12_month_avg     -6.437947\n",
              "local_bo_qty           0.626451\n",
              "deck_risk              0.229571\n",
              "oe_constraint          0.000145\n",
              "dtype: float64"
            ]
          },
          "metadata": {},
          "execution_count": 18
        }
      ]
    },
    {
      "cell_type": "code",
      "source": [
        "df_test.head(15)"
      ],
      "metadata": {
        "colab": {
          "base_uri": "https://localhost:8080/",
          "height": 613
        },
        "id": "x6ks47uyii9o",
        "outputId": "2a13d776-f331-47d6-d6b1-3cfa7950e8ee"
      },
      "execution_count": null,
      "outputs": [
        {
          "output_type": "execute_result",
          "data": {
            "text/plain": [
              "        sku  national_inv  lead_time  in_transit_qty  forecast_3_month  \\\n",
              "0   3285085          62.0        NaN             0.0               0.0   \n",
              "1   3285131           9.0        NaN             0.0               0.0   \n",
              "2   3285358          17.0        8.0             0.0               0.0   \n",
              "3   3285517           9.0        2.0             0.0               0.0   \n",
              "4   3285608           2.0        8.0             0.0               0.0   \n",
              "5   3285960          15.0        2.0             0.0               0.0   \n",
              "6   3286073           0.0        NaN             0.0               0.0   \n",
              "7   3286113          28.0        NaN             0.0               0.0   \n",
              "8   3286206           2.0        NaN             0.0               0.0   \n",
              "9   3286325           2.0        NaN             0.0               0.0   \n",
              "10  3286917          20.0        NaN             0.0               0.0   \n",
              "11  3287458           0.0        NaN             0.0               0.0   \n",
              "12  3287918          13.0        NaN             0.0               0.0   \n",
              "13  3288094         208.0       16.0             0.0               0.0   \n",
              "14  3288245           0.0        NaN             0.0               0.0   \n",
              "\n",
              "    forecast_6_month  forecast_9_month  sales_1_month  sales_3_month  \\\n",
              "0                0.0               0.0            0.0            0.0   \n",
              "1                0.0               0.0            0.0            0.0   \n",
              "2                0.0               0.0            0.0            0.0   \n",
              "3                0.0               0.0            0.0            0.0   \n",
              "4                0.0               0.0            0.0            0.0   \n",
              "5                0.0               0.0            0.0            0.0   \n",
              "6                0.0               0.0            0.0            0.0   \n",
              "7                0.0               0.0            0.0            0.0   \n",
              "8                0.0               0.0            0.0            0.0   \n",
              "9                0.0               0.0            0.0            0.0   \n",
              "10               0.0               0.0            0.0            0.0   \n",
              "11               0.0               0.0            0.0            0.0   \n",
              "12               0.0               0.0            0.0            0.0   \n",
              "13               0.0               0.0            0.0            0.0   \n",
              "14               0.0               0.0            0.0            0.0   \n",
              "\n",
              "    sales_6_month  ...  pieces_past_due  perf_6_month_avg perf_12_month_avg  \\\n",
              "0             0.0  ...              0.0            -99.00            -99.00   \n",
              "1             0.0  ...              0.0            -99.00            -99.00   \n",
              "2             0.0  ...              0.0              0.92              0.95   \n",
              "3             0.0  ...              0.0              0.78              0.75   \n",
              "4             0.0  ...              0.0              0.54              0.71   \n",
              "5             1.0  ...              0.0              0.37              0.68   \n",
              "6             0.0  ...              0.0            -99.00            -99.00   \n",
              "7             0.0  ...              0.0            -99.00            -99.00   \n",
              "8             0.0  ...              0.0            -99.00            -99.00   \n",
              "9             0.0  ...              0.0            -99.00            -99.00   \n",
              "10            0.0  ...              0.0            -99.00            -99.00   \n",
              "11            0.0  ...              0.0            -99.00            -99.00   \n",
              "12            0.0  ...              0.0            -99.00            -99.00   \n",
              "13            0.0  ...              0.0              0.66              0.64   \n",
              "14            0.0  ...              0.0            -99.00            -99.00   \n",
              "\n",
              "    local_bo_qty  deck_risk  oe_constraint  ppap_risk stop_auto_buy rev_stop  \\\n",
              "0            0.0        Yes             No         No           Yes       No   \n",
              "1            0.0         No             No        Yes            No       No   \n",
              "2            0.0         No             No         No           Yes       No   \n",
              "3            0.0         No             No        Yes           Yes       No   \n",
              "4            0.0         No             No         No           Yes       No   \n",
              "5            0.0         No             No         No           Yes       No   \n",
              "6            0.0         No             No         No           Yes       No   \n",
              "7            0.0        Yes             No         No           Yes       No   \n",
              "8            0.0        Yes             No        Yes           Yes       No   \n",
              "9            0.0         No             No         No           Yes       No   \n",
              "10           0.0        Yes             No         No           Yes       No   \n",
              "11           0.0         No             No         No           Yes       No   \n",
              "12           0.0        Yes             No         No           Yes       No   \n",
              "13           0.0         No             No         No           Yes       No   \n",
              "14           0.0         No             No         No           Yes       No   \n",
              "\n",
              "   went_on_backorder  \n",
              "0                 No  \n",
              "1                 No  \n",
              "2                 No  \n",
              "3                 No  \n",
              "4                 No  \n",
              "5                 No  \n",
              "6                 No  \n",
              "7                 No  \n",
              "8                 No  \n",
              "9                 No  \n",
              "10                No  \n",
              "11                No  \n",
              "12                No  \n",
              "13                No  \n",
              "14                No  \n",
              "\n",
              "[15 rows x 23 columns]"
            ],
            "text/html": [
              "\n",
              "  <div id=\"df-5ab20f25-8851-4edd-9fa4-f6b48659a154\">\n",
              "    <div class=\"colab-df-container\">\n",
              "      <div>\n",
              "<style scoped>\n",
              "    .dataframe tbody tr th:only-of-type {\n",
              "        vertical-align: middle;\n",
              "    }\n",
              "\n",
              "    .dataframe tbody tr th {\n",
              "        vertical-align: top;\n",
              "    }\n",
              "\n",
              "    .dataframe thead th {\n",
              "        text-align: right;\n",
              "    }\n",
              "</style>\n",
              "<table border=\"1\" class=\"dataframe\">\n",
              "  <thead>\n",
              "    <tr style=\"text-align: right;\">\n",
              "      <th></th>\n",
              "      <th>sku</th>\n",
              "      <th>national_inv</th>\n",
              "      <th>lead_time</th>\n",
              "      <th>in_transit_qty</th>\n",
              "      <th>forecast_3_month</th>\n",
              "      <th>forecast_6_month</th>\n",
              "      <th>forecast_9_month</th>\n",
              "      <th>sales_1_month</th>\n",
              "      <th>sales_3_month</th>\n",
              "      <th>sales_6_month</th>\n",
              "      <th>...</th>\n",
              "      <th>pieces_past_due</th>\n",
              "      <th>perf_6_month_avg</th>\n",
              "      <th>perf_12_month_avg</th>\n",
              "      <th>local_bo_qty</th>\n",
              "      <th>deck_risk</th>\n",
              "      <th>oe_constraint</th>\n",
              "      <th>ppap_risk</th>\n",
              "      <th>stop_auto_buy</th>\n",
              "      <th>rev_stop</th>\n",
              "      <th>went_on_backorder</th>\n",
              "    </tr>\n",
              "  </thead>\n",
              "  <tbody>\n",
              "    <tr>\n",
              "      <th>0</th>\n",
              "      <td>3285085</td>\n",
              "      <td>62.0</td>\n",
              "      <td>NaN</td>\n",
              "      <td>0.0</td>\n",
              "      <td>0.0</td>\n",
              "      <td>0.0</td>\n",
              "      <td>0.0</td>\n",
              "      <td>0.0</td>\n",
              "      <td>0.0</td>\n",
              "      <td>0.0</td>\n",
              "      <td>...</td>\n",
              "      <td>0.0</td>\n",
              "      <td>-99.00</td>\n",
              "      <td>-99.00</td>\n",
              "      <td>0.0</td>\n",
              "      <td>Yes</td>\n",
              "      <td>No</td>\n",
              "      <td>No</td>\n",
              "      <td>Yes</td>\n",
              "      <td>No</td>\n",
              "      <td>No</td>\n",
              "    </tr>\n",
              "    <tr>\n",
              "      <th>1</th>\n",
              "      <td>3285131</td>\n",
              "      <td>9.0</td>\n",
              "      <td>NaN</td>\n",
              "      <td>0.0</td>\n",
              "      <td>0.0</td>\n",
              "      <td>0.0</td>\n",
              "      <td>0.0</td>\n",
              "      <td>0.0</td>\n",
              "      <td>0.0</td>\n",
              "      <td>0.0</td>\n",
              "      <td>...</td>\n",
              "      <td>0.0</td>\n",
              "      <td>-99.00</td>\n",
              "      <td>-99.00</td>\n",
              "      <td>0.0</td>\n",
              "      <td>No</td>\n",
              "      <td>No</td>\n",
              "      <td>Yes</td>\n",
              "      <td>No</td>\n",
              "      <td>No</td>\n",
              "      <td>No</td>\n",
              "    </tr>\n",
              "    <tr>\n",
              "      <th>2</th>\n",
              "      <td>3285358</td>\n",
              "      <td>17.0</td>\n",
              "      <td>8.0</td>\n",
              "      <td>0.0</td>\n",
              "      <td>0.0</td>\n",
              "      <td>0.0</td>\n",
              "      <td>0.0</td>\n",
              "      <td>0.0</td>\n",
              "      <td>0.0</td>\n",
              "      <td>0.0</td>\n",
              "      <td>...</td>\n",
              "      <td>0.0</td>\n",
              "      <td>0.92</td>\n",
              "      <td>0.95</td>\n",
              "      <td>0.0</td>\n",
              "      <td>No</td>\n",
              "      <td>No</td>\n",
              "      <td>No</td>\n",
              "      <td>Yes</td>\n",
              "      <td>No</td>\n",
              "      <td>No</td>\n",
              "    </tr>\n",
              "    <tr>\n",
              "      <th>3</th>\n",
              "      <td>3285517</td>\n",
              "      <td>9.0</td>\n",
              "      <td>2.0</td>\n",
              "      <td>0.0</td>\n",
              "      <td>0.0</td>\n",
              "      <td>0.0</td>\n",
              "      <td>0.0</td>\n",
              "      <td>0.0</td>\n",
              "      <td>0.0</td>\n",
              "      <td>0.0</td>\n",
              "      <td>...</td>\n",
              "      <td>0.0</td>\n",
              "      <td>0.78</td>\n",
              "      <td>0.75</td>\n",
              "      <td>0.0</td>\n",
              "      <td>No</td>\n",
              "      <td>No</td>\n",
              "      <td>Yes</td>\n",
              "      <td>Yes</td>\n",
              "      <td>No</td>\n",
              "      <td>No</td>\n",
              "    </tr>\n",
              "    <tr>\n",
              "      <th>4</th>\n",
              "      <td>3285608</td>\n",
              "      <td>2.0</td>\n",
              "      <td>8.0</td>\n",
              "      <td>0.0</td>\n",
              "      <td>0.0</td>\n",
              "      <td>0.0</td>\n",
              "      <td>0.0</td>\n",
              "      <td>0.0</td>\n",
              "      <td>0.0</td>\n",
              "      <td>0.0</td>\n",
              "      <td>...</td>\n",
              "      <td>0.0</td>\n",
              "      <td>0.54</td>\n",
              "      <td>0.71</td>\n",
              "      <td>0.0</td>\n",
              "      <td>No</td>\n",
              "      <td>No</td>\n",
              "      <td>No</td>\n",
              "      <td>Yes</td>\n",
              "      <td>No</td>\n",
              "      <td>No</td>\n",
              "    </tr>\n",
              "    <tr>\n",
              "      <th>5</th>\n",
              "      <td>3285960</td>\n",
              "      <td>15.0</td>\n",
              "      <td>2.0</td>\n",
              "      <td>0.0</td>\n",
              "      <td>0.0</td>\n",
              "      <td>0.0</td>\n",
              "      <td>0.0</td>\n",
              "      <td>0.0</td>\n",
              "      <td>0.0</td>\n",
              "      <td>1.0</td>\n",
              "      <td>...</td>\n",
              "      <td>0.0</td>\n",
              "      <td>0.37</td>\n",
              "      <td>0.68</td>\n",
              "      <td>0.0</td>\n",
              "      <td>No</td>\n",
              "      <td>No</td>\n",
              "      <td>No</td>\n",
              "      <td>Yes</td>\n",
              "      <td>No</td>\n",
              "      <td>No</td>\n",
              "    </tr>\n",
              "    <tr>\n",
              "      <th>6</th>\n",
              "      <td>3286073</td>\n",
              "      <td>0.0</td>\n",
              "      <td>NaN</td>\n",
              "      <td>0.0</td>\n",
              "      <td>0.0</td>\n",
              "      <td>0.0</td>\n",
              "      <td>0.0</td>\n",
              "      <td>0.0</td>\n",
              "      <td>0.0</td>\n",
              "      <td>0.0</td>\n",
              "      <td>...</td>\n",
              "      <td>0.0</td>\n",
              "      <td>-99.00</td>\n",
              "      <td>-99.00</td>\n",
              "      <td>0.0</td>\n",
              "      <td>No</td>\n",
              "      <td>No</td>\n",
              "      <td>No</td>\n",
              "      <td>Yes</td>\n",
              "      <td>No</td>\n",
              "      <td>No</td>\n",
              "    </tr>\n",
              "    <tr>\n",
              "      <th>7</th>\n",
              "      <td>3286113</td>\n",
              "      <td>28.0</td>\n",
              "      <td>NaN</td>\n",
              "      <td>0.0</td>\n",
              "      <td>0.0</td>\n",
              "      <td>0.0</td>\n",
              "      <td>0.0</td>\n",
              "      <td>0.0</td>\n",
              "      <td>0.0</td>\n",
              "      <td>0.0</td>\n",
              "      <td>...</td>\n",
              "      <td>0.0</td>\n",
              "      <td>-99.00</td>\n",
              "      <td>-99.00</td>\n",
              "      <td>0.0</td>\n",
              "      <td>Yes</td>\n",
              "      <td>No</td>\n",
              "      <td>No</td>\n",
              "      <td>Yes</td>\n",
              "      <td>No</td>\n",
              "      <td>No</td>\n",
              "    </tr>\n",
              "    <tr>\n",
              "      <th>8</th>\n",
              "      <td>3286206</td>\n",
              "      <td>2.0</td>\n",
              "      <td>NaN</td>\n",
              "      <td>0.0</td>\n",
              "      <td>0.0</td>\n",
              "      <td>0.0</td>\n",
              "      <td>0.0</td>\n",
              "      <td>0.0</td>\n",
              "      <td>0.0</td>\n",
              "      <td>0.0</td>\n",
              "      <td>...</td>\n",
              "      <td>0.0</td>\n",
              "      <td>-99.00</td>\n",
              "      <td>-99.00</td>\n",
              "      <td>0.0</td>\n",
              "      <td>Yes</td>\n",
              "      <td>No</td>\n",
              "      <td>Yes</td>\n",
              "      <td>Yes</td>\n",
              "      <td>No</td>\n",
              "      <td>No</td>\n",
              "    </tr>\n",
              "    <tr>\n",
              "      <th>9</th>\n",
              "      <td>3286325</td>\n",
              "      <td>2.0</td>\n",
              "      <td>NaN</td>\n",
              "      <td>0.0</td>\n",
              "      <td>0.0</td>\n",
              "      <td>0.0</td>\n",
              "      <td>0.0</td>\n",
              "      <td>0.0</td>\n",
              "      <td>0.0</td>\n",
              "      <td>0.0</td>\n",
              "      <td>...</td>\n",
              "      <td>0.0</td>\n",
              "      <td>-99.00</td>\n",
              "      <td>-99.00</td>\n",
              "      <td>0.0</td>\n",
              "      <td>No</td>\n",
              "      <td>No</td>\n",
              "      <td>No</td>\n",
              "      <td>Yes</td>\n",
              "      <td>No</td>\n",
              "      <td>No</td>\n",
              "    </tr>\n",
              "    <tr>\n",
              "      <th>10</th>\n",
              "      <td>3286917</td>\n",
              "      <td>20.0</td>\n",
              "      <td>NaN</td>\n",
              "      <td>0.0</td>\n",
              "      <td>0.0</td>\n",
              "      <td>0.0</td>\n",
              "      <td>0.0</td>\n",
              "      <td>0.0</td>\n",
              "      <td>0.0</td>\n",
              "      <td>0.0</td>\n",
              "      <td>...</td>\n",
              "      <td>0.0</td>\n",
              "      <td>-99.00</td>\n",
              "      <td>-99.00</td>\n",
              "      <td>0.0</td>\n",
              "      <td>Yes</td>\n",
              "      <td>No</td>\n",
              "      <td>No</td>\n",
              "      <td>Yes</td>\n",
              "      <td>No</td>\n",
              "      <td>No</td>\n",
              "    </tr>\n",
              "    <tr>\n",
              "      <th>11</th>\n",
              "      <td>3287458</td>\n",
              "      <td>0.0</td>\n",
              "      <td>NaN</td>\n",
              "      <td>0.0</td>\n",
              "      <td>0.0</td>\n",
              "      <td>0.0</td>\n",
              "      <td>0.0</td>\n",
              "      <td>0.0</td>\n",
              "      <td>0.0</td>\n",
              "      <td>0.0</td>\n",
              "      <td>...</td>\n",
              "      <td>0.0</td>\n",
              "      <td>-99.00</td>\n",
              "      <td>-99.00</td>\n",
              "      <td>0.0</td>\n",
              "      <td>No</td>\n",
              "      <td>No</td>\n",
              "      <td>No</td>\n",
              "      <td>Yes</td>\n",
              "      <td>No</td>\n",
              "      <td>No</td>\n",
              "    </tr>\n",
              "    <tr>\n",
              "      <th>12</th>\n",
              "      <td>3287918</td>\n",
              "      <td>13.0</td>\n",
              "      <td>NaN</td>\n",
              "      <td>0.0</td>\n",
              "      <td>0.0</td>\n",
              "      <td>0.0</td>\n",
              "      <td>0.0</td>\n",
              "      <td>0.0</td>\n",
              "      <td>0.0</td>\n",
              "      <td>0.0</td>\n",
              "      <td>...</td>\n",
              "      <td>0.0</td>\n",
              "      <td>-99.00</td>\n",
              "      <td>-99.00</td>\n",
              "      <td>0.0</td>\n",
              "      <td>Yes</td>\n",
              "      <td>No</td>\n",
              "      <td>No</td>\n",
              "      <td>Yes</td>\n",
              "      <td>No</td>\n",
              "      <td>No</td>\n",
              "    </tr>\n",
              "    <tr>\n",
              "      <th>13</th>\n",
              "      <td>3288094</td>\n",
              "      <td>208.0</td>\n",
              "      <td>16.0</td>\n",
              "      <td>0.0</td>\n",
              "      <td>0.0</td>\n",
              "      <td>0.0</td>\n",
              "      <td>0.0</td>\n",
              "      <td>0.0</td>\n",
              "      <td>0.0</td>\n",
              "      <td>0.0</td>\n",
              "      <td>...</td>\n",
              "      <td>0.0</td>\n",
              "      <td>0.66</td>\n",
              "      <td>0.64</td>\n",
              "      <td>0.0</td>\n",
              "      <td>No</td>\n",
              "      <td>No</td>\n",
              "      <td>No</td>\n",
              "      <td>Yes</td>\n",
              "      <td>No</td>\n",
              "      <td>No</td>\n",
              "    </tr>\n",
              "    <tr>\n",
              "      <th>14</th>\n",
              "      <td>3288245</td>\n",
              "      <td>0.0</td>\n",
              "      <td>NaN</td>\n",
              "      <td>0.0</td>\n",
              "      <td>0.0</td>\n",
              "      <td>0.0</td>\n",
              "      <td>0.0</td>\n",
              "      <td>0.0</td>\n",
              "      <td>0.0</td>\n",
              "      <td>0.0</td>\n",
              "      <td>...</td>\n",
              "      <td>0.0</td>\n",
              "      <td>-99.00</td>\n",
              "      <td>-99.00</td>\n",
              "      <td>0.0</td>\n",
              "      <td>No</td>\n",
              "      <td>No</td>\n",
              "      <td>No</td>\n",
              "      <td>Yes</td>\n",
              "      <td>No</td>\n",
              "      <td>No</td>\n",
              "    </tr>\n",
              "  </tbody>\n",
              "</table>\n",
              "<p>15 rows × 23 columns</p>\n",
              "</div>\n",
              "      <button class=\"colab-df-convert\" onclick=\"convertToInteractive('df-5ab20f25-8851-4edd-9fa4-f6b48659a154')\"\n",
              "              title=\"Convert this dataframe to an interactive table.\"\n",
              "              style=\"display:none;\">\n",
              "        \n",
              "  <svg xmlns=\"http://www.w3.org/2000/svg\" height=\"24px\"viewBox=\"0 0 24 24\"\n",
              "       width=\"24px\">\n",
              "    <path d=\"M0 0h24v24H0V0z\" fill=\"none\"/>\n",
              "    <path d=\"M18.56 5.44l.94 2.06.94-2.06 2.06-.94-2.06-.94-.94-2.06-.94 2.06-2.06.94zm-11 1L8.5 8.5l.94-2.06 2.06-.94-2.06-.94L8.5 2.5l-.94 2.06-2.06.94zm10 10l.94 2.06.94-2.06 2.06-.94-2.06-.94-.94-2.06-.94 2.06-2.06.94z\"/><path d=\"M17.41 7.96l-1.37-1.37c-.4-.4-.92-.59-1.43-.59-.52 0-1.04.2-1.43.59L10.3 9.45l-7.72 7.72c-.78.78-.78 2.05 0 2.83L4 21.41c.39.39.9.59 1.41.59.51 0 1.02-.2 1.41-.59l7.78-7.78 2.81-2.81c.8-.78.8-2.07 0-2.86zM5.41 20L4 18.59l7.72-7.72 1.47 1.35L5.41 20z\"/>\n",
              "  </svg>\n",
              "      </button>\n",
              "      \n",
              "  <style>\n",
              "    .colab-df-container {\n",
              "      display:flex;\n",
              "      flex-wrap:wrap;\n",
              "      gap: 12px;\n",
              "    }\n",
              "\n",
              "    .colab-df-convert {\n",
              "      background-color: #E8F0FE;\n",
              "      border: none;\n",
              "      border-radius: 50%;\n",
              "      cursor: pointer;\n",
              "      display: none;\n",
              "      fill: #1967D2;\n",
              "      height: 32px;\n",
              "      padding: 0 0 0 0;\n",
              "      width: 32px;\n",
              "    }\n",
              "\n",
              "    .colab-df-convert:hover {\n",
              "      background-color: #E2EBFA;\n",
              "      box-shadow: 0px 1px 2px rgba(60, 64, 67, 0.3), 0px 1px 3px 1px rgba(60, 64, 67, 0.15);\n",
              "      fill: #174EA6;\n",
              "    }\n",
              "\n",
              "    [theme=dark] .colab-df-convert {\n",
              "      background-color: #3B4455;\n",
              "      fill: #D2E3FC;\n",
              "    }\n",
              "\n",
              "    [theme=dark] .colab-df-convert:hover {\n",
              "      background-color: #434B5C;\n",
              "      box-shadow: 0px 1px 3px 1px rgba(0, 0, 0, 0.15);\n",
              "      filter: drop-shadow(0px 1px 2px rgba(0, 0, 0, 0.3));\n",
              "      fill: #FFFFFF;\n",
              "    }\n",
              "  </style>\n",
              "\n",
              "      <script>\n",
              "        const buttonEl =\n",
              "          document.querySelector('#df-5ab20f25-8851-4edd-9fa4-f6b48659a154 button.colab-df-convert');\n",
              "        buttonEl.style.display =\n",
              "          google.colab.kernel.accessAllowed ? 'block' : 'none';\n",
              "\n",
              "        async function convertToInteractive(key) {\n",
              "          const element = document.querySelector('#df-5ab20f25-8851-4edd-9fa4-f6b48659a154');\n",
              "          const dataTable =\n",
              "            await google.colab.kernel.invokeFunction('convertToInteractive',\n",
              "                                                     [key], {});\n",
              "          if (!dataTable) return;\n",
              "\n",
              "          const docLinkHtml = 'Like what you see? Visit the ' +\n",
              "            '<a target=\"_blank\" href=https://colab.research.google.com/notebooks/data_table.ipynb>data table notebook</a>'\n",
              "            + ' to learn more about interactive tables.';\n",
              "          element.innerHTML = '';\n",
              "          dataTable['output_type'] = 'display_data';\n",
              "          await google.colab.output.renderOutput(dataTable, element);\n",
              "          const docLink = document.createElement('div');\n",
              "          docLink.innerHTML = docLinkHtml;\n",
              "          element.appendChild(docLink);\n",
              "        }\n",
              "      </script>\n",
              "    </div>\n",
              "  </div>\n",
              "  "
            ]
          },
          "metadata": {},
          "execution_count": 11
        }
      ]
    },
    {
      "cell_type": "code",
      "source": [
        "print((df[\"went_on_backorder\"].values == \"Yes\").sum())\n",
        "print((df[\"went_on_backorder\"].values == \"No\").sum())"
      ],
      "metadata": {
        "colab": {
          "base_uri": "https://localhost:8080/"
        },
        "id": "ESaY8UQHU_wR",
        "outputId": "e233de70-7a2f-4dd5-965e-bc5850aa6830"
      },
      "execution_count": null,
      "outputs": [
        {
          "output_type": "stream",
          "name": "stdout",
          "text": [
            "11293\n",
            "1676567\n"
          ]
        }
      ]
    },
    {
      "cell_type": "code",
      "source": [
        "def mapping(dataFrame, lis):\n",
        "  for i in lis:\n",
        "      dataFrame[i] = dataFrame[i].map({'Yes':1, 'No':0})\n",
        "\n",
        "mapping(df,[\"deck_risk\",\"oe_constraint\"])\n",
        "df[\"deck_risk\"].values"
      ],
      "metadata": {
        "colab": {
          "base_uri": "https://localhost:8080/"
        },
        "id": "v03y-OaRsNk9",
        "outputId": "3e7e3a99-fbbe-49dd-b935-b8126b0d63e8"
      },
      "execution_count": null,
      "outputs": [
        {
          "output_type": "execute_result",
          "data": {
            "text/plain": [
              "array([ 0.,  0.,  1., ...,  0.,  0., nan])"
            ]
          },
          "metadata": {},
          "execution_count": 13
        }
      ]
    },
    {
      "cell_type": "code",
      "source": [
        "df.info()"
      ],
      "metadata": {
        "colab": {
          "base_uri": "https://localhost:8080/"
        },
        "id": "Hzgd4OkfyPTt",
        "outputId": "5248aba3-1387-4e7c-ea63-d64e65644036"
      },
      "execution_count": null,
      "outputs": [
        {
          "output_type": "stream",
          "name": "stdout",
          "text": [
            "<class 'pandas.core.frame.DataFrame'>\n",
            "RangeIndex: 1687861 entries, 0 to 1687860\n",
            "Data columns (total 23 columns):\n",
            " #   Column             Non-Null Count    Dtype  \n",
            "---  ------             --------------    -----  \n",
            " 0   sku                1687861 non-null  object \n",
            " 1   national_inv       1687860 non-null  float64\n",
            " 2   lead_time          1586967 non-null  float64\n",
            " 3   in_transit_qty     1687860 non-null  float64\n",
            " 4   forecast_3_month   1687860 non-null  float64\n",
            " 5   forecast_6_month   1687860 non-null  float64\n",
            " 6   forecast_9_month   1687860 non-null  float64\n",
            " 7   sales_1_month      1687860 non-null  float64\n",
            " 8   sales_3_month      1687860 non-null  float64\n",
            " 9   sales_6_month      1687860 non-null  float64\n",
            " 10  sales_9_month      1687860 non-null  float64\n",
            " 11  min_bank           1687860 non-null  float64\n",
            " 12  potential_issue    1687860 non-null  object \n",
            " 13  pieces_past_due    1687860 non-null  float64\n",
            " 14  perf_6_month_avg   1687860 non-null  float64\n",
            " 15  perf_12_month_avg  1687860 non-null  float64\n",
            " 16  local_bo_qty       1687860 non-null  float64\n",
            " 17  deck_risk          1687860 non-null  float64\n",
            " 18  oe_constraint      1687860 non-null  float64\n",
            " 19  ppap_risk          1687860 non-null  object \n",
            " 20  stop_auto_buy      1687860 non-null  object \n",
            " 21  rev_stop           1687860 non-null  object \n",
            " 22  went_on_backorder  1687860 non-null  object \n",
            "dtypes: float64(17), object(6)\n",
            "memory usage: 296.2+ MB\n"
          ]
        }
      ]
    },
    {
      "cell_type": "code",
      "source": [
        "mapping(df_test,[\"deck_risk\",\"oe_constraint\"])\n",
        "df_test[\"deck_risk\"].values"
      ],
      "metadata": {
        "colab": {
          "base_uri": "https://localhost:8080/"
        },
        "id": "uhNuLiANymUs",
        "outputId": "d347d0c3-7e4c-4619-acdf-33a0da4e47f3"
      },
      "execution_count": null,
      "outputs": [
        {
          "output_type": "execute_result",
          "data": {
            "text/plain": [
              "array([ 1.,  0.,  0., ...,  1.,  1., nan])"
            ]
          },
          "metadata": {},
          "execution_count": 16
        }
      ]
    },
    {
      "cell_type": "code",
      "source": [
        "df_test.info()"
      ],
      "metadata": {
        "colab": {
          "base_uri": "https://localhost:8080/"
        },
        "id": "c2wq3G3ryujs",
        "outputId": "c52662b9-7f84-47e7-f148-c6669f2fa0ad"
      },
      "execution_count": null,
      "outputs": [
        {
          "output_type": "stream",
          "name": "stdout",
          "text": [
            "<class 'pandas.core.frame.DataFrame'>\n",
            "RangeIndex: 242076 entries, 0 to 242075\n",
            "Data columns (total 23 columns):\n",
            " #   Column             Non-Null Count   Dtype  \n",
            "---  ------             --------------   -----  \n",
            " 0   sku                242076 non-null  object \n",
            " 1   national_inv       242075 non-null  float64\n",
            " 2   lead_time          227351 non-null  float64\n",
            " 3   in_transit_qty     242075 non-null  float64\n",
            " 4   forecast_3_month   242075 non-null  float64\n",
            " 5   forecast_6_month   242075 non-null  float64\n",
            " 6   forecast_9_month   242075 non-null  float64\n",
            " 7   sales_1_month      242075 non-null  float64\n",
            " 8   sales_3_month      242075 non-null  float64\n",
            " 9   sales_6_month      242075 non-null  float64\n",
            " 10  sales_9_month      242075 non-null  float64\n",
            " 11  min_bank           242075 non-null  float64\n",
            " 12  potential_issue    242075 non-null  object \n",
            " 13  pieces_past_due    242075 non-null  float64\n",
            " 14  perf_6_month_avg   242075 non-null  float64\n",
            " 15  perf_12_month_avg  242075 non-null  float64\n",
            " 16  local_bo_qty       242075 non-null  float64\n",
            " 17  deck_risk          242075 non-null  float64\n",
            " 18  oe_constraint      242075 non-null  float64\n",
            " 19  ppap_risk          242075 non-null  object \n",
            " 20  stop_auto_buy      242075 non-null  object \n",
            " 21  rev_stop           242075 non-null  object \n",
            " 22  went_on_backorder  242075 non-null  object \n",
            "dtypes: float64(17), object(6)\n",
            "memory usage: 42.5+ MB\n"
          ]
        }
      ]
    },
    {
      "cell_type": "code",
      "source": [
        "df['deck_risk'] = df['deck_risk'].map({'Yes':1, 'No':0})\n",
        "df['oe_constraint'] = df['oe_constraint'].map({'Yes':1, 'No':0})\n",
        "df['ppap_risk'] = df['ppap_risk'].map({'Yes':1, 'No':0})\n",
        "df['stop_auto_buy'] = df['stop_auto_buy'].map({'Yes':1, 'No':0})\n",
        "df['potential_issue'] = df['potential_issue'].map({'Yes':1, 'No':0})\n",
        "df['went_on_backorder'] = df['went_on_backorder'].map({'Yes':1, 'No':0})"
      ],
      "metadata": {
        "id": "VNaZAf518O-V"
      },
      "execution_count": null,
      "outputs": []
    },
    {
      "cell_type": "code",
      "source": [
        "plt.hist('oe_constraint', bins=10, data=df)"
      ],
      "metadata": {
        "colab": {
          "base_uri": "https://localhost:8080/",
          "height": 367
        },
        "id": "EiD-HU5IoJK7",
        "outputId": "145b24e9-c696-4fef-8593-560bbe28d34c"
      },
      "execution_count": null,
      "outputs": [
        {
          "output_type": "execute_result",
          "data": {
            "text/plain": [
              "(array([1.687615e+06, 0.000000e+00, 0.000000e+00, 0.000000e+00,\n",
              "        0.000000e+00, 0.000000e+00, 0.000000e+00, 0.000000e+00,\n",
              "        0.000000e+00, 2.450000e+02]),\n",
              " array([0. , 0.1, 0.2, 0.3, 0.4, 0.5, 0.6, 0.7, 0.8, 0.9, 1. ]),\n",
              " <a list of 10 Patch objects>)"
            ]
          },
          "metadata": {},
          "execution_count": 12
        },
        {
          "output_type": "display_data",
          "data": {
            "text/plain": [
              "<Figure size 432x288 with 1 Axes>"
            ],
            "image/png": "[encoded data removed]"
          },
          "metadata": {
            "needs_background": "light"
          }
        }
      ]
    },
    {
      "cell_type": "code",
      "source": [
        "df[\"oe_constraint\"].value_counts()"
      ],
      "metadata": {
        "colab": {
          "base_uri": "https://localhost:8080/"
        },
        "id": "_hLxx4siypBO",
        "outputId": "98d5ae48-e081-4f1d-fa15-242a8461b37e"
      },
      "execution_count": null,
      "outputs": [
        {
          "output_type": "execute_result",
          "data": {
            "text/plain": [
              "0.0    1687615\n",
              "1.0        245\n",
              "Name: oe_constraint, dtype: int64"
            ]
          },
          "metadata": {},
          "execution_count": 13
        }
      ]
    },
    {
      "cell_type": "code",
      "source": [
        "plt.hist('ppap_risk', bins=11, data=df)"
      ],
      "metadata": {
        "colab": {
          "base_uri": "https://localhost:8080/",
          "height": 385
        },
        "id": "ks9b2SaHoU1V",
        "outputId": "48ccb6fa-3de4-4179-f6ce-383d54b79b6c"
      },
      "execution_count": null,
      "outputs": [
        {
          "output_type": "execute_result",
          "data": {
            "text/plain": [
              "(array([1484026.,       0.,       0.,       0.,       0.,       0.,\n",
              "              0.,       0.,       0.,       0.,  203834.]),\n",
              " array([0.        , 0.09090909, 0.18181818, 0.27272727, 0.36363636,\n",
              "        0.45454545, 0.54545455, 0.63636364, 0.72727273, 0.81818182,\n",
              "        0.90909091, 1.        ]),\n",
              " <a list of 11 Patch objects>)"
            ]
          },
          "metadata": {},
          "execution_count": 14
        },
        {
          "output_type": "display_data",
          "data": {
            "text/plain": [
              "<Figure size 432x288 with 1 Axes>"
            ],
            "image/png": "[encoded data removed]"
          },
          "metadata": {
            "needs_background": "light"
          }
        }
      ]
    },
    {
      "cell_type": "code",
      "source": [
        "df[\"sku\"].nunique()\n",
        "df.drop(df.tail(1).index,inplace=True)"
      ],
      "metadata": {
        "id": "7k6wXG9fTnKW"
      },
      "execution_count": null,
      "outputs": []
    },
    {
      "cell_type": "code",
      "source": [
        "corr = df.corr()\n",
        "sns.heatmap(corr, cmap= 'RdGy',square=\"True\") "
      ],
      "metadata": {
        "colab": {
          "base_uri": "https://localhost:8080/",
          "height": 376
        },
        "id": "VK0ecm2rjm-X",
        "outputId": "53ac729f-0a8a-40aa-861a-a514424718e9"
      },
      "execution_count": null,
      "outputs": [
        {
          "output_type": "execute_result",
          "data": {
            "text/plain": [
              "<matplotlib.axes._subplots.AxesSubplot at 0x7f88c543d710>"
            ]
          },
          "metadata": {},
          "execution_count": 16
        },
        {
          "output_type": "display_data",
          "data": {
            "text/plain": [
              "<Figure size 432x288 with 2 Axes>"
            ],
            "image/png": "[encoded data removed]"
          },
          "metadata": {
            "needs_background": "light"
          }
        }
      ]
    },
    {
      "cell_type": "code",
      "source": [
        "# from pandas.core.indexes import category\n",
        "# df[\"deck_risk\"].unique()\n",
        "# df[\"deck_risk_new\"] = df[\"deck_risk\"]\n",
        "# df[\"deck_risk_new\"] = pd.Categorical(df[\"deck_risk_new\"])\n",
        "# df.loc[df[\"deck_risk\"]== \"No\", \"deck_risk_new\"] = 0\n",
        "# df[\"deck_risk_new\"]\n",
        "df[\"deck_risk\"]"
      ],
      "metadata": {
        "id": "MvOGrGOyp_OW",
        "colab": {
          "base_uri": "https://localhost:8080/"
        },
        "outputId": "014ae91b-c4c1-4538-e262-e6f5e3b2f361"
      },
      "execution_count": null,
      "outputs": [
        {
          "output_type": "execute_result",
          "data": {
            "text/plain": [
              "0          0.0\n",
              "1          0.0\n",
              "2          1.0\n",
              "3          0.0\n",
              "4          1.0\n",
              "          ... \n",
              "1687855    1.0\n",
              "1687856    0.0\n",
              "1687857    1.0\n",
              "1687858    0.0\n",
              "1687859    0.0\n",
              "Name: deck_risk, Length: 1687860, dtype: float64"
            ]
          },
          "metadata": {},
          "execution_count": 17
        }
      ]
    },
    {
      "cell_type": "code",
      "source": [
        "df.info()"
      ],
      "metadata": {
        "colab": {
          "base_uri": "https://localhost:8080/"
        },
        "id": "HhGdKziHJ2Om",
        "outputId": "f6d339c3-02df-44f0-b2c1-73efafcb533f"
      },
      "execution_count": null,
      "outputs": [
        {
          "output_type": "stream",
          "name": "stdout",
          "text": [
            "<class 'pandas.core.frame.DataFrame'>\n",
            "Int64Index: 1687860 entries, 0 to 1687859\n",
            "Data columns (total 23 columns):\n",
            " #   Column             Non-Null Count    Dtype  \n",
            "---  ------             --------------    -----  \n",
            " 0   sku                1687860 non-null  object \n",
            " 1   national_inv       1687860 non-null  float64\n",
            " 2   lead_time          1586967 non-null  float64\n",
            " 3   in_transit_qty     1687860 non-null  float64\n",
            " 4   forecast_3_month   1687860 non-null  float64\n",
            " 5   forecast_6_month   1687860 non-null  float64\n",
            " 6   forecast_9_month   1687860 non-null  float64\n",
            " 7   sales_1_month      1687860 non-null  float64\n",
            " 8   sales_3_month      1687860 non-null  float64\n",
            " 9   sales_6_month      1687860 non-null  float64\n",
            " 10  sales_9_month      1687860 non-null  float64\n",
            " 11  min_bank           1687860 non-null  float64\n",
            " 12  potential_issue    1687860 non-null  float64\n",
            " 13  pieces_past_due    1687860 non-null  float64\n",
            " 14  perf_6_month_avg   1687860 non-null  float64\n",
            " 15  perf_12_month_avg  1687860 non-null  float64\n",
            " 16  local_bo_qty       1687860 non-null  float64\n",
            " 17  deck_risk          1687860 non-null  float64\n",
            " 18  oe_constraint      1687860 non-null  float64\n",
            " 19  ppap_risk          1687860 non-null  float64\n",
            " 20  stop_auto_buy      1687860 non-null  float64\n",
            " 21  rev_stop           1687860 non-null  object \n",
            " 22  went_on_backorder  1687860 non-null  float64\n",
            "dtypes: float64(21), object(2)\n",
            "memory usage: 309.1+ MB\n"
          ]
        }
      ]
    },
    {
      "cell_type": "code",
      "source": [],
      "metadata": {
        "id": "Caq6aLZTJrZG"
      },
      "execution_count": null,
      "outputs": []
    },
    {
      "cell_type": "code",
      "source": [
        "# df_temp = df.copy()\n",
        "# # df_temp.loc[df_temp[\"deck_risk\"]== \"No\", \"deck_risk\"] = 0\n",
        "# # df_temp.loc[df_temp[\"deck_risk\"]== \"Yes\", \"deck_risk\"] = 1\n",
        "# df_temp[\"deck_risk\"].unique()\n",
        "# df_temp['deck_new'] = df_temp['deck_risk'].map({'Yes':1, 'No':0})\n",
        "# df_temp['deck_new']"
      ],
      "metadata": {
        "id": "uJq0dDXyHuBx"
      },
      "execution_count": null,
      "outputs": []
    },
    {
      "cell_type": "code",
      "source": [
        "# def artif_enco(df , column ):\n",
        "#   #val = df[column][i]\n",
        "#   for val in df[column]:\n",
        "#     if val == \"Yes\":\n",
        "#       df[column] = (df[column] == 'Yes').astype(int)\n",
        "#     elif val == \"No\" :\n",
        "#       df[column] = (df[column] == 'No').astype(int)\n",
        "#     else:\n",
        "#       continue\n",
        "#     print (val) \n",
        "\n",
        "  # i =0 \n",
        "  # for val in df[column][i]:\n",
        "  #   if val == \"Yes\":\n",
        "  #     df[column][i] = 1\n",
        "    \n",
        "  #   elif val==\"No\":\n",
        "  #     df[column][i] = 0\n",
        "\n",
        "  #   else:\n",
        "  #     df[column][i] = np.NaN\n",
        "  #   i = i+1\n"
      ],
      "metadata": {
        "id": "ynhFA0Jyn8gP"
      },
      "execution_count": null,
      "outputs": []
    },
    {
      "cell_type": "code",
      "source": [
        "# df['deck_risk']=df['deck_risk'].astype('category')\n",
        "# enc = OneHotEncoder(handle_unknown='ignore')\n",
        "# df['deck_risk_num'] =df['deck_risk'].cat.codes\n",
        "# enc.fit_transform(df[['deck_risk_num']].toarray().reshape(1,-1))"
      ],
      "metadata": {
        "id": "VZsHZaVS-zsC"
      },
      "execution_count": null,
      "outputs": []
    },
    {
      "cell_type": "code",
      "source": [],
      "metadata": {
        "id": "79OuLAPlbzcH"
      },
      "execution_count": null,
      "outputs": []
    },
    {
      "cell_type": "code",
      "source": [],
      "metadata": {
        "id": "8OW52fPDPvPz"
      },
      "execution_count": null,
      "outputs": []
    },
    {
      "cell_type": "code",
      "source": [
        "# df[df[\"lead_time\"].isna()] = df[\"lead_time\"].mean()\n",
        "# df[df[\"potential_issue\"].isna()]"
      ],
      "metadata": {
        "id": "VRztJraucy_o"
      },
      "execution_count": null,
      "outputs": []
    },
    {
      "cell_type": "code",
      "source": [
        "df.isnull().sum()"
      ],
      "metadata": {
        "colab": {
          "base_uri": "https://localhost:8080/"
        },
        "id": "4hwRCgwEd7bB",
        "outputId": "9e6c7c89-07cb-4e32-dbc0-27c60a42a95f"
      },
      "execution_count": null,
      "outputs": [
        {
          "output_type": "execute_result",
          "data": {
            "text/plain": [
              "sku                       0\n",
              "national_inv              0\n",
              "lead_time            100893\n",
              "in_transit_qty            0\n",
              "forecast_3_month          0\n",
              "forecast_6_month          0\n",
              "forecast_9_month          0\n",
              "sales_1_month             0\n",
              "sales_3_month             0\n",
              "sales_6_month             0\n",
              "sales_9_month             0\n",
              "min_bank                  0\n",
              "potential_issue           0\n",
              "pieces_past_due           0\n",
              "perf_6_month_avg          0\n",
              "perf_12_month_avg         0\n",
              "local_bo_qty              0\n",
              "deck_risk                 0\n",
              "oe_constraint             0\n",
              "ppap_risk                 0\n",
              "stop_auto_buy             0\n",
              "rev_stop                  0\n",
              "went_on_backorder         0\n",
              "dtype: int64"
            ]
          },
          "metadata": {},
          "execution_count": 23
        }
      ]
    },
    {
      "cell_type": "code",
      "source": [
        "from IPython.core.pylabtools import figsize\n",
        "import seaborn as sns\n",
        "f, ax = plt.subplots(figsize= (12,12))\n",
        "corr = df.corr()\n",
        "sns.heatmap(corr,square=\"True\")\n",
        "plt.show()"
      ],
      "metadata": {
        "colab": {
          "base_uri": "https://localhost:8080/",
          "height": 734
        },
        "id": "5V0ZNNPZPfJL",
        "outputId": "05a79a13-54c7-4ecb-a308-2cc1cc6d3226"
      },
      "execution_count": null,
      "outputs": [
        {
          "output_type": "display_data",
          "data": {
            "text/plain": [
              "<Figure size 864x864 with 2 Axes>"
            ],
            "image/png": "[encoded data removed]"
          },
          "metadata": {
            "needs_background": "light"
          }
        }
      ]
    },
    {
      "cell_type": "code",
      "source": [
        "corr.nlargest(10,\"went_on_backorder\")[\"went_on_backorder\"]"
      ],
      "metadata": {
        "colab": {
          "base_uri": "https://localhost:8080/"
        },
        "id": "E1iOGPpnRR-w",
        "outputId": "a067a749-8519-4362-b792-d6e1a5042438"
      },
      "execution_count": null,
      "outputs": [
        {
          "output_type": "execute_result",
          "data": {
            "text/plain": [
              "went_on_backorder    1.000000\n",
              "potential_issue      0.014090\n",
              "perf_6_month_avg     0.011676\n",
              "perf_12_month_avg    0.011593\n",
              "local_bo_qty         0.009504\n",
              "ppap_risk            0.008814\n",
              "oe_constraint        0.003837\n",
              "pieces_past_due      0.000516\n",
              "forecast_3_month    -0.000340\n",
              "forecast_6_month    -0.000840\n",
              "Name: went_on_backorder, dtype: float64"
            ]
          },
          "metadata": {},
          "execution_count": 25
        }
      ]
    },
    {
      "cell_type": "markdown",
      "source": [
        "None of the features have very high co-relation with our final output variable"
      ],
      "metadata": {
        "id": "jKIhtOKgR4Iw"
      }
    },
    {
      "cell_type": "code",
      "source": [
        "x= df.drop([\"went_on_backorder\",\"sku\",\"rev_stop\",\"lead_time\",\"oe_constraint\"], axis=1)\n",
        "y = df[\"went_on_backorder\"]"
      ],
      "metadata": {
        "id": "79wt0_E28XwW"
      },
      "execution_count": null,
      "outputs": []
    },
    {
      "cell_type": "code",
      "source": [
        "x.shape"
      ],
      "metadata": {
        "colab": {
          "base_uri": "https://localhost:8080/"
        },
        "id": "hWVjh3Ud-xHe",
        "outputId": "726ca30d-0f84-4110-c14a-0fce79cb89b8"
      },
      "execution_count": null,
      "outputs": [
        {
          "output_type": "execute_result",
          "data": {
            "text/plain": [
              "(1687860, 19)"
            ]
          },
          "metadata": {},
          "execution_count": 27
        }
      ]
    },
    {
      "cell_type": "code",
      "source": [
        "y.shape"
      ],
      "metadata": {
        "colab": {
          "base_uri": "https://localhost:8080/"
        },
        "id": "BaYp7P3T-y_t",
        "outputId": "4014bcec-ecdb-4eea-ef40-6b63bbfe9c83"
      },
      "execution_count": null,
      "outputs": [
        {
          "output_type": "execute_result",
          "data": {
            "text/plain": [
              "(1687860,)"
            ]
          },
          "metadata": {},
          "execution_count": 28
        }
      ]
    },
    {
      "cell_type": "code",
      "source": [
        "x.select_dtypes([\"object\"]).columns"
      ],
      "metadata": {
        "colab": {
          "base_uri": "https://localhost:8080/"
        },
        "id": "KIx8Weh6_K4Z",
        "outputId": "7bd2575f-21b9-4eeb-924d-2c8226eda903"
      },
      "execution_count": null,
      "outputs": [
        {
          "output_type": "execute_result",
          "data": {
            "text/plain": [
              "Index([], dtype='object')"
            ]
          },
          "metadata": {},
          "execution_count": 29
        }
      ]
    },
    {
      "cell_type": "code",
      "source": [
        "x.select_dtypes([\"float64\",\"int64\"]).columns"
      ],
      "metadata": {
        "colab": {
          "base_uri": "https://localhost:8080/"
        },
        "id": "JoJvGDZEACZo",
        "outputId": "a0232642-73a2-41ca-b4ca-2c326480d423"
      },
      "execution_count": null,
      "outputs": [
        {
          "output_type": "execute_result",
          "data": {
            "text/plain": [
              "Index(['national_inv', 'in_transit_qty', 'forecast_3_month',\n",
              "       'forecast_6_month', 'forecast_9_month', 'sales_1_month',\n",
              "       'sales_3_month', 'sales_6_month', 'sales_9_month', 'min_bank',\n",
              "       'potential_issue', 'pieces_past_due', 'perf_6_month_avg',\n",
              "       'perf_12_month_avg', 'local_bo_qty', 'deck_risk', 'oe_constraint',\n",
              "       'ppap_risk', 'stop_auto_buy'],\n",
              "      dtype='object')"
            ]
          },
          "metadata": {},
          "execution_count": 30
        }
      ]
    },
    {
      "cell_type": "code",
      "source": [
        "corr = x.corr()\n",
        "sns.heatmap(corr, cmap= 'RdGy',square=\"True\") "
      ],
      "metadata": {
        "colab": {
          "base_uri": "https://localhost:8080/",
          "height": 376
        },
        "id": "NHzqvfu7A7HC",
        "outputId": "1a8a60da-feb1-4bab-c2ce-1a23a22ba44e"
      },
      "execution_count": null,
      "outputs": [
        {
          "output_type": "execute_result",
          "data": {
            "text/plain": [
              "<matplotlib.axes._subplots.AxesSubplot at 0x7f88c2a23fd0>"
            ]
          },
          "metadata": {},
          "execution_count": 31
        },
        {
          "output_type": "display_data",
          "data": {
            "text/plain": [
              "<Figure size 432x288 with 2 Axes>"
            ],
            "image/png": "[encoded data removed]"
          },
          "metadata": {
            "needs_background": "light"
          }
        }
      ]
    },
    {
      "cell_type": "markdown",
      "source": [
        "forecast and perf of months are highly correlated in themselves but perf is not highly related to local_bo_qty"
      ],
      "metadata": {
        "id": "FgRMMK-0kDaO"
      }
    },
    {
      "cell_type": "markdown",
      "source": [
        "perf_6_month_avg and perf_12_month_avg are also highly correlated to output variable and within themselves so dropping perf_12_month_avg "
      ],
      "metadata": {
        "id": "JUtPjt55PC22"
      }
    },
    {
      "cell_type": "code",
      "source": [
        "x = x.drop([\"perf_12_month_avg\"],axis = 1)\n",
        "x = x.drop([\"forecast_9_month\"],axis = 1)"
      ],
      "metadata": {
        "id": "piEsqre3j4kR"
      },
      "execution_count": null,
      "outputs": []
    },
    {
      "cell_type": "code",
      "source": [
        "corr.nlargest(10,\"local_bo_qty\")[\"local_bo_qty\"]"
      ],
      "metadata": {
        "id": "4-LBtVlftUZk",
        "colab": {
          "base_uri": "https://localhost:8080/"
        },
        "outputId": "4ce72a94-d0b8-4644-d187-35b71a87f8fc"
      },
      "execution_count": null,
      "outputs": [
        {
          "output_type": "execute_result",
          "data": {
            "text/plain": [
              "local_bo_qty        1.000000\n",
              "min_bank            0.076678\n",
              "sales_3_month       0.071030\n",
              "in_transit_qty      0.066612\n",
              "sales_1_month       0.066188\n",
              "sales_6_month       0.057765\n",
              "sales_9_month       0.048880\n",
              "forecast_9_month    0.039732\n",
              "forecast_6_month    0.039724\n",
              "forecast_3_month    0.039419\n",
              "Name: local_bo_qty, dtype: float64"
            ]
          },
          "metadata": {},
          "execution_count": 59
        }
      ]
    },
    {
      "cell_type": "markdown",
      "source": [
        "sales_1_month has highest correlation wrt local_bo_qty following by forecast_3_month , forecast_6_month and forecast_9_month ."
      ],
      "metadata": {
        "id": "NiYfrx-oow53"
      }
    },
    {
      "cell_type": "code",
      "source": [
        "!pip install catboost"
      ],
      "metadata": {
        "id": "bCiQjCVmYReV",
        "colab": {
          "base_uri": "https://localhost:8080/"
        },
        "outputId": "b6e34980-a2c6-4f8c-eaaa-7f88154b2b37"
      },
      "execution_count": null,
      "outputs": [
        {
          "output_type": "stream",
          "name": "stdout",
          "text": [
            "Looking in indexes: https://pypi.org/simple, https://us-python.pkg.dev/colab-wheels/public/simple/\n",
            "Requirement already satisfied: catboost in /usr/local/lib/python3.7/dist-packages (1.1)\n",
            "Requirement already satisfied: scipy in /usr/local/lib/python3.7/dist-packages (from catboost) (1.7.3)\n",
            "Requirement already satisfied: plotly in /usr/local/lib/python3.7/dist-packages (from catboost) (5.5.0)\n",
            "Requirement already satisfied: matplotlib in /usr/local/lib/python3.7/dist-packages (from catboost) (3.2.2)\n",
            "Requirement already satisfied: pandas>=0.24.0 in /usr/local/lib/python3.7/dist-packages (from catboost) (1.3.5)\n",
            "Requirement already satisfied: graphviz in /usr/local/lib/python3.7/dist-packages (from catboost) (0.10.1)\n",
            "Requirement already satisfied: six in /usr/local/lib/python3.7/dist-packages (from catboost) (1.15.0)\n",
            "Requirement already satisfied: numpy>=1.16.0 in /usr/local/lib/python3.7/dist-packages (from catboost) (1.21.6)\n",
            "Requirement already satisfied: python-dateutil>=2.7.3 in /usr/local/lib/python3.7/dist-packages (from pandas>=0.24.0->catboost) (2.8.2)\n",
            "Requirement already satisfied: pytz>=2017.3 in /usr/local/lib/python3.7/dist-packages (from pandas>=0.24.0->catboost) (2022.4)\n",
            "Requirement already satisfied: cycler>=0.10 in /usr/local/lib/python3.7/dist-packages (from matplotlib->catboost) (0.11.0)\n",
            "Requirement already satisfied: pyparsing!=2.0.4,!=2.1.2,!=2.1.6,>=2.0.1 in /usr/local/lib/python3.7/dist-packages (from matplotlib->catboost) (3.0.9)\n",
            "Requirement already satisfied: kiwisolver>=1.0.1 in /usr/local/lib/python3.7/dist-packages (from matplotlib->catboost) (1.4.4)\n",
            "Requirement already satisfied: typing-extensions in /usr/local/lib/python3.7/dist-packages (from kiwisolver>=1.0.1->matplotlib->catboost) (4.1.1)\n",
            "Requirement already satisfied: tenacity>=6.2.0 in /usr/local/lib/python3.7/dist-packages (from plotly->catboost) (8.1.0)\n"
          ]
        }
      ]
    },
    {
      "cell_type": "code",
      "source": [
        "from sklearn.linear_model import SGDClassifier as SGDC\n",
        "from sklearn.linear_model import LogisticRegression\n",
        "from sklearn.multiclass import OneVsOneClassifier\n",
        "from xgboost import XGBClassifier as XGBC\n",
        "from catboost import CatBoostClassifier , metrics, cv, Pool\n",
        "from sklearn.metrics import confusion_matrix, accuracy_score , precision_score ,roc_auc_score\n",
        "from sklearn.model_selection import cross_val_score\n",
        "import numpy as np\n",
        "\n",
        "\n",
        "def train_SGDClassifier(train_X, train_Y, val_X=None, val_Y=None):\n",
        "\tsgdc = SGDC( loss='log', penalty='elasticnet',  alpha=0.001, learning_rate='optimal')\n",
        "\tprint(' Training logistic regression ...')\n",
        "\tsgdc.fit(train_X,train_Y)\n",
        "\tif (val_X is not None) and (val_Y is not None):\n",
        "\t\tpredictions = sgdc.predict(val_X)\n",
        "\t\tprint(\"Accuracy::\",sgdc.score(val_X,val_Y))\n",
        "\n",
        "  \n",
        "\n",
        "def train_logistic_regression(train_X, train_Y, val_X=None, val_Y=None):\n",
        "\t# sgdc = SGDC( loss='log', penalty='elasticnet',  alpha=0.001, learning_rate='optimal')\n",
        "\tmodel = OneVsOneClassifier(LogisticRegression())\n",
        "\tprint(' Training logistic regression ...')\n",
        "\tmodel.fit(train_X,train_Y)\n",
        "\tif (val_X is not None) and (val_Y is not None):\n",
        "\t\tpredictions = model.predict(val_X) \n",
        "\t\tprint(\"Accuracy::\",model.score(val_X,val_Y))\n",
        "  \n",
        "\n",
        "def train_xgb(train_X,train_Y,val_X,val_Y):\n",
        "\txgbc = XGBC()\n",
        "\tprint(' XGBoost Training !!!')\n",
        "\txgbc.fit(train_X,train_Y, verbose= True)\n",
        "\tif (val_X is not None) and (val_Y is not None):\n",
        "\t\tpredictions = xgbc.predict(val_X)\n",
        "\t\tprint(\"Accuracy::\",xgbc.score(val_X,val_Y))\n",
        "\n",
        "def train_catboost(train_X,train_Y,val_X,val_Y):\n",
        "\n",
        "\tmodel = CatBoostClassifier(loss_function='MultiClass',\n",
        "\t\t\t\t\t\t\t\t\t\t\t\t\t\t\trandom_seed=42,\n",
        "\t\t\t\t\t\t\t\t\t\t\t\t\t\t\tlogging_level='Silent'\n",
        "\t\t\t\t\t\t\t\t\t\t\t\t\t\t\t)\n",
        "\tmodel.fit(train_X, train_Y, eval_set=(val_X,val_Y), plot=True)\n",
        "\ty_pred = model.predict(val_X)\n",
        "\tprint(accuracy_score(val_Y, y_pred))\n",
        "\tprint(precision_score(val_Y,y_pred))\n",
        "\tprint(roc_auc_score(val_Y,y_pred))\n",
        "\n",
        "\n",
        "\taccuracies = cross_val_score(estimator = model, X = train_X, y = train_Y, cv = 3)\n",
        "\tprint(\"Accuracy:{:.2f} %\".format(accuracies.mean()*100))\n",
        "\tprint(\"Standard Deviation:{:.2f} %\".format(accuracies.std()*100))"
      ],
      "metadata": {
        "id": "Tr2p5f65UuXC"
      },
      "execution_count": null,
      "outputs": []
    },
    {
      "cell_type": "code",
      "source": [
        "from sklearn.model_selection import train_test_split\n",
        "from sklearn.preprocessing import StandardScaler\n",
        "\n",
        "X_train, X_test, Y_train, Y_test = train_test_split(x, y, test_size=0.33, random_state=42)\n",
        "\n",
        "# scaler = StandardScaler()\n",
        "# scaler.fit(X_train)\n",
        "# X_train = scaler.transform(X_train)\n",
        "# X_test = scaler.transform(X_test)\n"
      ],
      "metadata": {
        "id": "9X7wfrL3X8Cc"
      },
      "execution_count": null,
      "outputs": []
    },
    {
      "cell_type": "code",
      "source": [
        "# train_SGDClassifier(X_train, Y_train, X_test, Y_test)"
      ],
      "metadata": {
        "id": "IGNogKhDYr9E"
      },
      "execution_count": null,
      "outputs": []
    },
    {
      "cell_type": "code",
      "source": [
        "x.info()"
      ],
      "metadata": {
        "colab": {
          "base_uri": "https://localhost:8080/"
        },
        "id": "-P3Du6RW7bpl",
        "outputId": "3f81545f-a3ac-4b62-e124-6653b383df6d"
      },
      "execution_count": null,
      "outputs": [
        {
          "output_type": "stream",
          "name": "stdout",
          "text": [
            "<class 'pandas.core.frame.DataFrame'>\n",
            "Int64Index: 1687860 entries, 0 to 1687859\n",
            "Data columns (total 17 columns):\n",
            " #   Column            Non-Null Count    Dtype  \n",
            "---  ------            --------------    -----  \n",
            " 0   national_inv      1687860 non-null  float64\n",
            " 1   in_transit_qty    1687860 non-null  float64\n",
            " 2   forecast_3_month  1687860 non-null  float64\n",
            " 3   forecast_6_month  1687860 non-null  float64\n",
            " 4   sales_1_month     1687860 non-null  float64\n",
            " 5   sales_3_month     1687860 non-null  float64\n",
            " 6   sales_6_month     1687860 non-null  float64\n",
            " 7   sales_9_month     1687860 non-null  float64\n",
            " 8   min_bank          1687860 non-null  float64\n",
            " 9   potential_issue   1687860 non-null  float64\n",
            " 10  pieces_past_due   1687860 non-null  float64\n",
            " 11  perf_6_month_avg  1687860 non-null  float64\n",
            " 12  local_bo_qty      1687860 non-null  float64\n",
            " 13  deck_risk         1687860 non-null  float64\n",
            " 14  oe_constraint     1687860 non-null  float64\n",
            " 15  ppap_risk         1687860 non-null  float64\n",
            " 16  stop_auto_buy     1687860 non-null  float64\n",
            "dtypes: float64(17)\n",
            "memory usage: 231.8 MB\n"
          ]
        }
      ]
    },
    {
      "cell_type": "code",
      "source": [
        "model1 = train_logistic_regression(X_train, Y_train, X_test, Y_test)"
      ],
      "metadata": {
        "colab": {
          "base_uri": "https://localhost:8080/"
        },
        "id": "RF6p-kdTazD4",
        "outputId": "edf59566-ad46-4dfb-c06a-84197eccb722"
      },
      "execution_count": null,
      "outputs": [
        {
          "output_type": "stream",
          "name": "stdout",
          "text": [
            " Training logistic regression ...\n"
          ]
        },
        {
          "output_type": "stream",
          "name": "stderr",
          "text": [
            "/usr/local/lib/python3.7/dist-packages/sklearn/linear_model/_logistic.py:818: ConvergenceWarning: lbfgs failed to converge (status=1):\n",
            "STOP: TOTAL NO. of ITERATIONS REACHED LIMIT.\n",
            "\n",
            "Increase the number of iterations (max_iter) or scale the data as shown in:\n",
            "    https://scikit-learn.org/stable/modules/preprocessing.html\n",
            "Please also refer to the documentation for alternative solver options:\n",
            "    https://scikit-learn.org/stable/modules/linear_model.html#logistic-regression\n",
            "  extra_warning_msg=_LOGISTIC_SOLVER_CONVERGENCE_MSG,\n"
          ]
        },
        {
          "output_type": "stream",
          "name": "stdout",
          "text": [
            "Accuracy:: 0.9931363713074108\n"
          ]
        }
      ]
    },
    {
      "cell_type": "code",
      "source": [
        "\n"
      ],
      "metadata": {
        "id": "AZtkFUmlrJA9"
      },
      "execution_count": null,
      "outputs": []
    },
    {
      "cell_type": "code",
      "source": [
        "train_xgb(X_train, Y_train, X_test, Y_test)"
      ],
      "metadata": {
        "colab": {
          "base_uri": "https://localhost:8080/"
        },
        "id": "JbLK1WUha542",
        "outputId": "5be21780-c977-4fd7-d4e4-81911b2e0430"
      },
      "execution_count": null,
      "outputs": [
        {
          "output_type": "stream",
          "name": "stdout",
          "text": [
            " XGBoost Training !!!\n",
            "Accuracy:: 0.9932279342326847\n"
          ]
        }
      ]
    },
    {
      "cell_type": "code",
      "source": [
        "from imblearn.over_sampling import SVMSMOTE\n",
        "oversample = SVMSMOTE(sampling_strategy=0.1)\n",
        "x, y = oversample.fit_resample(x, y)"
      ],
      "metadata": {
        "id": "1uIscKOgLXPg"
      },
      "execution_count": null,
      "outputs": []
    },
    {
      "cell_type": "code",
      "source": [
        "X_train, X_test, Y_train, Y_test = train_test_split(x, y, test_size=0.33, random_state=42)"
      ],
      "metadata": {
        "id": "LGxPGT6TMxzD"
      },
      "execution_count": null,
      "outputs": []
    },
    {
      "cell_type": "code",
      "source": [
        "train_catboost(X_train, Y_train, X_test, Y_test)"
      ],
      "metadata": {
        "id": "E_EyKxU5a-yC",
        "colab": {
          "base_uri": "https://localhost:8080/",
          "height": 108,
          "referenced_widgets": [
            "0afda91dd2e2421c811cb7501caef21d"
          ]
        },
        "outputId": "b7583d29-ce27-46b2-cf0d-696e608119e6"
      },
      "execution_count": null,
      "outputs": [
        {
          "output_type": "display_data",
          "data": {
            "text/plain": [
              "MetricVisualizer(layout=Layout(align_self='stretch', height='500px'))"
            ],
            "application/vnd.jupyter.widget-view+json": {
              "version_major": 2,
              "version_minor": 0,
              "model_id": "0afda91dd2e2421c811cb7501caef21d"
            }
          },
          "metadata": {}
        },
        {
          "output_type": "stream",
          "name": "stdout",
          "text": [
            "0.9934505578157036\n",
            "0.6632124352331606\n",
            "0.533798775265844\n",
            "Accuracy:99.35 %\n",
            "Standard Deviation:0.00 %\n"
          ]
        }
      ]
    },
    {
      "cell_type": "code",
      "source": [
        "## FC network \n",
        "import torch\n",
        "from torch import nn\n",
        "from torchvision import transforms\n",
        "\n",
        "class FCNetwork(nn.Module):\n",
        "    def __init__(self, in_feat, num_class):\n",
        "        super().__init__()\n",
        "        \n",
        "        # define the layers\n",
        "        self.layers = nn.Sequential(\n",
        "            nn.Linear(in_feat, 256),\n",
        "\t\t\tnn.BatchNorm1d(256, momentum=0.1),\n",
        "            nn.ReLU(),\n",
        "\t\t\tnn.Dropout(p=0.2),\n",
        "            nn.Linear(256, 512),\n",
        "\t\t\tnn.BatchNorm1d(512, momentum=0.1),\n",
        "            nn.ReLU(),\n",
        "\t\t\tnn.Dropout(p=0.2),\n",
        "\t\t\tnn.Linear(512, num_class),\n",
        "\t\t\tnn.Softmax(dim=1)\n",
        "        )\n",
        "    \n",
        "    def forward(self, x):\n",
        "        # forward pass\n",
        "        # x = torch.sigmoid(self.layers(x))\n",
        "        x = self.layers(x)\n",
        "        return x\t\n",
        "\t\n",
        "def next_batch(inputs, targets, batchSize):\n",
        "\t# loop over the dataset\n",
        "\tfor i in range(0, inputs.shape[0], batchSize):\n",
        "\t\t# yield a tuple of the current batched data and labels\n",
        "\t\tyield (inputs[i:i + batchSize], targets[i:i + batchSize])"
      ],
      "metadata": {
        "id": "Glv9-Oq_SbAr"
      },
      "execution_count": null,
      "outputs": []
    },
    {
      "cell_type": "code",
      "source": [
        "# determine the device we will be using for training\n",
        "DEVICE = \"cuda\" if torch.cuda.is_available() else \"cpu\"\n",
        "DEVICE"
      ],
      "metadata": {
        "colab": {
          "base_uri": "https://localhost:8080/",
          "height": 36
        },
        "id": "mo0J_ct5hGzM",
        "outputId": "38a64b19-5f35-4994-b387-4f955930ff00"
      },
      "execution_count": null,
      "outputs": [
        {
          "output_type": "execute_result",
          "data": {
            "text/plain": [
              "'cuda'"
            ],
            "application/vnd.google.colaboratory.intrinsic+json": {
              "type": "string"
            }
          },
          "metadata": {},
          "execution_count": 62
        }
      ]
    },
    {
      "cell_type": "code",
      "source": [
        "X_train = x.to_numpy()\n",
        "df_test['deck_risk'] = df_test['deck_risk'].map({'Yes':1, 'No':0})\n",
        "df_test['oe_constraint'] = df_test['oe_constraint'].map({'Yes':1, 'No':0})\n",
        "df_test['ppap_risk'] = df_test['ppap_risk'].map({'Yes':1, 'No':0})\n",
        "df_test['stop_auto_buy'] = df_test['stop_auto_buy'].map({'Yes':1, 'No':0})\n",
        "df_test['potential_issue'] = df_test['potential_issue'].map({'Yes':1, 'No':0})\n",
        "df_test['went_on_backorder'] = df_test['went_on_backorder'].map({'Yes':1, 'No':0})\n",
        "x_test = df_test.drop([\"went_on_backorder\",\"sku\",\"rev_stop\",\"lead_time\",\"forecast_9_month\",\"perf_12_month_avg\",\"oe_constraint\"], axis=1)\n",
        "Y_train = y\n",
        "X_test = x_test.to_numpy()\n",
        "Y_test = df_test[\"went_on_backorder\"]\n",
        "x_test.info()\n",
        "\n",
        "# y = y.to_numpy()\n",
        "# X_train, X_test, Y_train, Y_test = train_test_split(x, y, test_size=0.33, random_state=42)"
      ],
      "metadata": {
        "colab": {
          "base_uri": "https://localhost:8080/"
        },
        "id": "eqX3hnXbVWBN",
        "outputId": "c1ff91db-137b-48fc-b45f-3ed824cfeba5"
      },
      "execution_count": null,
      "outputs": [
        {
          "output_type": "stream",
          "name": "stdout",
          "text": [
            "<class 'pandas.core.frame.DataFrame'>\n",
            "RangeIndex: 242076 entries, 0 to 242075\n",
            "Data columns (total 16 columns):\n",
            " #   Column            Non-Null Count   Dtype  \n",
            "---  ------            --------------   -----  \n",
            " 0   national_inv      242075 non-null  float64\n",
            " 1   in_transit_qty    242075 non-null  float64\n",
            " 2   forecast_3_month  242075 non-null  float64\n",
            " 3   forecast_6_month  242075 non-null  float64\n",
            " 4   sales_1_month     242075 non-null  float64\n",
            " 5   sales_3_month     242075 non-null  float64\n",
            " 6   sales_6_month     242075 non-null  float64\n",
            " 7   sales_9_month     242075 non-null  float64\n",
            " 8   min_bank          242075 non-null  float64\n",
            " 9   potential_issue   0 non-null       float64\n",
            " 10  pieces_past_due   242075 non-null  float64\n",
            " 11  perf_6_month_avg  242075 non-null  float64\n",
            " 12  local_bo_qty      242075 non-null  float64\n",
            " 13  deck_risk         0 non-null       float64\n",
            " 14  ppap_risk         0 non-null       float64\n",
            " 15  stop_auto_buy     0 non-null       float64\n",
            "dtypes: float64(16)\n",
            "memory usage: 29.6 MB\n"
          ]
        }
      ]
    },
    {
      "cell_type": "code",
      "source": [
        "def train_FCnetwork(train_X,train_Y,val_X,val_Y):\n",
        "\n",
        "\tBATCH_SIZE = 16\n",
        "\tEPOCHS = 200\n",
        "\tLR = 0\n",
        "\tPATIENCE = 5\n",
        "\tpatience = 0\n",
        "\tearly_stopping =True\n",
        "\tnum_class= 2\n",
        "\n",
        "\t(trainX, testX, trainY, testY) = train_test_split(train_X, train_Y,test_size=0.15, random_state=95)\n",
        "\ttrainX = torch.from_numpy(trainX)\n",
        "\ttestX = torch.from_numpy(testX)\n",
        "\ttrainY = torch.from_numpy(trainY.to_numpy())\n",
        "\ttestY = torch.from_numpy(testY.to_numpy())\n",
        "\tval_X = torch.from_numpy(val_X)\n",
        "\tval_Y = torch.from_numpy(val_Y.to_numpy())\n",
        "\n",
        "\tmean , std = trainX.mean() , trainX.std()\n",
        "\ttrainX = (trainX - mean)/ std\n",
        "\ttestX = (testX - mean)/ std\n",
        "\ttrainX.Normalize(mean, std)\n",
        "\t# import pdb; pdb.set_trace()\n",
        "\tfc_model= FCNetwork(in_feat=trainX.shape[1], num_class=num_class).to(DEVICE)\n",
        "\tprint(fc_model)\n",
        "\t# initialize optimizer and loss function\n",
        "\t# opt = SGD(fc_model.parameters(), lr=LR)\n",
        "\tlossFunc = nn.CrossEntropyLoss()\n",
        "\tfirst_x, first_y = testX[:16], testY[:16]\n",
        "\tmin_loss= lossFunc(fc_model(first_x.to(DEVICE)),first_y.to(DEVICE).long()).item()\n",
        "\tprint(\"Starting with val loss \", min_loss)\n",
        "\t# loop through the epochs\n",
        "\ttrainTemplate = \"epoch: {} train loss: {:.3f} train accuracy: {:.3f}\"\n",
        "\tfor epoch in range(0, EPOCHS):\n",
        "\t\t# initialize tracker variables and set our model to trainable\n",
        "\t\tprint(\"[INFO] epoch: {}...\".format(epoch + 1))\n",
        "\t\ttrainLoss = 0\n",
        "\t\ttrainAcc = 0\n",
        "\t\tsamples = 0\n",
        "\t\tfc_model.train()\n",
        "\n",
        "\t\tif epoch == 1:\n",
        "\t\t\tLR = 0.00003\n",
        "\t\t\tprint('[+] set lr={}'.format(LR))\n",
        "\t\tif patience == PATIENCE:\n",
        "\t\t\tpatience = 0\n",
        "\t\t\tfc_model.load_state_dict(torch.load('{}/mpl_model.pth'.format('./models')))\n",
        "\t\t\tLR = LR / 10\n",
        "\t\t\tprint('[+] set lr={}'.format(LR))\n",
        "\t\tif epoch == 0:\n",
        "\t\t\tLR = 0.001\n",
        "\t\t\tprint('[+] set lr={}'.format(LR))\n",
        "\t\t\topt = torch.optim.Adam(fc_model.parameters(), lr=LR)\n",
        "\t\telse:\n",
        "\t\t\topt = torch.optim.Adam(fc_model.parameters(), lr=LR, weight_decay=0.0001)\n",
        "\t\t# loop over the current batch of data\n",
        "\t\tfor (batchX, batchY) in next_batch(trainX, trainY, BATCH_SIZE):\n",
        "\t\t\t# flash data to the current device, run it through our\n",
        "\t\t\t# model, and calculate loss\n",
        "\t\t\t(batchX, batchY) = (batchX.to(DEVICE), batchY.to(DEVICE))\n",
        "\t\t\tpredictions = fc_model(batchX)\n",
        "\t\t\tloss = lossFunc(predictions, batchY.long())\n",
        "\t\t\t# zero the gradients accumulated from the previous steps,\n",
        "\t\t\t# perform backpropagation, and update model parameters\n",
        "\t\t\topt.zero_grad()\n",
        "\t\t\tloss.backward()\n",
        "\t\t\topt.step()\n",
        "\t\t\t# update training loss, accuracy, and the number of samples\n",
        "\t\t\t# visited\n",
        "\t\t\t# trainLoss += loss.item() * batchY.size(0)\n",
        "\t\t\ttrainLoss += loss.item()\n",
        "\t\t\ttrainAcc += (predictions.max(1)[1] == batchY).sum().item()\n",
        "\t\t\tsamples += batchY.size(0)\n",
        "\t\t# display model progress on the current training batch\n",
        "\t\t\t# import pdb; pdb.set_trace()\n",
        "\t\tprint(trainTemplate.format(epoch + 1, (trainLoss / samples),\n",
        "\t\t\t(trainAcc / samples)))\n",
        "\n",
        "\t\t# initialize tracker variables for testing, then set our model to\n",
        "\t\t# evaluation mode\n",
        "\t\ttestLoss = 0\n",
        "\t\ttestAcc = 0\n",
        "\t\tsamples = 0\n",
        "\t\tfc_model.eval()\n",
        "\t\ttestTemplate = \"epoch: {} test loss: {:.3f} test accuracy: {:.3f}\"\n",
        "\t\t# initialize a no-gradient context\n",
        "\t\twith torch.no_grad():\n",
        "\t\t\t# loop over the current batch of test data\n",
        "\t\t\tfor (batchX, batchY) in next_batch(val_X, val_Y, BATCH_SIZE):\n",
        "\t\t\t\t# flash the data to the current device\n",
        "\t\t\t\t(batchX, batchY) = (batchX.to(DEVICE), batchY.to(DEVICE))\n",
        "\t\t\t\t# run data through our model and calculate loss\n",
        "\t\t\t\tpredictions = fc_model(batchX)\n",
        "\t\t\t\tloss = lossFunc(predictions, batchY.long())\n",
        "\t\t\t\t# update test loss, accuracy, and the number of\n",
        "\t\t\t\t# samples visited\n",
        "\t\t\t\ttestLoss += loss.item() * batchY.size(0)\n",
        "\t\t\t\ttestAcc += (predictions.max(1)[1] == batchY).sum().item()\n",
        "\t\t\t\tsamples += batchY.size(0)\n",
        "\t\t\t# display model progress on the current test batch\n",
        "\t\t\t\n",
        "\t\t\tprint(testTemplate.format(epoch + 1, (testLoss / samples),\n",
        "\t\t\t\t(testAcc / samples)))\n",
        "\t\t\t# import pdb;pdb.set_trace()\n",
        "\t\t\tprint(\"\")\n",
        "\t\t\tif (testLoss / samples) < min_loss:\n",
        "\t\t\t\ttorch.save(fc_model.state_dict(), '{}/mpl_model.pth'.format('./models'))\n",
        "\t\t\t\tprint('[+] val loss improved from {} to {}. Saved!'.format(min_loss, testLoss/samples))\n",
        "\t\t\t\tmin_loss = testLoss / samples\n",
        "\t\t\t\tpatience = 0\n",
        "\t\t\telse:\n",
        "\t\t\t\tpatience +=1\n",
        "\t\t\n",
        "\t\tif early_stopping:\n",
        "\t\t\tif LR < 1e-15:\n",
        "\t\t\t\tbreak"
      ],
      "metadata": {
        "id": "DEz6r8nPhGzX"
      },
      "execution_count": null,
      "outputs": []
    },
    {
      "cell_type": "code",
      "source": [
        "import os\n",
        "os.mkdir(\"./models\")\n",
        "train_FCnetwork(X_train, Y_train, X_test, Y_test)"
      ],
      "metadata": {
        "colab": {
          "base_uri": "https://localhost:8080/",
          "height": 1000
        },
        "id": "IVwBLq0nSauZ",
        "outputId": "f2e56940-76ee-45bf-c08b-9795a8792ed7"
      },
      "execution_count": null,
      "outputs": [
        {
          "output_type": "stream",
          "name": "stdout",
          "text": [
            "FCNetwork(\n",
            "  (layers): Sequential(\n",
            "    (0): Linear(in_features=16, out_features=256, bias=True)\n",
            "    (1): BatchNorm1d(256, eps=1e-05, momentum=0.1, affine=True, track_running_stats=True)\n",
            "    (2): ReLU()\n",
            "    (3): Dropout(p=0.2, inplace=False)\n",
            "    (4): Linear(in_features=256, out_features=512, bias=True)\n",
            "    (5): BatchNorm1d(512, eps=1e-05, momentum=0.1, affine=True, track_running_stats=True)\n",
            "    (6): ReLU()\n",
            "    (7): Dropout(p=0.2, inplace=False)\n",
            "    (8): Linear(in_features=512, out_features=2, bias=True)\n",
            "    (9): Softmax(dim=1)\n",
            "  )\n",
            ")\n",
            "Starting with val loss  0.7307068109512329\n",
            "[INFO] epoch: 1...\n",
            "[+] set lr=0.001\n",
            "epoch: 1 train loss: 0.020 train accuracy: 0.993\n",
            "epoch: 1 test loss: nan test accuracy: 0.000\n",
            "\n",
            "[INFO] epoch: 2...\n",
            "[+] set lr=3e-05\n",
            "epoch: 2 train loss: 0.020 train accuracy: 0.993\n",
            "epoch: 2 test loss: nan test accuracy: 0.000\n",
            "\n",
            "[INFO] epoch: 3...\n",
            "epoch: 3 train loss: 0.020 train accuracy: 0.993\n",
            "epoch: 3 test loss: nan test accuracy: 0.000\n",
            "\n",
            "[INFO] epoch: 4...\n",
            "epoch: 4 train loss: 0.020 train accuracy: 0.993\n",
            "epoch: 4 test loss: nan test accuracy: 0.000\n",
            "\n",
            "[INFO] epoch: 5...\n",
            "epoch: 5 train loss: 0.020 train accuracy: 0.993\n",
            "epoch: 5 test loss: nan test accuracy: 0.000\n",
            "\n",
            "[INFO] epoch: 6...\n"
          ]
        },
        {
          "output_type": "error",
          "ename": "FileNotFoundError",
          "evalue": "ignored",
          "traceback": [
            "\u001b[0;31m---------------------------------------------------------------------------\u001b[0m",
            "\u001b[0;31mFileNotFoundError\u001b[0m                         Traceback (most recent call last)",
            "\u001b[0;32m<ipython-input-65-14969ac39646>\u001b[0m in \u001b[0;36m<module>\u001b[0;34m\u001b[0m\n\u001b[1;32m      1\u001b[0m \u001b[0;32mimport\u001b[0m \u001b[0mos\u001b[0m\u001b[0;34m\u001b[0m\u001b[0;34m\u001b[0m\u001b[0m\n\u001b[1;32m      2\u001b[0m \u001b[0;31m# os.mkdir(\"./models\")\u001b[0m\u001b[0;34m\u001b[0m\u001b[0;34m\u001b[0m\u001b[0;34m\u001b[0m\u001b[0m\n\u001b[0;32m----> 3\u001b[0;31m \u001b[0mtrain_FCnetwork\u001b[0m\u001b[0;34m(\u001b[0m\u001b[0mX_train\u001b[0m\u001b[0;34m,\u001b[0m \u001b[0mY_train\u001b[0m\u001b[0;34m,\u001b[0m \u001b[0mX_test\u001b[0m\u001b[0;34m,\u001b[0m \u001b[0mY_test\u001b[0m\u001b[0;34m)\u001b[0m\u001b[0;34m\u001b[0m\u001b[0;34m\u001b[0m\u001b[0m\n\u001b[0m",
            "\u001b[0;32m<ipython-input-64-8c5c68d85d29>\u001b[0m in \u001b[0;36mtrain_FCnetwork\u001b[0;34m(train_X, train_Y, val_X, val_Y)\u001b[0m\n\u001b[1;32m     47\u001b[0m                 \u001b[0;32mif\u001b[0m \u001b[0mpatience\u001b[0m \u001b[0;34m==\u001b[0m \u001b[0mPATIENCE\u001b[0m\u001b[0;34m:\u001b[0m\u001b[0;34m\u001b[0m\u001b[0;34m\u001b[0m\u001b[0m\n\u001b[1;32m     48\u001b[0m                         \u001b[0mpatience\u001b[0m \u001b[0;34m=\u001b[0m \u001b[0;36m0\u001b[0m\u001b[0;34m\u001b[0m\u001b[0;34m\u001b[0m\u001b[0m\n\u001b[0;32m---> 49\u001b[0;31m                         \u001b[0mfc_model\u001b[0m\u001b[0;34m.\u001b[0m\u001b[0mload_state_dict\u001b[0m\u001b[0;34m(\u001b[0m\u001b[0mtorch\u001b[0m\u001b[0;34m.\u001b[0m\u001b[0mload\u001b[0m\u001b[0;34m(\u001b[0m\u001b[0;34m'{}/mpl_model.pth'\u001b[0m\u001b[0;34m.\u001b[0m\u001b[0mformat\u001b[0m\u001b[0;34m(\u001b[0m\u001b[0;34m'./models'\u001b[0m\u001b[0;34m)\u001b[0m\u001b[0;34m)\u001b[0m\u001b[0;34m)\u001b[0m\u001b[0;34m\u001b[0m\u001b[0;34m\u001b[0m\u001b[0m\n\u001b[0m\u001b[1;32m     50\u001b[0m                         \u001b[0mLR\u001b[0m \u001b[0;34m=\u001b[0m \u001b[0mLR\u001b[0m \u001b[0;34m/\u001b[0m \u001b[0;36m10\u001b[0m\u001b[0;34m\u001b[0m\u001b[0;34m\u001b[0m\u001b[0m\n\u001b[1;32m     51\u001b[0m                         \u001b[0mprint\u001b[0m\u001b[0;34m(\u001b[0m\u001b[0;34m'[+] set lr={}'\u001b[0m\u001b[0;34m.\u001b[0m\u001b[0mformat\u001b[0m\u001b[0;34m(\u001b[0m\u001b[0mLR\u001b[0m\u001b[0;34m)\u001b[0m\u001b[0;34m)\u001b[0m\u001b[0;34m\u001b[0m\u001b[0;34m\u001b[0m\u001b[0m\n",
            "\u001b[0;32m/usr/local/lib/python3.7/dist-packages/torch/serialization.py\u001b[0m in \u001b[0;36mload\u001b[0;34m(f, map_location, pickle_module, **pickle_load_args)\u001b[0m\n\u001b[1;32m    697\u001b[0m         \u001b[0mpickle_load_args\u001b[0m\u001b[0;34m[\u001b[0m\u001b[0;34m'encoding'\u001b[0m\u001b[0;34m]\u001b[0m \u001b[0;34m=\u001b[0m \u001b[0;34m'utf-8'\u001b[0m\u001b[0;34m\u001b[0m\u001b[0;34m\u001b[0m\u001b[0m\n\u001b[1;32m    698\u001b[0m \u001b[0;34m\u001b[0m\u001b[0m\n\u001b[0;32m--> 699\u001b[0;31m     \u001b[0;32mwith\u001b[0m \u001b[0m_open_file_like\u001b[0m\u001b[0;34m(\u001b[0m\u001b[0mf\u001b[0m\u001b[0;34m,\u001b[0m \u001b[0;34m'rb'\u001b[0m\u001b[0;34m)\u001b[0m \u001b[0;32mas\u001b[0m \u001b[0mopened_file\u001b[0m\u001b[0;34m:\u001b[0m\u001b[0;34m\u001b[0m\u001b[0;34m\u001b[0m\u001b[0m\n\u001b[0m\u001b[1;32m    700\u001b[0m         \u001b[0;32mif\u001b[0m \u001b[0m_is_zipfile\u001b[0m\u001b[0;34m(\u001b[0m\u001b[0mopened_file\u001b[0m\u001b[0;34m)\u001b[0m\u001b[0;34m:\u001b[0m\u001b[0;34m\u001b[0m\u001b[0;34m\u001b[0m\u001b[0m\n\u001b[1;32m    701\u001b[0m             \u001b[0;31m# The zipfile reader is going to advance the current file position.\u001b[0m\u001b[0;34m\u001b[0m\u001b[0;34m\u001b[0m\u001b[0;34m\u001b[0m\u001b[0m\n",
            "\u001b[0;32m/usr/local/lib/python3.7/dist-packages/torch/serialization.py\u001b[0m in \u001b[0;36m_open_file_like\u001b[0;34m(name_or_buffer, mode)\u001b[0m\n\u001b[1;32m    228\u001b[0m \u001b[0;32mdef\u001b[0m \u001b[0m_open_file_like\u001b[0m\u001b[0;34m(\u001b[0m\u001b[0mname_or_buffer\u001b[0m\u001b[0;34m,\u001b[0m \u001b[0mmode\u001b[0m\u001b[0;34m)\u001b[0m\u001b[0;34m:\u001b[0m\u001b[0;34m\u001b[0m\u001b[0;34m\u001b[0m\u001b[0m\n\u001b[1;32m    229\u001b[0m     \u001b[0;32mif\u001b[0m \u001b[0m_is_path\u001b[0m\u001b[0;34m(\u001b[0m\u001b[0mname_or_buffer\u001b[0m\u001b[0;34m)\u001b[0m\u001b[0;34m:\u001b[0m\u001b[0;34m\u001b[0m\u001b[0;34m\u001b[0m\u001b[0m\n\u001b[0;32m--> 230\u001b[0;31m         \u001b[0;32mreturn\u001b[0m \u001b[0m_open_file\u001b[0m\u001b[0;34m(\u001b[0m\u001b[0mname_or_buffer\u001b[0m\u001b[0;34m,\u001b[0m \u001b[0mmode\u001b[0m\u001b[0;34m)\u001b[0m\u001b[0;34m\u001b[0m\u001b[0;34m\u001b[0m\u001b[0m\n\u001b[0m\u001b[1;32m    231\u001b[0m     \u001b[0;32melse\u001b[0m\u001b[0;34m:\u001b[0m\u001b[0;34m\u001b[0m\u001b[0;34m\u001b[0m\u001b[0m\n\u001b[1;32m    232\u001b[0m         \u001b[0;32mif\u001b[0m \u001b[0;34m'w'\u001b[0m \u001b[0;32min\u001b[0m \u001b[0mmode\u001b[0m\u001b[0;34m:\u001b[0m\u001b[0;34m\u001b[0m\u001b[0;34m\u001b[0m\u001b[0m\n",
            "\u001b[0;32m/usr/local/lib/python3.7/dist-packages/torch/serialization.py\u001b[0m in \u001b[0;36m__init__\u001b[0;34m(self, name, mode)\u001b[0m\n\u001b[1;32m    209\u001b[0m \u001b[0;32mclass\u001b[0m \u001b[0m_open_file\u001b[0m\u001b[0;34m(\u001b[0m\u001b[0m_opener\u001b[0m\u001b[0;34m)\u001b[0m\u001b[0;34m:\u001b[0m\u001b[0;34m\u001b[0m\u001b[0;34m\u001b[0m\u001b[0m\n\u001b[1;32m    210\u001b[0m     \u001b[0;32mdef\u001b[0m \u001b[0m__init__\u001b[0m\u001b[0;34m(\u001b[0m\u001b[0mself\u001b[0m\u001b[0;34m,\u001b[0m \u001b[0mname\u001b[0m\u001b[0;34m,\u001b[0m \u001b[0mmode\u001b[0m\u001b[0;34m)\u001b[0m\u001b[0;34m:\u001b[0m\u001b[0;34m\u001b[0m\u001b[0;34m\u001b[0m\u001b[0m\n\u001b[0;32m--> 211\u001b[0;31m         \u001b[0msuper\u001b[0m\u001b[0;34m(\u001b[0m\u001b[0m_open_file\u001b[0m\u001b[0;34m,\u001b[0m \u001b[0mself\u001b[0m\u001b[0;34m)\u001b[0m\u001b[0;34m.\u001b[0m\u001b[0m__init__\u001b[0m\u001b[0;34m(\u001b[0m\u001b[0mopen\u001b[0m\u001b[0;34m(\u001b[0m\u001b[0mname\u001b[0m\u001b[0;34m,\u001b[0m \u001b[0mmode\u001b[0m\u001b[0;34m)\u001b[0m\u001b[0;34m)\u001b[0m\u001b[0;34m\u001b[0m\u001b[0;34m\u001b[0m\u001b[0m\n\u001b[0m\u001b[1;32m    212\u001b[0m \u001b[0;34m\u001b[0m\u001b[0m\n\u001b[1;32m    213\u001b[0m     \u001b[0;32mdef\u001b[0m \u001b[0m__exit__\u001b[0m\u001b[0;34m(\u001b[0m\u001b[0mself\u001b[0m\u001b[0;34m,\u001b[0m \u001b[0;34m*\u001b[0m\u001b[0margs\u001b[0m\u001b[0;34m)\u001b[0m\u001b[0;34m:\u001b[0m\u001b[0;34m\u001b[0m\u001b[0;34m\u001b[0m\u001b[0m\n",
            "\u001b[0;31mFileNotFoundError\u001b[0m: [Errno 2] No such file or directory: './models/mpl_model.pth'"
          ]
        }
      ]
    },
    {
      "cell_type": "code",
      "source": [],
      "metadata": {
        "id": "XUN9EV01Sfj7"
      },
      "execution_count": null,
      "outputs": []
    }
  ]
}